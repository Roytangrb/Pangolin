{
 "cells": [
  {
   "cell_type": "markdown",
   "metadata": {},
   "source": [
    "## Output data for global seizure map"
   ]
  },
  {
   "cell_type": "code",
   "execution_count": 24,
   "metadata": {},
   "outputs": [
    {
     "name": "stdout",
     "output_type": "stream",
     "text": [
      "1104\n"
     ]
    }
   ],
   "source": [
    "import numpy as np \n",
    "import pandas as pd\n",
    "from collections import Counter\n",
    "import matplotlib.pyplot as plt\n",
    "\n",
    "%matplotlib inline\n",
    "\n",
    "def count_unique(series):\n",
    "    print(Counter(list(series)))\n",
    "    return Counter(list(series))\n",
    "def trim(series):\n",
    "    series.replace('^\\s+', '', regex=True, inplace=True) #front\n",
    "    series.replace('\\s+$', '', regex=True, inplace=True) #end\n",
    "def get_valid_numeric(df, series):\n",
    "    print(df[pd.to_numeric(df[series], errors='coerce').isnull()][series])\n",
    "    return df[~pd.to_numeric(df[series], errors='coerce').isnull()]\n",
    "def create_month_day(df):\n",
    "    df['Month'] = df['Date'].map(lambda x: x.month)\n",
    "    df['Day'] = df['Date'].map(lambda x: x.day)\n",
    "    \n",
    "df = pd.read_excel('./Pangolin seizures_EIA_030919.xlsx')\n",
    "print(len(df))\n",
    "ESTNUM = 'Estimated number of pangolins from whole and/or scales together (for scales, rough estimate of 1 kg scales per 5 kg animal) REFERENCE: COLUMN AB OR COLUMN AE. (If scales co-occur with whole pangolins, judge on case-by-case basis but do not duplicate numbers)'\n",
    "ESTWEIGHT = 'Estimated weight (kg) - If number of whole pangolins reported but weight not given, estimate 5 kg / pangolin \\n(rough estimate; median weight for Asian species)'\n",
    "SCALESWEIGHT = 'Scales weight (kg). Indicate \"Y\" if seized, but no weight given'\n",
    "VIA = 'Via (coming from, before seized)'\n",
    "SCALESWEIGHT = 'Scales weight (kg). Indicate \"Y\" if seized, but no weight given'"
   ]
  },
  {
   "cell_type": "code",
   "execution_count": 2,
   "metadata": {},
   "outputs": [
    {
     "data": {
      "text/plain": [
       "Index(['Harvard Style Reference (for external sources), may be supported by other communications and sources',\n",
       "       'Taxon', 'Type of Incident', 'Location', 'Latitude', 'Longitude',\n",
       "       'Country', 'Name of incident ', 'Description of incident',\n",
       "       'Major \\n(= or > 500 kg weight / estimated weight /scales weight)',\n",
       "       'Year', 'Date', 'Transit type', 'Method of Concealment (MoC)',\n",
       "       'MoC Description ', 'Origin', 'Confirmed/unconfirmed',\n",
       "       'Via (coming from, before seized)', 'C/UC',\n",
       "       'Outbound (going to, before seized)', 'C/UC.1', 'Destination', 'C/UC.2',\n",
       "       'Carcass number', 'Live number',\n",
       "       'Whole pangolins (live + dead OR reported without details)',\n",
       "       'Reported weight (kg)',\n",
       "       'Estimated weight (kg) - If number of whole pangolins reported but weight not given, estimate 5 kg / pangolin \\n(rough estimate; median weight for Asian species)',\n",
       "       'Scales weight (kg). Indicate \"Y\" if seized, but no weight given',\n",
       "       'Estimated number of pangolins from whole and/or scales together (for scales, rough estimate of 1 kg scales per 5 kg animal) REFERENCE: COLUMN AB OR COLUMN AE. (If scales co-occur with whole pangolins, judge on case-by-case basis but do not duplicate numbers)',\n",
       "       'Description (if necessary)', 'Outcome', 'Outcome details',\n",
       "       'Update outcome reference'],\n",
       "      dtype='object')"
      ]
     },
     "execution_count": 2,
     "metadata": {},
     "output_type": "execute_result"
    }
   ],
   "source": [
    "df.columns"
   ]
  },
  {
   "cell_type": "code",
   "execution_count": 25,
   "metadata": {
    "collapsed": true
   },
   "outputs": [],
   "source": [
    "trim(df[ESTNUM])\n",
    "trim(df['Country'])\n",
    "trim(df['Origin'])\n",
    "df['Origin'].replace('', 'Unspecified', inplace=True)\n",
    "df['Origin'].fillna('Unspecified', inplace=True)\n",
    "\n",
    "trim(df[VIA])"
   ]
  },
  {
   "cell_type": "code",
   "execution_count": 11,
   "metadata": {},
   "outputs": [
    {
     "name": "stdout",
     "output_type": "stream",
     "text": [
      "Counter({2016: 180, 2018: 161, 2015: 152, 2017: 117, 2014: 104, 2019: 83, 2012: 75, 2013: 67, 2011: 58, 2010: 30, 2009: 26, 2008: 8, 2007: 6, 2001: 5, 2004: 5, 2006: 5, 2003: 4, 2002: 3, 2005: 3, 2000: 2, 'SPLIT 2015-2016': 2, 'SPLIT 2018-2019': 2, 'SPLIT 2005-2006': 1, '2009-2015': 1, 'SPLIT 2010-2011': 1, 'SPLIT 2011-2012': 1, 'SPLIT 2012-2014': 1, '2015-2017': 1})\n"
     ]
    },
    {
     "data": {
      "text/plain": [
       "2000"
      ]
     },
     "execution_count": 11,
     "metadata": {},
     "output_type": "execute_result"
    }
   ],
   "source": [
    "years = list(count(df['Year']))\n",
    "years[0]"
   ]
  },
  {
   "cell_type": "code",
   "execution_count": 27,
   "metadata": {},
   "outputs": [],
   "source": [
    "#Location\tLatitude\tLongitude\tCountry ESTNUM (Groupby year)\n",
    "columns = ['Location', 'Latitude', 'Longitude',\n",
    "       'Country', ESTNUM]\n",
    "count = 0\n",
    "for year in years:\n",
    "    df_year = df[df['Year']==year][columns]\n",
    "    df_year.columns = ['Location', 'Latitude', 'Longitude',\n",
    "       'Country', 'ESTNUM']\n",
    "    count = count + len(df_year)\n",
    "    df_year.to_csv('./byyear/EIA-seizure-{}.csv'.format(year))"
   ]
  },
  {
   "cell_type": "code",
   "execution_count": 20,
   "metadata": {},
   "outputs": [
    {
     "data": {
      "text/plain": [
       "1104"
      ]
     },
     "execution_count": 20,
     "metadata": {},
     "output_type": "execute_result"
    }
   ],
   "source": [
    "count"
   ]
  },
  {
   "cell_type": "markdown",
   "metadata": {},
   "source": [
    "### AGG to country level"
   ]
  },
  {
   "cell_type": "code",
   "execution_count": 31,
   "metadata": {},
   "outputs": [
    {
     "name": "stdout",
     "output_type": "stream",
     "text": [
      "1          \n",
      "28         \n",
      "54         \n",
      "64         \n",
      "77         \n",
      "78         \n",
      "82         \n",
      "97         \n",
      "106        \n",
      "112     NaN\n",
      "124        \n",
      "126        \n",
      "132     NaN\n",
      "160        \n",
      "181        \n",
      "201        \n",
      "208        \n",
      "210        \n",
      "218        \n",
      "221     NaN\n",
      "223        \n",
      "227        \n",
      "252        \n",
      "257        \n",
      "262        \n",
      "265        \n",
      "273     NaN\n",
      "327        \n",
      "332        \n",
      "333        \n",
      "       ... \n",
      "790     NaN\n",
      "806     NaN\n",
      "844     NaN\n",
      "853     NaN\n",
      "859     NaN\n",
      "861     NaN\n",
      "886     NaN\n",
      "909     NaN\n",
      "913     NaN\n",
      "914     NaN\n",
      "918     NaN\n",
      "932     NaN\n",
      "933     NaN\n",
      "973     NaN\n",
      "978     NaN\n",
      "990     NaN\n",
      "994     NaN\n",
      "1007    NaN\n",
      "1020    NaN\n",
      "1024    NaN\n",
      "1025    NaN\n",
      "1033    NaN\n",
      "1038    NaN\n",
      "1043    NaN\n",
      "1064    NaN\n",
      "1070    NaN\n",
      "1086    NaN\n",
      "1090    NaN\n",
      "1095    NaN\n",
      "1100    NaN\n",
      "Name: Estimated number of pangolins from whole and/or scales together (for scales, rough estimate of 1 kg scales per 5 kg animal) REFERENCE: COLUMN AB OR COLUMN AE. (If scales co-occur with whole pangolins, judge on case-by-case basis but do not duplicate numbers), Length: 98, dtype: object\n"
     ]
    }
   ],
   "source": [
    "df_valid_ESTNUM = get_valid_numeric(df, ESTNUM)"
   ]
  },
  {
   "cell_type": "code",
   "execution_count": 36,
   "metadata": {},
   "outputs": [],
   "source": [
    "df_valid_ESTNUM.groupby(['Year', 'Country']).sum()[ESTNUM].unstack().T#.to_csv('./agg-country-by-year.csv')"
   ]
  },
  {
   "cell_type": "code",
   "execution_count": null,
   "metadata": {
    "collapsed": true
   },
   "outputs": [],
   "source": []
  }
 ],
 "metadata": {
  "kernelspec": {
   "display_name": "Python 3",
   "language": "python",
   "name": "python3"
  },
  "language_info": {
   "codemirror_mode": {
    "name": "ipython",
    "version": 3
   },
   "file_extension": ".py",
   "mimetype": "text/x-python",
   "name": "python",
   "nbconvert_exporter": "python",
   "pygments_lexer": "ipython3",
   "version": "3.6.1"
  }
 },
 "nbformat": 4,
 "nbformat_minor": 2
}
