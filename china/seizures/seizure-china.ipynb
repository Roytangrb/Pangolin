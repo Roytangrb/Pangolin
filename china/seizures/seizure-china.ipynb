{
 "cells": [
  {
   "cell_type": "markdown",
   "metadata": {},
   "source": [
    "## Pangolin Seizure Analysis China"
   ]
  },
  {
   "cell_type": "code",
   "execution_count": 17,
   "metadata": {
    "collapsed": true
   },
   "outputs": [],
   "source": [
    "import numpy as np\n",
    "import pandas as pd\n",
    "import matplotlib.pyplot as plt\n",
    "from collections import Counter\n",
    "\n",
    "%matplotlib inline"
   ]
  },
  {
   "cell_type": "code",
   "execution_count": 18,
   "metadata": {},
   "outputs": [
    {
     "data": {
      "text/plain": [
       "Index(['Year', 'Month', 'Day', 'Seizure Location (Country)',\n",
       "       'Seizure Location (Province/ District)',\n",
       "       'Seizure Location (City/Location)', 'Detection Agents', 'From',\n",
       "       'Transits', 'To', 'Origin', 'Transportation (Method of concealment)',\n",
       "       'Purpose', 'Worth (seizure)', 'Worth (unit)', 'Sanction',\n",
       "       'Financial penalty (number)', 'Financial penalty (unit)', 'Arrest',\n",
       "       'Nationality of offenders', 'Report By', 'Source (url)', 'Taxon',\n",
       "       'Form (live/frozen/parts)', 'Term (Specimens)', 'Quantity', 'Unit',\n",
       "       'Worth (seizure item)', 'Worth (unit).1', 'Maintainer',\n",
       "       'Original database', 'Memo (anything)'],\n",
       "      dtype='object')"
      ]
     },
     "execution_count": 18,
     "metadata": {},
     "output_type": "execute_result"
    }
   ],
   "source": [
    "df = pd.read_excel('./pangolin-seizures.xlsx')\n",
    "df.columns"
   ]
  },
  {
   "cell_type": "markdown",
   "metadata": {},
   "source": [
    "### Seizure Locations"
   ]
  },
  {
   "cell_type": "code",
   "execution_count": 19,
   "metadata": {
    "collapsed": true
   },
   "outputs": [],
   "source": [
    "df_c_locations = df[['Year', 'Month', 'Day', 'Seizure Location (Country)', 'Seizure Location (Province/ District)', 'Seizure Location (City/Location)']]"
   ]
  },
  {
   "cell_type": "code",
   "execution_count": 20,
   "metadata": {},
   "outputs": [
    {
     "data": {
      "text/html": [
       "<div>\n",
       "<style>\n",
       "    .dataframe thead tr:only-child th {\n",
       "        text-align: right;\n",
       "    }\n",
       "\n",
       "    .dataframe thead th {\n",
       "        text-align: left;\n",
       "    }\n",
       "\n",
       "    .dataframe tbody tr th {\n",
       "        vertical-align: top;\n",
       "    }\n",
       "</style>\n",
       "<table border=\"1\" class=\"dataframe\">\n",
       "  <thead>\n",
       "    <tr style=\"text-align: right;\">\n",
       "      <th></th>\n",
       "      <th>Year</th>\n",
       "      <th>Month</th>\n",
       "      <th>Day</th>\n",
       "      <th>Seizure Location (Country)</th>\n",
       "      <th>Seizure Location (Province/ District)</th>\n",
       "      <th>Seizure Location (City/Location)</th>\n",
       "    </tr>\n",
       "  </thead>\n",
       "  <tbody>\n",
       "    <tr>\n",
       "      <th>0</th>\n",
       "      <td>2019</td>\n",
       "      <td>03</td>\n",
       "      <td>19.0</td>\n",
       "      <td>China</td>\n",
       "      <td>Zhejiang</td>\n",
       "      <td>Pan'an County, Jinhua City</td>\n",
       "    </tr>\n",
       "    <tr>\n",
       "      <th>1</th>\n",
       "      <td>2018</td>\n",
       "      <td>11</td>\n",
       "      <td>29.0</td>\n",
       "      <td>China</td>\n",
       "      <td>Hubei</td>\n",
       "      <td>Lichuan</td>\n",
       "    </tr>\n",
       "    <tr>\n",
       "      <th>2</th>\n",
       "      <td>2012</td>\n",
       "      <td>04</td>\n",
       "      <td>24.0</td>\n",
       "      <td>China</td>\n",
       "      <td>Guangxi</td>\n",
       "      <td>Qinzhou</td>\n",
       "    </tr>\n",
       "    <tr>\n",
       "      <th>3</th>\n",
       "      <td>2018</td>\n",
       "      <td>03</td>\n",
       "      <td>19.0</td>\n",
       "      <td>China</td>\n",
       "      <td>Yunnan</td>\n",
       "      <td>Longling County</td>\n",
       "    </tr>\n",
       "    <tr>\n",
       "      <th>4</th>\n",
       "      <td>2018</td>\n",
       "      <td>10</td>\n",
       "      <td>18.0</td>\n",
       "      <td>China</td>\n",
       "      <td>An'hui</td>\n",
       "      <td>Bozhou</td>\n",
       "    </tr>\n",
       "  </tbody>\n",
       "</table>\n",
       "</div>"
      ],
      "text/plain": [
       "   Year Month   Day Seizure Location (Country)  \\\n",
       "0  2019    03  19.0                      China   \n",
       "1  2018    11  29.0                      China   \n",
       "2  2012    04  24.0                      China   \n",
       "3  2018    03  19.0                      China   \n",
       "4  2018    10  18.0                      China   \n",
       "\n",
       "  Seizure Location (Province/ District) Seizure Location (City/Location)  \n",
       "0                              Zhejiang       Pan'an County, Jinhua City  \n",
       "1                                 Hubei                          Lichuan  \n",
       "2                               Guangxi                          Qinzhou  \n",
       "3                                Yunnan                  Longling County  \n",
       "4                                An'hui                           Bozhou  "
      ]
     },
     "execution_count": 20,
     "metadata": {},
     "output_type": "execute_result"
    }
   ],
   "source": [
    "df_c_locations.head()"
   ]
  },
  {
   "cell_type": "code",
   "execution_count": 21,
   "metadata": {},
   "outputs": [
    {
     "name": "stdout",
     "output_type": "stream",
     "text": [
      "total:  162\n"
     ]
    },
    {
     "data": {
      "text/plain": [
       "[{'name': \"An'hui\", 'value': 2},\n",
       " {'name': 'Chongqin', 'value': 1},\n",
       " {'name': 'Fujian', 'value': 8},\n",
       " {'name': 'Guangdong', 'value': 21},\n",
       " {'name': 'Guangxi', 'value': 17},\n",
       " {'name': 'Hebei', 'value': 1},\n",
       " {'name': 'Hubei', 'value': 4},\n",
       " {'name': 'Hunan', 'value': 5},\n",
       " {'name': 'Jiangxi', 'value': 1},\n",
       " {'name': 'Jilin', 'value': 1},\n",
       " {'name': 'Liaoning', 'value': 1},\n",
       " {'name': 'Neimenggu', 'value': 2},\n",
       " {'name': 'Shanghai', 'value': 2},\n",
       " {'name': 'Sichuan', 'value': 2},\n",
       " {'name': 'Tibet', 'value': 1},\n",
       " {'name': 'Yunnan', 'value': 75},\n",
       " {'name': 'Zhejiang', 'value': 18}]"
      ]
     },
     "execution_count": 21,
     "metadata": {},
     "output_type": "execute_result"
    }
   ],
   "source": [
    "province_count = df_c_locations.groupby('Seizure Location (Province/ District)').count()\n",
    "province_count_json = list()\n",
    "province_count_total = 0\n",
    "for index, row in province_count.iterrows():\n",
    "    province_count_total = province_count_total + row['Seizure Location (Country)']\n",
    "    province_count_json.append({'name': index, 'value':row['Seizure Location (Country)']})\n",
    "print('total: ', province_count_total)\n",
    "province_count_json"
   ]
  },
  {
   "cell_type": "markdown",
   "metadata": {},
   "source": [
    "#### province X term \n",
    "* Method: (One seizure may invovle multiple forms of pangolin/products, one seizure is counted across different if the form/term is involes)\n",
    "* tab(legeng, groups) are : \n",
    "    * dead\n",
    "    * frozen\n",
    "    * live\n",
    "    * parts\n",
    "        * scale\n",
    "        * etc"
   ]
  },
  {
   "cell_type": "code",
   "execution_count": 22,
   "metadata": {},
   "outputs": [
    {
     "data": {
      "text/html": [
       "<div>\n",
       "<style>\n",
       "    .dataframe thead tr:only-child th {\n",
       "        text-align: right;\n",
       "    }\n",
       "\n",
       "    .dataframe thead th {\n",
       "        text-align: left;\n",
       "    }\n",
       "\n",
       "    .dataframe tbody tr th {\n",
       "        vertical-align: top;\n",
       "    }\n",
       "</style>\n",
       "<table border=\"1\" class=\"dataframe\">\n",
       "  <thead>\n",
       "    <tr style=\"text-align: right;\">\n",
       "      <th></th>\n",
       "      <th>Seizure Location (Province/ District)</th>\n",
       "      <th>Form (live/frozen/parts)</th>\n",
       "      <th>Term (Specimens)</th>\n",
       "    </tr>\n",
       "  </thead>\n",
       "  <tbody>\n",
       "    <tr>\n",
       "      <th>0</th>\n",
       "      <td>Zhejiang</td>\n",
       "      <td>parts</td>\n",
       "      <td>scale</td>\n",
       "    </tr>\n",
       "    <tr>\n",
       "      <th>1</th>\n",
       "      <td>Hubei</td>\n",
       "      <td>frozen</td>\n",
       "      <td>unknown</td>\n",
       "    </tr>\n",
       "    <tr>\n",
       "      <th>2</th>\n",
       "      <td>Guangxi</td>\n",
       "      <td>live;\\nfrozen</td>\n",
       "      <td>unknown</td>\n",
       "    </tr>\n",
       "    <tr>\n",
       "      <th>3</th>\n",
       "      <td>Yunnan</td>\n",
       "      <td>parts</td>\n",
       "      <td>scale</td>\n",
       "    </tr>\n",
       "    <tr>\n",
       "      <th>4</th>\n",
       "      <td>An'hui</td>\n",
       "      <td>parts</td>\n",
       "      <td>scale</td>\n",
       "    </tr>\n",
       "  </tbody>\n",
       "</table>\n",
       "</div>"
      ],
      "text/plain": [
       "  Seizure Location (Province/ District) Form (live/frozen/parts)  \\\n",
       "0                              Zhejiang                    parts   \n",
       "1                                 Hubei                   frozen   \n",
       "2                               Guangxi            live;\\nfrozen   \n",
       "3                                Yunnan                    parts   \n",
       "4                                An'hui                    parts   \n",
       "\n",
       "  Term (Specimens)  \n",
       "0            scale  \n",
       "1          unknown  \n",
       "2          unknown  \n",
       "3            scale  \n",
       "4            scale  "
      ]
     },
     "execution_count": 22,
     "metadata": {},
     "output_type": "execute_result"
    }
   ],
   "source": [
    "df_province_term = df[['Seizure Location (Province/ District)', 'Form (live/frozen/parts)', 'Term (Specimens)']].fillna('unknown')\n",
    "df_province_term.head()"
   ]
  },
  {
   "cell_type": "code",
   "execution_count": 28,
   "metadata": {
    "collapsed": true
   },
   "outputs": [],
   "source": [
    "# df_province_term.groupby('Term (Specimens)').count('Seizure Location (Province/ District)')"
   ]
  },
  {
   "cell_type": "code",
   "execution_count": 23,
   "metadata": {},
   "outputs": [
    {
     "data": {
      "text/plain": [
       "Counter({'dead': 4,\n",
       "         'dead\\nparts': 1,\n",
       "         'frozen': 21,\n",
       "         'frozen\\n': 1,\n",
       "         'frozen\\nfrozen\\nparts': 1,\n",
       "         'frozen\\nparts\\nparts': 1,\n",
       "         'live': 32,\n",
       "         'live\\ndead': 3,\n",
       "         'live\\ndead\\nparts': 2,\n",
       "         'live\\nfrozen': 1,\n",
       "         'live\\nparts': 4,\n",
       "         'live;\\ndead': 1,\n",
       "         'live;\\nfrozen': 1,\n",
       "         'parts': 89})"
      ]
     },
     "execution_count": 23,
     "metadata": {},
     "output_type": "execute_result"
    }
   ],
   "source": [
    "Counter(df_province_term['Form (live/frozen/parts)'].values)"
   ]
  },
  {
   "cell_type": "markdown",
   "metadata": {},
   "source": [
    "##### df_forms"
   ]
  },
  {
   "cell_type": "code",
   "execution_count": 24,
   "metadata": {
    "collapsed": true
   },
   "outputs": [],
   "source": [
    "def get_province_form(form):\n",
    "    return df_province_term[df_province_term['Form (live/frozen/parts)'].str.contains(form)]\n",
    "def province_count(df, count_column):\n",
    "    province_count = df.groupby('Seizure Location (Province/ District)').count()\n",
    "    province_count_json = list()\n",
    "    province_count_total = 0\n",
    "    for index, row in province_count.iterrows():\n",
    "        province_count_json.append({'name': index, 'value':row[count_column]})\n",
    "    return province_count_json"
   ]
  },
  {
   "cell_type": "code",
   "execution_count": 28,
   "metadata": {},
   "outputs": [
    {
     "name": "stdout",
     "output_type": "stream",
     "text": [
      "dead 11 frozen 26 live 44 parts 98\n"
     ]
    }
   ],
   "source": [
    "df_province_dead = get_province_form('dead')\n",
    "df_province_frozen = get_province_form('frozen')\n",
    "df_province_live = get_province_form('live')\n",
    "df_province_parts = get_province_form('parts')\n",
    "print('dead', len(df_province_dead), 'frozen', len(df_province_frozen), 'live', len(df_province_live), 'parts', len(df_province_parts))"
   ]
  },
  {
   "cell_type": "code",
   "execution_count": 29,
   "metadata": {},
   "outputs": [
    {
     "name": "stdout",
     "output_type": "stream",
     "text": [
      "dead: \n",
      " [{'name': 'Fujian', 'value': 1}, {'name': 'Guangdong', 'value': 5}, {'name': 'Guangxi', 'value': 2}, {'name': 'Yunnan', 'value': 3}]\n",
      "frozen: \n",
      " [{'name': 'Fujian', 'value': 2}, {'name': 'Guangdong', 'value': 2}, {'name': 'Guangxi', 'value': 6}, {'name': 'Hebei', 'value': 1}, {'name': 'Hubei', 'value': 1}, {'name': 'Hunan', 'value': 3}, {'name': 'Jiangxi', 'value': 1}, {'name': 'Yunnan', 'value': 4}, {'name': 'Zhejiang', 'value': 6}]\n",
      "live: \n",
      " [{'name': 'Fujian', 'value': 2}, {'name': 'Guangdong', 'value': 10}, {'name': 'Guangxi', 'value': 9}, {'name': 'Hubei', 'value': 1}, {'name': 'Hunan', 'value': 2}, {'name': 'Yunnan', 'value': 14}, {'name': 'Zhejiang', 'value': 6}]\n",
      "parts: \n",
      " [{'name': \"An'hui\", 'value': 2}, {'name': 'Chongqin', 'value': 1}, {'name': 'Fujian', 'value': 3}, {'name': 'Guangdong', 'value': 9}, {'name': 'Guangxi', 'value': 4}, {'name': 'Hubei', 'value': 2}, {'name': 'Hunan', 'value': 1}, {'name': 'Jilin', 'value': 1}, {'name': 'Liaoning', 'value': 1}, {'name': 'Neimenggu', 'value': 2}, {'name': 'Shanghai', 'value': 2}, {'name': 'Sichuan', 'value': 2}, {'name': 'Tibet', 'value': 1}, {'name': 'Yunnan', 'value': 58}, {'name': 'Zhejiang', 'value': 9}]\n"
     ]
    }
   ],
   "source": [
    "print('dead: \\n', province_count(df_province_dead, 'Form (live/frozen/parts)'))\n",
    "print('frozen: \\n', province_count(df_province_frozen, 'Form (live/frozen/parts)'))\n",
    "print('live: \\n', province_count(df_province_live, 'Form (live/frozen/parts)'))\n",
    "print('parts: \\n', province_count(df_province_parts, 'Form (live/frozen/parts)'))"
   ]
  },
  {
   "cell_type": "markdown",
   "metadata": {},
   "source": [
    "##### province count by term (if one case involve multiple kind of parts/terms, count each term as seperate entries)\n",
    "* claw\n",
    "* meat\n",
    "* scale\n",
    "* products\n",
    "* skin"
   ]
  },
  {
   "cell_type": "code",
   "execution_count": 30,
   "metadata": {},
   "outputs": [
    {
     "data": {
      "text/plain": [
       "Counter({'claw': 3,\n",
       "         'meat': 5,\n",
       "         'meat and scale': 1,\n",
       "         'meat andscale': 1,\n",
       "         'meat scale': 2,\n",
       "         'products': 2,\n",
       "         'scale': 78,\n",
       "         'scale powder': 1,\n",
       "         'skin': 1,\n",
       "         'skin with scale': 2,\n",
       "         'skin withscale;cooked meat': 1,\n",
       "         'unknown': 1})"
      ]
     },
     "execution_count": 30,
     "metadata": {},
     "output_type": "execute_result"
    }
   ],
   "source": [
    "Counter(df_province_parts['Term (Specimens)'].str.replace('\\n', '').values)"
   ]
  },
  {
   "cell_type": "code",
   "execution_count": 31,
   "metadata": {},
   "outputs": [
    {
     "data": {
      "text/html": [
       "<div>\n",
       "<style>\n",
       "    .dataframe thead tr:only-child th {\n",
       "        text-align: right;\n",
       "    }\n",
       "\n",
       "    .dataframe thead th {\n",
       "        text-align: left;\n",
       "    }\n",
       "\n",
       "    .dataframe tbody tr th {\n",
       "        vertical-align: top;\n",
       "    }\n",
       "</style>\n",
       "<table border=\"1\" class=\"dataframe\">\n",
       "  <thead>\n",
       "    <tr style=\"text-align: right;\">\n",
       "      <th></th>\n",
       "      <th>Seizure Location (Province/ District)</th>\n",
       "      <th>Form (live/frozen/parts)</th>\n",
       "      <th>Term (Specimens)</th>\n",
       "    </tr>\n",
       "  </thead>\n",
       "  <tbody>\n",
       "    <tr>\n",
       "      <th>0</th>\n",
       "      <td>Zhejiang</td>\n",
       "      <td>parts</td>\n",
       "      <td>scale</td>\n",
       "    </tr>\n",
       "    <tr>\n",
       "      <th>3</th>\n",
       "      <td>Yunnan</td>\n",
       "      <td>parts</td>\n",
       "      <td>scale</td>\n",
       "    </tr>\n",
       "    <tr>\n",
       "      <th>4</th>\n",
       "      <td>An'hui</td>\n",
       "      <td>parts</td>\n",
       "      <td>scale</td>\n",
       "    </tr>\n",
       "    <tr>\n",
       "      <th>8</th>\n",
       "      <td>Zhejiang</td>\n",
       "      <td>parts</td>\n",
       "      <td>products</td>\n",
       "    </tr>\n",
       "    <tr>\n",
       "      <th>10</th>\n",
       "      <td>Hunan</td>\n",
       "      <td>parts</td>\n",
       "      <td>products</td>\n",
       "    </tr>\n",
       "  </tbody>\n",
       "</table>\n",
       "</div>"
      ],
      "text/plain": [
       "   Seizure Location (Province/ District) Form (live/frozen/parts)  \\\n",
       "0                               Zhejiang                    parts   \n",
       "3                                 Yunnan                    parts   \n",
       "4                                 An'hui                    parts   \n",
       "8                               Zhejiang                    parts   \n",
       "10                                 Hunan                    parts   \n",
       "\n",
       "   Term (Specimens)  \n",
       "0             scale  \n",
       "3             scale  \n",
       "4             scale  \n",
       "8          products  \n",
       "10         products  "
      ]
     },
     "execution_count": 31,
     "metadata": {},
     "output_type": "execute_result"
    }
   ],
   "source": [
    "df_province_parts.head()"
   ]
  },
  {
   "cell_type": "code",
   "execution_count": 32,
   "metadata": {
    "collapsed": true
   },
   "outputs": [],
   "source": [
    "def get_province_term(term):\n",
    "    return df_province_parts[df_province_parts['Term (Specimens)'].str.contains(term)]"
   ]
  },
  {
   "cell_type": "code",
   "execution_count": 33,
   "metadata": {},
   "outputs": [
    {
     "name": "stdout",
     "output_type": "stream",
     "text": [
      "claw: \n",
      " [{'name': 'Neimenggu', 'value': 2}, {'name': 'Yunnan', 'value': 1}]\n",
      "meat: \n",
      " [{'name': 'Chongqin', 'value': 1}, {'name': 'Fujian', 'value': 1}, {'name': 'Guangdong', 'value': 1}, {'name': 'Guangxi', 'value': 1}, {'name': 'Jilin', 'value': 1}, {'name': 'Yunnan', 'value': 2}, {'name': 'Zhejiang', 'value': 3}]\n",
      "scale: \n",
      " [{'name': \"An'hui\", 'value': 2}, {'name': 'Chongqin', 'value': 1}, {'name': 'Fujian', 'value': 3}, {'name': 'Guangdong', 'value': 8}, {'name': 'Guangxi', 'value': 3}, {'name': 'Hubei', 'value': 2}, {'name': 'Shanghai', 'value': 2}, {'name': 'Sichuan', 'value': 2}, {'name': 'Tibet', 'value': 1}, {'name': 'Yunnan', 'value': 56}, {'name': 'Zhejiang', 'value': 6}]\n",
      "skin: \n",
      " [{'name': 'Liaoning', 'value': 1}, {'name': 'Yunnan', 'value': 3}]\n",
      "products: \n",
      " [{'name': 'Hunan', 'value': 1}, {'name': 'Yunnan', 'value': 1}, {'name': 'Zhejiang', 'value': 1}]\n"
     ]
    }
   ],
   "source": [
    "print('claw: \\n', province_count(get_province_term('claw'), 'Term (Specimens)'))\n",
    "print('meat: \\n', province_count(get_province_term('meat'), 'Term (Specimens)'))\n",
    "print('scale: \\n', province_count(get_province_term('scale'), 'Term (Specimens)'))\n",
    "print('skin: \\n', province_count(get_province_term('skin'), 'Term (Specimens)'))\n",
    "print('products: \\n', province_count(get_province_term('products|powder'), 'Term (Specimens)'))"
   ]
  },
  {
   "cell_type": "markdown",
   "metadata": {},
   "source": [
    "## Seizure worth"
   ]
  },
  {
   "cell_type": "code",
   "execution_count": 13,
   "metadata": {},
   "outputs": [
    {
     "name": "stdout",
     "output_type": "stream",
     "text": [
      "Total valid entries:  78\n"
     ]
    },
    {
     "data": {
      "text/html": [
       "<div>\n",
       "<style>\n",
       "    .dataframe thead tr:only-child th {\n",
       "        text-align: right;\n",
       "    }\n",
       "\n",
       "    .dataframe thead th {\n",
       "        text-align: left;\n",
       "    }\n",
       "\n",
       "    .dataframe tbody tr th {\n",
       "        vertical-align: top;\n",
       "    }\n",
       "</style>\n",
       "<table border=\"1\" class=\"dataframe\">\n",
       "  <thead>\n",
       "    <tr style=\"text-align: right;\">\n",
       "      <th></th>\n",
       "      <th>Seizure Location (Province/ District)</th>\n",
       "      <th>Worth (seizure item)</th>\n",
       "      <th>Worth (unit).1</th>\n",
       "    </tr>\n",
       "  </thead>\n",
       "  <tbody>\n",
       "    <tr>\n",
       "      <th>0</th>\n",
       "      <td>Zhejiang</td>\n",
       "      <td>1035.0</td>\n",
       "      <td>CNY</td>\n",
       "    </tr>\n",
       "    <tr>\n",
       "      <th>3</th>\n",
       "      <td>Yunnan</td>\n",
       "      <td>1357120.0</td>\n",
       "      <td>CNY</td>\n",
       "    </tr>\n",
       "    <tr>\n",
       "      <th>4</th>\n",
       "      <td>An'hui</td>\n",
       "      <td>9506.0</td>\n",
       "      <td>CNY</td>\n",
       "    </tr>\n",
       "    <tr>\n",
       "      <th>5</th>\n",
       "      <td>Hebei</td>\n",
       "      <td>26720.0</td>\n",
       "      <td>CNY</td>\n",
       "    </tr>\n",
       "    <tr>\n",
       "      <th>9</th>\n",
       "      <td>Hunan</td>\n",
       "      <td>89020.0</td>\n",
       "      <td>CNY</td>\n",
       "    </tr>\n",
       "  </tbody>\n",
       "</table>\n",
       "</div>"
      ],
      "text/plain": [
       "  Seizure Location (Province/ District)  Worth (seizure item) Worth (unit).1\n",
       "0                              Zhejiang                1035.0            CNY\n",
       "3                                Yunnan             1357120.0            CNY\n",
       "4                                An'hui                9506.0            CNY\n",
       "5                                 Hebei               26720.0            CNY\n",
       "9                                 Hunan               89020.0            CNY"
      ]
     },
     "execution_count": 13,
     "metadata": {},
     "output_type": "execute_result"
    }
   ],
   "source": [
    "df_worth_item = df[['Seizure Location (Province/ District)', 'Worth (seizure item)', 'Worth (unit).1']].dropna()\n",
    "print('Total valid entries: ', len(df_worth_item))\n",
    "df_worth_item.head()"
   ]
  },
  {
   "cell_type": "code",
   "execution_count": 14,
   "metadata": {},
   "outputs": [
    {
     "name": "stdout",
     "output_type": "stream",
     "text": [
      "total value of seizures (pangolin items):  17621523.33\n"
     ]
    },
    {
     "data": {
      "text/plain": [
       "Counter({'CNY': 78})"
      ]
     },
     "execution_count": 14,
     "metadata": {},
     "output_type": "execute_result"
    }
   ],
   "source": [
    "print('total value of seizures (pangolin items): ', df_worth_item['Worth (seizure item)'].sum())\n",
    "Counter(df_worth_item['Worth (unit).1'].values)"
   ]
  },
  {
   "cell_type": "code",
   "execution_count": 15,
   "metadata": {
    "collapsed": true
   },
   "outputs": [],
   "source": [
    "def province_sum(df, count_column):\n",
    "    province_count = df.groupby('Seizure Location (Province/ District)').sum()\n",
    "    province_count_json = list()\n",
    "    province_count_total = 0\n",
    "    for index, row in province_count.iterrows():\n",
    "        province_count_json.append({'name': index, 'value':row[count_column]})\n",
    "    return province_count_json"
   ]
  },
  {
   "cell_type": "code",
   "execution_count": 16,
   "metadata": {},
   "outputs": [
    {
     "data": {
      "text/plain": [
       "[{'name': \"An'hui\", 'value': 12446.0},\n",
       " {'name': 'Fujian', 'value': 11690.0},\n",
       " {'name': 'Guangdong', 'value': 5960564.0},\n",
       " {'name': 'Guangxi', 'value': 2093.0},\n",
       " {'name': 'Hebei', 'value': 26720.0},\n",
       " {'name': 'Hubei', 'value': 5888.0},\n",
       " {'name': 'Hunan', 'value': 139020.0},\n",
       " {'name': 'Liaoning', 'value': 1336.0},\n",
       " {'name': 'Neimenggu', 'value': 668.0},\n",
       " {'name': 'Shanghai', 'value': 8309920.0},\n",
       " {'name': 'Tibet', 'value': 55110.0},\n",
       " {'name': 'Yunnan', 'value': 3076683.3299999996},\n",
       " {'name': 'Zhejiang', 'value': 19385.0}]"
      ]
     },
     "execution_count": 16,
     "metadata": {},
     "output_type": "execute_result"
    }
   ],
   "source": [
    "province_sum(df_worth_item, 'Worth (seizure item)')"
   ]
  },
  {
   "cell_type": "markdown",
   "metadata": {},
   "source": [
    "### Detection agent"
   ]
  },
  {
   "cell_type": "code",
   "execution_count": 86,
   "metadata": {},
   "outputs": [
    {
     "name": "stdout",
     "output_type": "stream",
     "text": [
      "total:  134\n"
     ]
    },
    {
     "data": {
      "text/html": [
       "<div>\n",
       "<style>\n",
       "    .dataframe thead tr:only-child th {\n",
       "        text-align: right;\n",
       "    }\n",
       "\n",
       "    .dataframe thead th {\n",
       "        text-align: left;\n",
       "    }\n",
       "\n",
       "    .dataframe tbody tr th {\n",
       "        vertical-align: top;\n",
       "    }\n",
       "</style>\n",
       "<table border=\"1\" class=\"dataframe\">\n",
       "  <thead>\n",
       "    <tr style=\"text-align: right;\">\n",
       "      <th></th>\n",
       "      <th>count</th>\n",
       "    </tr>\n",
       "    <tr>\n",
       "      <th>agent</th>\n",
       "      <th></th>\n",
       "    </tr>\n",
       "  </thead>\n",
       "  <tbody>\n",
       "    <tr>\n",
       "      <th>police</th>\n",
       "      <td>62</td>\n",
       "    </tr>\n",
       "    <tr>\n",
       "      <th>forest police</th>\n",
       "      <td>46</td>\n",
       "    </tr>\n",
       "    <tr>\n",
       "      <th>frontier inspection station</th>\n",
       "      <td>13</td>\n",
       "    </tr>\n",
       "    <tr>\n",
       "      <th>NaN</th>\n",
       "      <td>10</td>\n",
       "    </tr>\n",
       "    <tr>\n",
       "      <th>border defence force</th>\n",
       "      <td>7</td>\n",
       "    </tr>\n",
       "    <tr>\n",
       "      <th>market supervision administration</th>\n",
       "      <td>2</td>\n",
       "    </tr>\n",
       "    <tr>\n",
       "      <th>customs</th>\n",
       "      <td>2</td>\n",
       "    </tr>\n",
       "    <tr>\n",
       "      <th>airport security</th>\n",
       "      <td>1</td>\n",
       "    </tr>\n",
       "    <tr>\n",
       "      <th>traffic police</th>\n",
       "      <td>1</td>\n",
       "    </tr>\n",
       "  </tbody>\n",
       "</table>\n",
       "</div>"
      ],
      "text/plain": [
       "                                   count\n",
       "agent                                   \n",
       "police                                62\n",
       "forest police                         46\n",
       "frontier inspection station           13\n",
       "NaN                                   10\n",
       "border defence force                   7\n",
       "market supervision administration      2\n",
       "customs                                2\n",
       "airport security                       1\n",
       "traffic police                         1"
      ]
     },
     "execution_count": 86,
     "metadata": {},
     "output_type": "execute_result"
    }
   ],
   "source": [
    "print('total: ', df[df['Detection Agents'] != np.nan].count()['Detection Agents'])\n",
    "df_da = df['Detection Agents'].str.lower()\n",
    "df_da = df_da.str.replace('\\n', '')\n",
    "df_da_count = pd.DataFrame.from_dict(Counter(df_da), orient='index').reset_index()\n",
    "df_da_count.columns = ['agent', 'count']\n",
    "df_da_count = df_da_count.sort_values(by=['count'], ascending=False)\n",
    "df_da_count = df_da_count.set_index('agent')\n",
    "df_da_count"
   ]
  },
  {
   "cell_type": "code",
   "execution_count": 88,
   "metadata": {},
   "outputs": [
    {
     "data": {
      "text/plain": [
       "<matplotlib.axes._subplots.AxesSubplot at 0x11e9d1358>"
      ]
     },
     "execution_count": 88,
     "metadata": {},
     "output_type": "execute_result"
    },
    {
     "data": {
      "image/png": "[encoded data removed]",
      "text/plain": [
       "<matplotlib.figure.Figure at 0x11e528cc0>"
      ]
     },
     "metadata": {},
     "output_type": "display_data"
    }
   ],
   "source": [
    "df_da_count.plot.bar()"
   ]
  },
  {
   "cell_type": "markdown",
   "metadata": {},
   "source": [
    "#### ECharts data"
   ]
  },
  {
   "cell_type": "code",
   "execution_count": 108,
   "metadata": {},
   "outputs": [
    {
     "name": "stdout",
     "output_type": "stream",
     "text": [
      "['police', 'forest police', 'frontier inspection station', nan, 'border defence force', 'market supervision administration', 'customs', 'airport security', 'traffic police']\n",
      "[62, 46, 13, 10, 7, 2, 2, 1, 1]\n"
     ]
    }
   ],
   "source": [
    "print(list(df_da_count.index))\n",
    "print(list(df_da_count['count'].values))"
   ]
  },
  {
   "cell_type": "markdown",
   "metadata": {},
   "source": [
    "### From to transits origins (df_ftto)"
   ]
  },
  {
   "cell_type": "code",
   "execution_count": null,
   "metadata": {
    "collapsed": true
   },
   "outputs": [],
   "source": []
  },
  {
   "cell_type": "code",
   "execution_count": null,
   "metadata": {
    "collapsed": true
   },
   "outputs": [],
   "source": []
  },
  {
   "cell_type": "code",
   "execution_count": null,
   "metadata": {
    "collapsed": true
   },
   "outputs": [],
   "source": []
  },
  {
   "cell_type": "code",
   "execution_count": null,
   "metadata": {
    "collapsed": true
   },
   "outputs": [],
   "source": []
  }
 ],
 "metadata": {
  "kernelspec": {
   "display_name": "Python 3",
   "language": "python",
   "name": "python3"
  },
  "language_info": {
   "codemirror_mode": {
    "name": "ipython",
    "version": 3
   },
   "file_extension": ".py",
   "mimetype": "text/x-python",
   "name": "python",
   "nbconvert_exporter": "python",
   "pygments_lexer": "ipython3",
   "version": "3.6.1"
  }
 },
 "nbformat": 4,
 "nbformat_minor": 2
}
