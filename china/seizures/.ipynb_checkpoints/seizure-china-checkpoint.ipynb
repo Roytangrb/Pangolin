{
 "cells": [
  {
   "cell_type": "markdown",
   "metadata": {},
   "source": [
    "## Pangolin Seizure Analysis China"
   ]
  },
  {
   "cell_type": "code",
   "execution_count": 1,
   "metadata": {
    "collapsed": true
   },
   "outputs": [],
   "source": [
    "import numpy as np\n",
    "import pandas as pd\n"
   ]
  },
  {
   "cell_type": "code",
   "execution_count": 8,
   "metadata": {},
   "outputs": [],
   "source": [
    "df = pd.read_excel('./pangolin-seizures.xlsx')"
   ]
  },
  {
   "cell_type": "markdown",
   "metadata": {},
   "source": [
    "### Seizure Locations"
   ]
  },
  {
   "cell_type": "code",
   "execution_count": 13,
   "metadata": {},
   "outputs": [],
   "source": [
    "df_c_locations = df[['Year', 'Month', 'Day', 'Seizure Location (Country)', 'Seizure Location (Province/ District)', 'Seizure Location (City/Location)']]"
   ]
  },
  {
   "cell_type": "code",
   "execution_count": 14,
   "metadata": {},
   "outputs": [
    {
     "data": {
      "text/html": [
       "<div>\n",
       "<style>\n",
       "    .dataframe thead tr:only-child th {\n",
       "        text-align: right;\n",
       "    }\n",
       "\n",
       "    .dataframe thead th {\n",
       "        text-align: left;\n",
       "    }\n",
       "\n",
       "    .dataframe tbody tr th {\n",
       "        vertical-align: top;\n",
       "    }\n",
       "</style>\n",
       "<table border=\"1\" class=\"dataframe\">\n",
       "  <thead>\n",
       "    <tr style=\"text-align: right;\">\n",
       "      <th></th>\n",
       "      <th>Year</th>\n",
       "      <th>Month</th>\n",
       "      <th>Day</th>\n",
       "      <th>Seizure Location (Country)</th>\n",
       "      <th>Seizure Location (Province/ District)</th>\n",
       "      <th>Seizure Location (City/Location)</th>\n",
       "    </tr>\n",
       "  </thead>\n",
       "  <tbody>\n",
       "    <tr>\n",
       "      <th>0</th>\n",
       "      <td>2019</td>\n",
       "      <td>03</td>\n",
       "      <td>19.0</td>\n",
       "      <td>China</td>\n",
       "      <td>Zhejiang</td>\n",
       "      <td>Pan'an County, Jinhua City</td>\n",
       "    </tr>\n",
       "    <tr>\n",
       "      <th>1</th>\n",
       "      <td>2018</td>\n",
       "      <td>11</td>\n",
       "      <td>29.0</td>\n",
       "      <td>China</td>\n",
       "      <td>Hubei</td>\n",
       "      <td>Lichuan</td>\n",
       "    </tr>\n",
       "    <tr>\n",
       "      <th>2</th>\n",
       "      <td>2012</td>\n",
       "      <td>04</td>\n",
       "      <td>24.0</td>\n",
       "      <td>China</td>\n",
       "      <td>Guangxi</td>\n",
       "      <td>Qinzhou</td>\n",
       "    </tr>\n",
       "    <tr>\n",
       "      <th>3</th>\n",
       "      <td>2018</td>\n",
       "      <td>03</td>\n",
       "      <td>19.0</td>\n",
       "      <td>China</td>\n",
       "      <td>Yunnan</td>\n",
       "      <td>Longling County</td>\n",
       "    </tr>\n",
       "    <tr>\n",
       "      <th>4</th>\n",
       "      <td>2018</td>\n",
       "      <td>10</td>\n",
       "      <td>18.0</td>\n",
       "      <td>China</td>\n",
       "      <td>An'hui</td>\n",
       "      <td>Bozhou</td>\n",
       "    </tr>\n",
       "  </tbody>\n",
       "</table>\n",
       "</div>"
      ],
      "text/plain": [
       "   Year Month   Day Seizure Location (Country)  \\\n",
       "0  2019    03  19.0                      China   \n",
       "1  2018    11  29.0                      China   \n",
       "2  2012    04  24.0                      China   \n",
       "3  2018    03  19.0                      China   \n",
       "4  2018    10  18.0                      China   \n",
       "\n",
       "  Seizure Location (Province/ District) Seizure Location (City/Location)  \n",
       "0                              Zhejiang       Pan'an County, Jinhua City  \n",
       "1                                 Hubei                          Lichuan  \n",
       "2                              Guangxi                           Qinzhou  \n",
       "3                                Yunnan                  Longling County  \n",
       "4                                An'hui                           Bozhou  "
      ]
     },
     "execution_count": 14,
     "metadata": {},
     "output_type": "execute_result"
    }
   ],
   "source": [
    "df_c_locations.head()"
   ]
  },
  {
   "cell_type": "code",
   "execution_count": 32,
   "metadata": {},
   "outputs": [
    {
     "name": "stdout",
     "output_type": "stream",
     "text": [
      "total:  144\n"
     ]
    },
    {
     "data": {
      "text/plain": [
       "[{'name': \"An'hui\", 'value': 2},\n",
       " {'name': 'Chongqin', 'value': 1},\n",
       " {'name': 'Fujian', 'value': 8},\n",
       " {'name': 'Guangdong', 'value': 17},\n",
       " {'name': 'Guangxi', 'value': 10},\n",
       " {'name': 'Guangxi ', 'value': 6},\n",
       " {'name': 'Hebei', 'value': 1},\n",
       " {'name': 'Hubei', 'value': 4},\n",
       " {'name': 'Hunan', 'value': 5},\n",
       " {'name': 'Jiangxi', 'value': 1},\n",
       " {'name': 'Jilin', 'value': 1},\n",
       " {'name': 'Liaoning', 'value': 1},\n",
       " {'name': 'Neimenggu', 'value': 2},\n",
       " {'name': 'Sichuan', 'value': 2},\n",
       " {'name': 'Yunan', 'value': 3},\n",
       " {'name': 'Yunnan', 'value': 62},\n",
       " {'name': 'Zhejiang', 'value': 18}]"
      ]
     },
     "execution_count": 32,
     "metadata": {},
     "output_type": "execute_result"
    }
   ],
   "source": [
    "province_count = df_c_locations.groupby('Seizure Location (Province/ District)').count()\n",
    "province_count_json = list()\n",
    "province_count_total = 0\n",
    "for index, row in province_count.iterrows():\n",
    "    province_count_total = province_count_total + row['Seizure Location (Country)']\n",
    "    province_count_json.append({'name': index, 'value':row['Seizure Location (Country)']})\n",
    "print('total: ', province_count_total)\n",
    "province_count_json"
   ]
  },
  {
   "cell_type": "code",
   "execution_count": null,
   "metadata": {
    "collapsed": true
   },
   "outputs": [],
   "source": []
  }
 ],
 "metadata": {
  "kernelspec": {
   "display_name": "Python 3",
   "language": "python",
   "name": "python3"
  },
  "language_info": {
   "codemirror_mode": {
    "name": "ipython",
    "version": 3
   },
   "file_extension": ".py",
   "mimetype": "text/x-python",
   "name": "python",
   "nbconvert_exporter": "python",
   "pygments_lexer": "ipython3",
   "version": "3.6.1"
  }
 },
 "nbformat": 4,
 "nbformat_minor": 2
}
