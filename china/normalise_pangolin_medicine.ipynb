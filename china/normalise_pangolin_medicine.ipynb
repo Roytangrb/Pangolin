{
 "cells": [
  {
   "cell_type": "markdown",
   "metadata": {},
   "source": [
    "## Nomalise Pangolin Medicine in China"
   ]
  },
  {
   "cell_type": "code",
   "execution_count": 1,
   "metadata": {
    "collapsed": true
   },
   "outputs": [],
   "source": [
    "import numpy as np\n",
    "import pandas as pd"
   ]
  },
  {
   "cell_type": "code",
   "execution_count": 8,
   "metadata": {},
   "outputs": [],
   "source": [
    "#sheet_name=0: by medicine, 1: by province, 2:by company, 4: hospitals, 5: medicines, 6: medicine with permit, 7: 催乳藥\n",
    "df_province = pd.read_excel('./pangolin_medicine.xlsx', 1, header=None)\n",
    "df_province.columns = ['province', 'medicine', 'permit', 'company']"
   ]
  },
  {
   "cell_type": "code",
   "execution_count": 17,
   "metadata": {},
   "outputs": [
    {
     "name": "stdout",
     "output_type": "stream",
     "text": [
      "number of privince: 27\n",
      "number of medicine with permit: 65\n",
      "number of permits: 298\n",
      "number of companies: 298\n"
     ]
    }
   ],
   "source": [
    "print('number of privince: {}'.format(len(df_province['province'].unique())))\n",
    "print('number of medicine with permit: {}'.format(len(df_province['medicine'].unique())))\n",
    "print('number of permits: {}'.format(len(df_province['permit'].unique())))\n",
    "print('number of companies: {}'.format(len(df_province['company'].unique())))"
   ]
  },
  {
   "cell_type": "code",
   "execution_count": 14,
   "metadata": {},
   "outputs": [
    {
     "data": {
      "text/html": [
       "<div>\n",
       "<style>\n",
       "    .dataframe thead tr:only-child th {\n",
       "        text-align: right;\n",
       "    }\n",
       "\n",
       "    .dataframe thead th {\n",
       "        text-align: left;\n",
       "    }\n",
       "\n",
       "    .dataframe tbody tr th {\n",
       "        vertical-align: top;\n",
       "    }\n",
       "</style>\n",
       "<table border=\"1\" class=\"dataframe\">\n",
       "  <thead>\n",
       "    <tr style=\"text-align: right;\">\n",
       "      <th></th>\n",
       "      <th>province</th>\n",
       "      <th>medicine</th>\n",
       "      <th>permit</th>\n",
       "      <th>company</th>\n",
       "    </tr>\n",
       "  </thead>\n",
       "  <tbody>\n",
       "    <tr>\n",
       "      <th>0</th>\n",
       "      <td>北京</td>\n",
       "      <td>追风壮骨膏</td>\n",
       "      <td>国药准字Z11020746</td>\n",
       "      <td>北京同仁堂股份有限公司同仁堂制药厂 86900166003238)</td>\n",
       "    </tr>\n",
       "    <tr>\n",
       "      <th>1</th>\n",
       "      <td>吉林</td>\n",
       "      <td>中风再造丸</td>\n",
       "      <td>国药准字Z22024162</td>\n",
       "      <td>吉林恒金药业股份有限公司 86903380000212)</td>\n",
       "    </tr>\n",
       "    <tr>\n",
       "      <th>2</th>\n",
       "      <td>吉林</td>\n",
       "      <td>中风再造丸</td>\n",
       "      <td>国药准字Z22021227</td>\n",
       "      <td>吉林敖东集团金海发药业股份有限公司 86903353000485)</td>\n",
       "    </tr>\n",
       "    <tr>\n",
       "      <th>3</th>\n",
       "      <td>天津</td>\n",
       "      <td>痔血丸</td>\n",
       "      <td>国药准字Z12020720</td>\n",
       "      <td>天津中新药业集团股份有限公司达仁堂制药厂 86900960001126)</td>\n",
       "    </tr>\n",
       "    <tr>\n",
       "      <th>4</th>\n",
       "      <td>陕西</td>\n",
       "      <td>治伤跌打丸</td>\n",
       "      <td>国药准字Z20003326</td>\n",
       "      <td>陕西冯武臣大药堂制药厂有限公司 86902367000184)</td>\n",
       "    </tr>\n",
       "  </tbody>\n",
       "</table>\n",
       "</div>"
      ],
      "text/plain": [
       "  province medicine          permit                               company\n",
       "0       北京    追风壮骨膏  国药准字Z11020746      北京同仁堂股份有限公司同仁堂制药厂 86900166003238)\n",
       "1       吉林    中风再造丸  国药准字Z22024162           吉林恒金药业股份有限公司 86903380000212)\n",
       "2       吉林    中风再造丸  国药准字Z22021227      吉林敖东集团金海发药业股份有限公司 86903353000485)\n",
       "3       天津      痔血丸  国药准字Z12020720   天津中新药业集团股份有限公司达仁堂制药厂 86900960001126)\n",
       "4       陕西    治伤跌打丸  国药准字Z20003326        陕西冯武臣大药堂制药厂有限公司 86902367000184)"
      ]
     },
     "execution_count": 14,
     "metadata": {},
     "output_type": "execute_result"
    }
   ],
   "source": [
    "df_province.head()"
   ]
  },
  {
   "cell_type": "code",
   "execution_count": 34,
   "metadata": {},
   "outputs": [
    {
     "name": "stdout",
     "output_type": "stream",
     "text": [
      "in by_province not in med list\n",
      "number of med with permit: 67\n"
     ]
    },
    {
     "data": {
      "text/html": [
       "<div>\n",
       "<style>\n",
       "    .dataframe thead tr:only-child th {\n",
       "        text-align: right;\n",
       "    }\n",
       "\n",
       "    .dataframe thead th {\n",
       "        text-align: left;\n",
       "    }\n",
       "\n",
       "    .dataframe tbody tr th {\n",
       "        vertical-align: top;\n",
       "    }\n",
       "</style>\n",
       "<table border=\"1\" class=\"dataframe\">\n",
       "  <thead>\n",
       "    <tr style=\"text-align: right;\">\n",
       "      <th></th>\n",
       "      <th>province</th>\n",
       "      <th>medicine</th>\n",
       "      <th>permit</th>\n",
       "      <th>company</th>\n",
       "    </tr>\n",
       "  </thead>\n",
       "  <tbody>\n",
       "    <tr>\n",
       "      <th>172</th>\n",
       "      <td>重庆</td>\n",
       "      <td>复方追风膏</td>\n",
       "      <td>国药准字Z20026804</td>\n",
       "      <td>重庆陪都药业股份有限公司 86901022000286；86901022000293；869...</td>\n",
       "    </tr>\n",
       "  </tbody>\n",
       "</table>\n",
       "</div>"
      ],
      "text/plain": [
       "    province medicine          permit  \\\n",
       "172       重庆   复方追风膏   国药准字Z20026804    \n",
       "\n",
       "                                               company  \n",
       "172  重庆陪都药业股份有限公司 86901022000286；86901022000293；869...  "
      ]
     },
     "execution_count": 34,
     "metadata": {},
     "output_type": "execute_result"
    }
   ],
   "source": [
    "print('in by_province not in med list')\n",
    "df_med_with_permit = pd.read_excel('./pangolin_medicine.xlsx', 6, header=None)\n",
    "df_med_with_permit_list = df_med_with_permit[0]\n",
    "print('number of med with permit: {}'.format(len(df_med_with_permit_list)))\n",
    "df_province[np.logical_not(df_province['medicine'].isin(df_med_with_permit_list))]"
   ]
  },
  {
   "cell_type": "code",
   "execution_count": 26,
   "metadata": {},
   "outputs": [
    {
     "name": "stdout",
     "output_type": "stream",
     "text": [
      "in med list not in by_province\n"
     ]
    },
    {
     "data": {
      "text/html": [
       "<div>\n",
       "<style>\n",
       "    .dataframe thead tr:only-child th {\n",
       "        text-align: right;\n",
       "    }\n",
       "\n",
       "    .dataframe thead th {\n",
       "        text-align: left;\n",
       "    }\n",
       "\n",
       "    .dataframe tbody tr th {\n",
       "        vertical-align: top;\n",
       "    }\n",
       "</style>\n",
       "<table border=\"1\" class=\"dataframe\">\n",
       "  <thead>\n",
       "    <tr style=\"text-align: right;\">\n",
       "      <th></th>\n",
       "      <th>0</th>\n",
       "      <th>1</th>\n",
       "      <th>2</th>\n",
       "    </tr>\n",
       "  </thead>\n",
       "  <tbody>\n",
       "    <tr>\n",
       "      <th>9</th>\n",
       "      <td>妇科通经丸</td>\n",
       "      <td>列入药典</td>\n",
       "      <td>无国药准字号</td>\n",
       "    </tr>\n",
       "    <tr>\n",
       "      <th>23</th>\n",
       "      <td>复方追风膏</td>\n",
       "      <td>NaN</td>\n",
       "      <td>NaN</td>\n",
       "    </tr>\n",
       "    <tr>\n",
       "      <th>38</th>\n",
       "      <td>乳疮丸</td>\n",
       "      <td>NaN</td>\n",
       "      <td>NaN</td>\n",
       "    </tr>\n",
       "  </tbody>\n",
       "</table>\n",
       "</div>"
      ],
      "text/plain": [
       "         0     1       2\n",
       "9   妇科通经丸   列入药典  无国药准字号\n",
       "23  复方追风膏    NaN     NaN\n",
       "38     乳疮丸   NaN     NaN"
      ]
     },
     "execution_count": 26,
     "metadata": {},
     "output_type": "execute_result"
    }
   ],
   "source": [
    "print('in med list not in by_province')\n",
    "df_med_with_permit[np.logical_not(df_med_with_permit[0].isin(df_province['medicine']))]"
   ]
  },
  {
   "cell_type": "code",
   "execution_count": 47,
   "metadata": {},
   "outputs": [
    {
     "name": "stdout",
     "output_type": "stream",
     "text": [
      "number of medicines: 76\n",
      "number of medicines without permit: 13\n"
     ]
    }
   ],
   "source": [
    "df_med = pd.read_excel('./pangolin_medicine.xlsx', 0, header=None)\n",
    "df_med[0] = df_med[0].fillna(method='ffill')\n",
    "print('number of medicines: {}'.format(len(df_med[0].unique())))\n",
    "print('number of medicines without permit: {}'.format(len(df_med[df_med[1].isnull()])))"
   ]
  },
  {
   "cell_type": "code",
   "execution_count": 53,
   "metadata": {},
   "outputs": [
    {
     "data": {
      "text/html": [
       "<div>\n",
       "<style>\n",
       "    .dataframe thead tr:only-child th {\n",
       "        text-align: right;\n",
       "    }\n",
       "\n",
       "    .dataframe thead th {\n",
       "        text-align: left;\n",
       "    }\n",
       "\n",
       "    .dataframe tbody tr th {\n",
       "        vertical-align: top;\n",
       "    }\n",
       "</style>\n",
       "<table border=\"1\" class=\"dataframe\">\n",
       "  <thead>\n",
       "    <tr style=\"text-align: right;\">\n",
       "      <th></th>\n",
       "      <th>0</th>\n",
       "      <th>1</th>\n",
       "      <th>2</th>\n",
       "    </tr>\n",
       "  </thead>\n",
       "  <tbody>\n",
       "    <tr>\n",
       "      <th>61</th>\n",
       "      <td>妇科通经丸</td>\n",
       "      <td>NaN</td>\n",
       "      <td>NaN</td>\n",
       "    </tr>\n",
       "    <tr>\n",
       "      <th>88</th>\n",
       "      <td>通乳冲剂</td>\n",
       "      <td>NaN</td>\n",
       "      <td>NaN</td>\n",
       "    </tr>\n",
       "    <tr>\n",
       "      <th>97</th>\n",
       "      <td>阿魏麝香化积膏</td>\n",
       "      <td>NaN</td>\n",
       "      <td>NaN</td>\n",
       "    </tr>\n",
       "    <tr>\n",
       "      <th>99</th>\n",
       "      <td>绿樱膏</td>\n",
       "      <td>NaN</td>\n",
       "      <td>NaN</td>\n",
       "    </tr>\n",
       "    <tr>\n",
       "      <th>132</th>\n",
       "      <td>乳疮丸</td>\n",
       "      <td>NaN</td>\n",
       "      <td>NaN</td>\n",
       "    </tr>\n",
       "    <tr>\n",
       "      <th>170</th>\n",
       "      <td>拔脓净</td>\n",
       "      <td>NaN</td>\n",
       "      <td>NaN</td>\n",
       "    </tr>\n",
       "    <tr>\n",
       "      <th>173</th>\n",
       "      <td>水蓬膏</td>\n",
       "      <td>NaN</td>\n",
       "      <td>NaN</td>\n",
       "    </tr>\n",
       "    <tr>\n",
       "      <th>223</th>\n",
       "      <td>黑虎散</td>\n",
       "      <td>NaN</td>\n",
       "      <td>NaN</td>\n",
       "    </tr>\n",
       "    <tr>\n",
       "      <th>224</th>\n",
       "      <td>蕲蛇追风酒</td>\n",
       "      <td>NaN</td>\n",
       "      <td>NaN</td>\n",
       "    </tr>\n",
       "    <tr>\n",
       "      <th>235</th>\n",
       "      <td>硇砂膏</td>\n",
       "      <td>NaN</td>\n",
       "      <td>NaN</td>\n",
       "    </tr>\n",
       "    <tr>\n",
       "      <th>256</th>\n",
       "      <td>通络生糖浆</td>\n",
       "      <td>NaN</td>\n",
       "      <td>NaN</td>\n",
       "    </tr>\n",
       "    <tr>\n",
       "      <th>257</th>\n",
       "      <td>蜈蚣追风膏</td>\n",
       "      <td>NaN</td>\n",
       "      <td>NaN</td>\n",
       "    </tr>\n",
       "    <tr>\n",
       "      <th>261</th>\n",
       "      <td>拔毒丸</td>\n",
       "      <td>NaN</td>\n",
       "      <td>NaN</td>\n",
       "    </tr>\n",
       "  </tbody>\n",
       "</table>\n",
       "</div>"
      ],
      "text/plain": [
       "           0    1    2\n",
       "61     妇科通经丸  NaN  NaN\n",
       "88      通乳冲剂  NaN  NaN\n",
       "97   阿魏麝香化积膏  NaN  NaN\n",
       "99       绿樱膏  NaN  NaN\n",
       "132      乳疮丸  NaN  NaN\n",
       "170      拔脓净  NaN  NaN\n",
       "173      水蓬膏  NaN  NaN\n",
       "223      黑虎散  NaN  NaN\n",
       "224    蕲蛇追风酒  NaN  NaN\n",
       "235      硇砂膏  NaN  NaN\n",
       "256    通络生糖浆  NaN  NaN\n",
       "257    蜈蚣追风膏  NaN  NaN\n",
       "261      拔毒丸  NaN  NaN"
      ]
     },
     "execution_count": 53,
     "metadata": {},
     "output_type": "execute_result"
    }
   ],
   "source": [
    "df_med[df_med[1].isnull()]"
   ]
  },
  {
   "cell_type": "code",
   "execution_count": null,
   "metadata": {
    "collapsed": true
   },
   "outputs": [],
   "source": []
  }
 ],
 "metadata": {
  "kernelspec": {
   "display_name": "Python 3",
   "language": "python",
   "name": "python3"
  },
  "language_info": {
   "codemirror_mode": {
    "name": "ipython",
    "version": 3
   },
   "file_extension": ".py",
   "mimetype": "text/x-python",
   "name": "python",
   "nbconvert_exporter": "python",
   "pygments_lexer": "ipython3",
   "version": "3.6.1"
  }
 },
 "nbformat": 4,
 "nbformat_minor": 2
}
