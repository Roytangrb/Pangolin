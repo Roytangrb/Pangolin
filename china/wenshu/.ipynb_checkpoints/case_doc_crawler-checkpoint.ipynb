{
 "cells": [
  {
   "cell_type": "markdown",
   "metadata": {},
   "source": [
    "# Crawl the judgement documents"
   ]
  },
  {
   "cell_type": "code",
   "execution_count": 33,
   "metadata": {
    "collapsed": true
   },
   "outputs": [],
   "source": [
    "import numpy as np\n",
    "import pandas as pd\n",
    "import time\n",
    "import json\n",
    "import html\n",
    "from selenium import webdriver\n",
    "from selenium.webdriver.common.by import By\n",
    "from selenium.webdriver.support.ui import WebDriverWait\n",
    "from selenium.webdriver.support import expected_conditions as EC\n",
    "from docx import Document"
   ]
  },
  {
   "cell_type": "code",
   "execution_count": 54,
   "metadata": {
    "collapsed": true
   },
   "outputs": [],
   "source": [
    "browser = webdriver.Chrome('../../../../chromedriver')"
   ]
  },
  {
   "cell_type": "code",
   "execution_count": 3,
   "metadata": {},
   "outputs": [
    {
     "data": {
      "text/html": [
       "<div>\n",
       "<style>\n",
       "    .dataframe thead tr:only-child th {\n",
       "        text-align: right;\n",
       "    }\n",
       "\n",
       "    .dataframe thead th {\n",
       "        text-align: left;\n",
       "    }\n",
       "\n",
       "    .dataframe tbody tr th {\n",
       "        vertical-align: top;\n",
       "    }\n",
       "</style>\n",
       "<table border=\"1\" class=\"dataframe\">\n",
       "  <thead>\n",
       "    <tr style=\"text-align: right;\">\n",
       "      <th></th>\n",
       "      <th>casecourt</th>\n",
       "      <th>casenumber</th>\n",
       "      <th>judgedate</th>\n",
       "      <th>realid</th>\n",
       "      <th>stage</th>\n",
       "      <th>title</th>\n",
       "      <th>url</th>\n",
       "      <th>year</th>\n",
       "      <th>prosecution</th>\n",
       "      <th>downloaded</th>\n",
       "    </tr>\n",
       "  </thead>\n",
       "  <tbody>\n",
       "    <tr>\n",
       "      <th>0</th>\n",
       "      <td>广东省高级人民法院</td>\n",
       "      <td>（2017）粤刑终67号</td>\n",
       "      <td>2017-03-08</td>\n",
       "      <td>cd9a2e03-feca-455a-8063-a82d011d12da</td>\n",
       "      <td>二审</td>\n",
       "      <td>郑秀怀走私珍贵动物、珍贵动物制品二审刑事裁定书</td>\n",
       "      <td>http://wenshu.court.gov.cn/content/content?Doc...</td>\n",
       "      <td>2017</td>\n",
       "      <td>刑事</td>\n",
       "      <td>False</td>\n",
       "    </tr>\n",
       "    <tr>\n",
       "      <th>1</th>\n",
       "      <td>浙江省高级人民法院</td>\n",
       "      <td>（2014）浙刑二终字第78号</td>\n",
       "      <td>2014-11-10</td>\n",
       "      <td>df9c3b1f-a0f9-4c6f-99aa-709f3fd6f87e</td>\n",
       "      <td>二审</td>\n",
       "      <td>朱新潮受贿罪二审刑事裁定书</td>\n",
       "      <td>http://wenshu.court.gov.cn/content/content?Doc...</td>\n",
       "      <td>2014</td>\n",
       "      <td>刑事</td>\n",
       "      <td>True</td>\n",
       "    </tr>\n",
       "    <tr>\n",
       "      <th>2</th>\n",
       "      <td>云南省高级人民法院</td>\n",
       "      <td>（2018）云刑终235号</td>\n",
       "      <td>2018-03-12</td>\n",
       "      <td>d0da7477-3229-449b-9b95-a91100f4c001</td>\n",
       "      <td>二审</td>\n",
       "      <td>杨忠华、苏家华走私、贩卖、运输、制造毒品二审刑事裁定书</td>\n",
       "      <td>http://wenshu.court.gov.cn/content/content?Doc...</td>\n",
       "      <td>2018</td>\n",
       "      <td>刑事</td>\n",
       "      <td>True</td>\n",
       "    </tr>\n",
       "    <tr>\n",
       "      <th>3</th>\n",
       "      <td>云南省高级人民法院</td>\n",
       "      <td>（2018）云刑终1128号</td>\n",
       "      <td>2018-11-19</td>\n",
       "      <td>75bfc4c4-f965-444a-a305-a9bb00bc13ef</td>\n",
       "      <td>二审</td>\n",
       "      <td>赵东国、赵信国走私、贩卖、运输、制造毒品二审刑事裁定书</td>\n",
       "      <td>http://wenshu.court.gov.cn/content/content?Doc...</td>\n",
       "      <td>2018</td>\n",
       "      <td>刑事</td>\n",
       "      <td>False</td>\n",
       "    </tr>\n",
       "    <tr>\n",
       "      <th>4</th>\n",
       "      <td>海南省高级人民法院</td>\n",
       "      <td>（2015）琼刑二终字第20号</td>\n",
       "      <td>2015-09-06</td>\n",
       "      <td>bd7c279d-6903-4cd7-8e17-98772b7db89a</td>\n",
       "      <td>二审</td>\n",
       "      <td>陈某甲、魏某甲等犯走私珍贵动物、珍贵动物制品罪二审刑事判决书</td>\n",
       "      <td>http://wenshu.court.gov.cn/content/content?Doc...</td>\n",
       "      <td>2015</td>\n",
       "      <td>刑事</td>\n",
       "      <td>False</td>\n",
       "    </tr>\n",
       "  </tbody>\n",
       "</table>\n",
       "</div>"
      ],
      "text/plain": [
       "   casecourt       casenumber   judgedate  \\\n",
       "0  广东省高级人民法院     （2017）粤刑终67号  2017-03-08   \n",
       "1  浙江省高级人民法院  （2014）浙刑二终字第78号  2014-11-10   \n",
       "2  云南省高级人民法院    （2018）云刑终235号  2018-03-12   \n",
       "3  云南省高级人民法院   （2018）云刑终1128号  2018-11-19   \n",
       "4  海南省高级人民法院  （2015）琼刑二终字第20号  2015-09-06   \n",
       "\n",
       "                                 realid stage                           title  \\\n",
       "0  cd9a2e03-feca-455a-8063-a82d011d12da    二审         郑秀怀走私珍贵动物、珍贵动物制品二审刑事裁定书   \n",
       "1  df9c3b1f-a0f9-4c6f-99aa-709f3fd6f87e    二审                   朱新潮受贿罪二审刑事裁定书   \n",
       "2  d0da7477-3229-449b-9b95-a91100f4c001    二审     杨忠华、苏家华走私、贩卖、运输、制造毒品二审刑事裁定书   \n",
       "3  75bfc4c4-f965-444a-a305-a9bb00bc13ef    二审     赵东国、赵信国走私、贩卖、运输、制造毒品二审刑事裁定书   \n",
       "4  bd7c279d-6903-4cd7-8e17-98772b7db89a    二审  陈某甲、魏某甲等犯走私珍贵动物、珍贵动物制品罪二审刑事判决书   \n",
       "\n",
       "                                                 url  year prosecution  \\\n",
       "0  http://wenshu.court.gov.cn/content/content?Doc...  2017          刑事   \n",
       "1  http://wenshu.court.gov.cn/content/content?Doc...  2014          刑事   \n",
       "2  http://wenshu.court.gov.cn/content/content?Doc...  2018          刑事   \n",
       "3  http://wenshu.court.gov.cn/content/content?Doc...  2018          刑事   \n",
       "4  http://wenshu.court.gov.cn/content/content?Doc...  2015          刑事   \n",
       "\n",
       "   downloaded  \n",
       "0       False  \n",
       "1        True  \n",
       "2        True  \n",
       "3       False  \n",
       "4       False  "
      ]
     },
     "execution_count": 3,
     "metadata": {},
     "output_type": "execute_result"
    }
   ],
   "source": [
    "df = pd.read_csv('./case_urls_20190610.csv').drop('Unnamed: 0', axis=1)\n",
    "df.head()"
   ]
  },
  {
   "cell_type": "code",
   "execution_count": 4,
   "metadata": {
    "collapsed": true
   },
   "outputs": [],
   "source": [
    "def export_doc(ps, rowid):\n",
    "    if len(ps) > 1:\n",
    "        doc = Document()\n",
    "        for p in ps:\n",
    "            doc.add_paragraph(p.text)\n",
    "        doc.save('./docs/{}.docx'.format(rowid))\n",
    "        return True\n",
    "    else:\n",
    "        return False"
   ]
  },
  {
   "cell_type": "code",
   "execution_count": 18,
   "metadata": {},
   "outputs": [
    {
     "name": "stdout",
     "output_type": "stream",
     "text": [
      "郑秀怀走私珍贵动物、珍贵动物制品二审刑事裁定书 True\n",
      "朱新潮受贿罪二审刑事裁定书 True\n",
      "杨忠华、苏家华走私、贩卖、运输、制造毒品二审刑事裁定书 True\n",
      "赵东国、赵信国走私、贩卖、运输、制造毒品二审刑事裁定书 True\n",
      "陈某甲、魏某甲等犯走私珍贵动物、珍贵动物制品罪二审刑事判决书 False\n",
      "杨恩强、杨恩大走私、贩卖、运输、制造毒品二审刑事裁定书 False\n",
      "走私珍贵动物、珍贵动物制品二审刑事裁定书 False\n",
      "陈洪波、赵志勇走私珍贵动物、珍贵动物制品二审刑事判决书 False\n",
      "Exception occured in:\n",
      "余国荣走私珍贵动物制品一审刑事判决书 False\n",
      "Exception occured in:\n",
      "石贵荣、石玉开走私、贩卖、运输、制造毒品一审刑事判决书 False\n",
      "Exception occured in:\n",
      "冯栋彬犯走私珍贵动物、珍贵动物制品罪一审刑事判决书 False\n",
      "Exception occured in:\n",
      "瓦咪走私珍贵动物、珍贵动物制品一审刑事判决书 False\n",
      "Exception occured in:\n",
      "林玉辉受贿一审刑事判决书 False\n"
     ]
    },
    {
     "ename": "KeyboardInterrupt",
     "evalue": "",
     "output_type": "error",
     "traceback": [
      "\u001b[0;31m---------------------------------------------------------------------------\u001b[0m",
      "\u001b[0;31mKeyboardInterrupt\u001b[0m                         Traceback (most recent call last)",
      "\u001b[0;32m<ipython-input-18-b907323ed9a2>\u001b[0m in \u001b[0;36m<module>\u001b[0;34m()\u001b[0m\n\u001b[1;32m      2\u001b[0m \u001b[0;32mfor\u001b[0m \u001b[0mindex\u001b[0m\u001b[0;34m,\u001b[0m \u001b[0mrow\u001b[0m \u001b[0;32min\u001b[0m \u001b[0mdf\u001b[0m\u001b[0;34m.\u001b[0m\u001b[0miterrows\u001b[0m\u001b[0;34m(\u001b[0m\u001b[0;34m)\u001b[0m\u001b[0;34m:\u001b[0m\u001b[0;34m\u001b[0m\u001b[0m\n\u001b[1;32m      3\u001b[0m     \u001b[0;32mif\u001b[0m \u001b[0mrow\u001b[0m\u001b[0;34m[\u001b[0m\u001b[0;34m'downloaded'\u001b[0m\u001b[0;34m]\u001b[0m \u001b[0;34m==\u001b[0m \u001b[0;32mFalse\u001b[0m\u001b[0;34m:\u001b[0m\u001b[0;34m\u001b[0m\u001b[0m\n\u001b[0;32m----> 4\u001b[0;31m         \u001b[0mtime\u001b[0m\u001b[0;34m.\u001b[0m\u001b[0msleep\u001b[0m\u001b[0;34m(\u001b[0m\u001b[0;36m2\u001b[0m\u001b[0;34m)\u001b[0m\u001b[0;34m\u001b[0m\u001b[0m\n\u001b[0m\u001b[1;32m      5\u001b[0m         \u001b[0;32mtry\u001b[0m\u001b[0;34m:\u001b[0m\u001b[0;34m\u001b[0m\u001b[0m\n\u001b[1;32m      6\u001b[0m             \u001b[0mbrowser\u001b[0m\u001b[0;34m.\u001b[0m\u001b[0mget\u001b[0m\u001b[0;34m(\u001b[0m\u001b[0;34m'http://wenshu.court.gov.cn'\u001b[0m\u001b[0;34m)\u001b[0m \u001b[0;31m# !! Important to avoid Error 500 caused by parent path error\u001b[0m\u001b[0;34m\u001b[0m\u001b[0m\n",
      "\u001b[0;31mKeyboardInterrupt\u001b[0m: "
     ]
    }
   ],
   "source": [
    "#https://selenium-python.readthedocs.io/waits.html\n",
    "for index, row in df.iterrows():\n",
    "    if row['downloaded'] == False:\n",
    "        time.sleep(2)\n",
    "        try:\n",
    "            browser.get('http://wenshu.court.gov.cn') # !! Important to avoid Error 500 caused by parent path error\n",
    "            time.sleep(3)\n",
    "            browser.get(row['url'])\n",
    "            pdiv = WebDriverWait(browser, 30).until(\n",
    "                EC.presence_of_element_located((By.ID, \"DivContent\"))\n",
    "            )\n",
    "            ps = pdiv.find_elements_by_css_selector('div')\n",
    "            df.loc[index, 'downloaded'] = export_doc(ps, index)\n",
    "        except:\n",
    "            print('Exception occured in:')\n",
    "    print(row['title'], row['downloaded'])"
   ]
  },
  {
   "cell_type": "markdown",
   "metadata": {},
   "source": [
    "## Try extracting info from input tag"
   ]
  },
  {
   "cell_type": "code",
   "execution_count": 47,
   "metadata": {},
   "outputs": [],
   "source": [
    "def extract_doc_from_tag(_json, rowid):\n",
    "    doc = Document()\n",
    "    for key, value in _json.items():\n",
    "        if (value != None) & (value != ''):\n",
    "            value = key + ': ' + html.unescape(value)\n",
    "            doc.add_paragraph(value)\n",
    "    doc.save('./docs/{}.docx'.format(rowid))\n"
   ]
  },
  {
   "cell_type": "code",
   "execution_count": 50,
   "metadata": {},
   "outputs": [
    {
     "name": "stdout",
     "output_type": "stream",
     "text": [
      "郑秀怀走私珍贵动物、珍贵动物制品二审刑事裁定书 True\n",
      "朱新潮受贿罪二审刑事裁定书 True\n",
      "杨忠华、苏家华走私、贩卖、运输、制造毒品二审刑事裁定书 True\n",
      "赵东国、赵信国走私、贩卖、运输、制造毒品二审刑事裁定书 True\n",
      "陈某甲、魏某甲等犯走私珍贵动物、珍贵动物制品罪二审刑事判决书 True\n",
      "Exception occured in:\n",
      "杨恩强、杨恩大走私、贩卖、运输、制造毒品二审刑事裁定书 False\n",
      "Exception occured in:\n",
      "走私珍贵动物、珍贵动物制品二审刑事裁定书 False\n",
      "Exception occured in:\n",
      "陈洪波、赵志勇走私珍贵动物、珍贵动物制品二审刑事判决书 False\n",
      "余国荣走私珍贵动物制品一审刑事判决书 False\n",
      "Exception occured in:\n",
      "石贵荣、石玉开走私、贩卖、运输、制造毒品一审刑事判决书 False\n",
      "冯栋彬犯走私珍贵动物、珍贵动物制品罪一审刑事判决书 False\n",
      "Exception occured in:\n",
      "瓦咪走私珍贵动物、珍贵动物制品一审刑事判决书 False\n",
      "Exception occured in:\n",
      "林玉辉受贿一审刑事判决书 False\n"
     ]
    },
    {
     "ename": "KeyboardInterrupt",
     "evalue": "",
     "output_type": "error",
     "traceback": [
      "\u001b[0;31m---------------------------------------------------------------------------\u001b[0m",
      "\u001b[0;31mKeyboardInterrupt\u001b[0m                         Traceback (most recent call last)",
      "\u001b[0;32m<ipython-input-50-a1526a5ec61e>\u001b[0m in \u001b[0;36m<module>\u001b[0;34m()\u001b[0m\n\u001b[1;32m      1\u001b[0m \u001b[0;32mfor\u001b[0m \u001b[0mindex\u001b[0m\u001b[0;34m,\u001b[0m \u001b[0mrow\u001b[0m \u001b[0;32min\u001b[0m \u001b[0mdf\u001b[0m\u001b[0;34m.\u001b[0m\u001b[0miterrows\u001b[0m\u001b[0;34m(\u001b[0m\u001b[0;34m)\u001b[0m\u001b[0;34m:\u001b[0m\u001b[0;34m\u001b[0m\u001b[0m\n\u001b[1;32m      2\u001b[0m     \u001b[0;32mif\u001b[0m \u001b[0mrow\u001b[0m\u001b[0;34m[\u001b[0m\u001b[0;34m'downloaded'\u001b[0m\u001b[0;34m]\u001b[0m \u001b[0;34m==\u001b[0m \u001b[0;32mFalse\u001b[0m\u001b[0;34m:\u001b[0m\u001b[0;34m\u001b[0m\u001b[0m\n\u001b[0;32m----> 3\u001b[0;31m         \u001b[0mtime\u001b[0m\u001b[0;34m.\u001b[0m\u001b[0msleep\u001b[0m\u001b[0;34m(\u001b[0m\u001b[0;36m2\u001b[0m\u001b[0;34m)\u001b[0m\u001b[0;34m\u001b[0m\u001b[0m\n\u001b[0m\u001b[1;32m      4\u001b[0m         \u001b[0;32mtry\u001b[0m\u001b[0;34m:\u001b[0m\u001b[0;34m\u001b[0m\u001b[0m\n\u001b[1;32m      5\u001b[0m             \u001b[0mbrowser\u001b[0m\u001b[0;34m.\u001b[0m\u001b[0mget\u001b[0m\u001b[0;34m(\u001b[0m\u001b[0;34m'http://wenshu.court.gov.cn'\u001b[0m\u001b[0;34m)\u001b[0m \u001b[0;31m# !! Important to avoid Error 500 caused by parent path error\u001b[0m\u001b[0;34m\u001b[0m\u001b[0m\n",
      "\u001b[0;31mKeyboardInterrupt\u001b[0m: "
     ]
    }
   ],
   "source": [
    "for index, row in df.iterrows():\n",
    "    if row['downloaded'] == False:\n",
    "        time.sleep(2)\n",
    "        try:\n",
    "            browser.get('http://wenshu.court.gov.cn') # !! Important to avoid Error 500 caused by parent path error\n",
    "            time.sleep(3)\n",
    "            browser.get(row['url'])\n",
    "            time.sleep(3)\n",
    "            \n",
    "            info = browser.find_element_by_css_selector('input#hidCaseInfo')\n",
    "            info_json = json.loads(info.get_attribute('value'))\n",
    "            \n",
    "            extract_doc_from_tag(info_json, index)\n",
    "            df.loc[index, 'downloaded'] = True\n",
    "        except:\n",
    "            print('Exception occured in:')\n",
    "    print(row['title'], df.loc[index, 'downloaded'])"
   ]
  },
  {
   "cell_type": "code",
   "execution_count": 63,
   "metadata": {},
   "outputs": [
    {
     "data": {
      "text/html": [
       "<div>\n",
       "<style>\n",
       "    .dataframe thead tr:only-child th {\n",
       "        text-align: right;\n",
       "    }\n",
       "\n",
       "    .dataframe thead th {\n",
       "        text-align: left;\n",
       "    }\n",
       "\n",
       "    .dataframe tbody tr th {\n",
       "        vertical-align: top;\n",
       "    }\n",
       "</style>\n",
       "<table border=\"1\" class=\"dataframe\">\n",
       "  <thead>\n",
       "    <tr style=\"text-align: right;\">\n",
       "      <th></th>\n",
       "      <th>casecourt</th>\n",
       "      <th>casenumber</th>\n",
       "      <th>judgedate</th>\n",
       "      <th>realid</th>\n",
       "      <th>stage</th>\n",
       "      <th>title</th>\n",
       "      <th>url</th>\n",
       "      <th>year</th>\n",
       "      <th>prosecution</th>\n",
       "      <th>downloaded</th>\n",
       "    </tr>\n",
       "  </thead>\n",
       "  <tbody>\n",
       "    <tr>\n",
       "      <th>0</th>\n",
       "      <td>广东省高级人民法院</td>\n",
       "      <td>（2017）粤刑终67号</td>\n",
       "      <td>2017-03-08</td>\n",
       "      <td>cd9a2e03-feca-455a-8063-a82d011d12da</td>\n",
       "      <td>二审</td>\n",
       "      <td>郑秀怀走私珍贵动物、珍贵动物制品二审刑事裁定书</td>\n",
       "      <td>http://wenshu.court.gov.cn/content/content?Doc...</td>\n",
       "      <td>2017</td>\n",
       "      <td>刑事</td>\n",
       "      <td>True</td>\n",
       "    </tr>\n",
       "    <tr>\n",
       "      <th>1</th>\n",
       "      <td>浙江省高级人民法院</td>\n",
       "      <td>（2014）浙刑二终字第78号</td>\n",
       "      <td>2014-11-10</td>\n",
       "      <td>df9c3b1f-a0f9-4c6f-99aa-709f3fd6f87e</td>\n",
       "      <td>二审</td>\n",
       "      <td>朱新潮受贿罪二审刑事裁定书</td>\n",
       "      <td>http://wenshu.court.gov.cn/content/content?Doc...</td>\n",
       "      <td>2014</td>\n",
       "      <td>刑事</td>\n",
       "      <td>True</td>\n",
       "    </tr>\n",
       "    <tr>\n",
       "      <th>2</th>\n",
       "      <td>云南省高级人民法院</td>\n",
       "      <td>（2018）云刑终235号</td>\n",
       "      <td>2018-03-12</td>\n",
       "      <td>d0da7477-3229-449b-9b95-a91100f4c001</td>\n",
       "      <td>二审</td>\n",
       "      <td>杨忠华、苏家华走私、贩卖、运输、制造毒品二审刑事裁定书</td>\n",
       "      <td>http://wenshu.court.gov.cn/content/content?Doc...</td>\n",
       "      <td>2018</td>\n",
       "      <td>刑事</td>\n",
       "      <td>True</td>\n",
       "    </tr>\n",
       "    <tr>\n",
       "      <th>3</th>\n",
       "      <td>云南省高级人民法院</td>\n",
       "      <td>（2018）云刑终1128号</td>\n",
       "      <td>2018-11-19</td>\n",
       "      <td>75bfc4c4-f965-444a-a305-a9bb00bc13ef</td>\n",
       "      <td>二审</td>\n",
       "      <td>赵东国、赵信国走私、贩卖、运输、制造毒品二审刑事裁定书</td>\n",
       "      <td>http://wenshu.court.gov.cn/content/content?Doc...</td>\n",
       "      <td>2018</td>\n",
       "      <td>刑事</td>\n",
       "      <td>True</td>\n",
       "    </tr>\n",
       "  </tbody>\n",
       "</table>\n",
       "</div>"
      ],
      "text/plain": [
       "   casecourt       casenumber   judgedate  \\\n",
       "0  广东省高级人民法院     （2017）粤刑终67号  2017-03-08   \n",
       "1  浙江省高级人民法院  （2014）浙刑二终字第78号  2014-11-10   \n",
       "2  云南省高级人民法院    （2018）云刑终235号  2018-03-12   \n",
       "3  云南省高级人民法院   （2018）云刑终1128号  2018-11-19   \n",
       "\n",
       "                                 realid stage                        title  \\\n",
       "0  cd9a2e03-feca-455a-8063-a82d011d12da    二审      郑秀怀走私珍贵动物、珍贵动物制品二审刑事裁定书   \n",
       "1  df9c3b1f-a0f9-4c6f-99aa-709f3fd6f87e    二审                朱新潮受贿罪二审刑事裁定书   \n",
       "2  d0da7477-3229-449b-9b95-a91100f4c001    二审  杨忠华、苏家华走私、贩卖、运输、制造毒品二审刑事裁定书   \n",
       "3  75bfc4c4-f965-444a-a305-a9bb00bc13ef    二审  赵东国、赵信国走私、贩卖、运输、制造毒品二审刑事裁定书   \n",
       "\n",
       "                                                 url  year prosecution  \\\n",
       "0  http://wenshu.court.gov.cn/content/content?Doc...  2017          刑事   \n",
       "1  http://wenshu.court.gov.cn/content/content?Doc...  2014          刑事   \n",
       "2  http://wenshu.court.gov.cn/content/content?Doc...  2018          刑事   \n",
       "3  http://wenshu.court.gov.cn/content/content?Doc...  2018          刑事   \n",
       "\n",
       "   downloaded  \n",
       "0        True  \n",
       "1        True  \n",
       "2        True  \n",
       "3        True  "
      ]
     },
     "execution_count": 63,
     "metadata": {},
     "output_type": "execute_result"
    }
   ],
   "source": [
    "df[df['downloaded']==True]"
   ]
  },
  {
   "cell_type": "code",
   "execution_count": 62,
   "metadata": {},
   "outputs": [],
   "source": [
    "# browser.get('http://wenshu.court.gov.cn')\n",
    "# browser.get(df.loc[10, 'url'])"
   ]
  },
  {
   "cell_type": "code",
   "execution_count": 64,
   "metadata": {
    "collapsed": true
   },
   "outputs": [],
   "source": [
    "# execute before logging out\n",
    "df.to_csv('case_urls_20190610.csv', encoding='utf_8_sig')"
   ]
  },
  {
   "cell_type": "code",
   "execution_count": null,
   "metadata": {
    "collapsed": true
   },
   "outputs": [],
   "source": []
  }
 ],
 "metadata": {
  "kernelspec": {
   "display_name": "Python 3",
   "language": "python",
   "name": "python3"
  },
  "language_info": {
   "codemirror_mode": {
    "name": "ipython",
    "version": 3
   },
   "file_extension": ".py",
   "mimetype": "text/x-python",
   "name": "python",
   "nbconvert_exporter": "python",
   "pygments_lexer": "ipython3",
   "version": "3.6.1"
  }
 },
 "nbformat": 4,
 "nbformat_minor": 2
}
