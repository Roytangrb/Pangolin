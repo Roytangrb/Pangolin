{
 "cells": [
  {
   "cell_type": "markdown",
   "metadata": {},
   "source": [
    "# Scrap http://wenshu.court.gov.cn/"
   ]
  },
  {
   "cell_type": "code",
   "execution_count": 1,
   "metadata": {
    "collapsed": true
   },
   "outputs": [],
   "source": [
    "import time\n",
    "import numpy as np\n",
    "import pandas as pd\n",
    "from selenium import webdriver\n",
    "\n",
    "browser = webdriver.Chrome('../../../../chromedriver')"
   ]
  },
  {
   "cell_type": "code",
   "execution_count": 5,
   "metadata": {
    "collapsed": true
   },
   "outputs": [],
   "source": [
    "browser.get('http://wenshu.court.gov.cn/')"
   ]
  },
  {
   "cell_type": "code",
   "execution_count": 6,
   "metadata": {
    "collapsed": true
   },
   "outputs": [],
   "source": [
    "browser.find_element_by_css_selector(\"input#head_maxsearch_btn\").click()\n",
    "browser.find_element_by_css_selector(\"input#completxt\").send_keys('穿山甲')\n",
    "#select 刑事案件\n",
    "browser.find_element_by_css_selector(\"input#selectTree2_input\").click()\n",
    "browser.find_element_by_css_selector(\"a#selectTree2_tree_2_a\").click()\n",
    "browser.find_element_by_css_selector(\"input#list_btnmaxsearch\").click()"
   ]
  },
  {
   "cell_type": "code",
   "execution_count": 4,
   "metadata": {
    "collapsed": true
   },
   "outputs": [],
   "source": [
    "def extractPage():\n",
    "    page = list()\n",
    "    items = browser.find_elements_by_css_selector(\".dataItem\")\n",
    "    for item in items:\n",
    "        labels = item.find_elements_by_css_selector(\"div.label div.ajlx_lable\")\n",
    "        stage = ' '.join(str(x.text) for x in labels)\n",
    "        key = item.get_attribute('key')\n",
    "        realid = browser.execute_script('return com.str.Decrypt(unzip(arguments[0]))', key)\n",
    "        realurl = 'http://wenshu.court.gov.cn/content/content?DocID=' + realid + '&KeyWord=' + '穿山甲'\n",
    "        page.append({\n",
    "            'judgedate': item.get_attribute('judgedate'),\n",
    "            'casenumber': item.get_attribute('casenumber'),\n",
    "            'casecourt': item.get_attribute('casecourt'),\n",
    "            'stage': stage,\n",
    "            'title': item.get_attribute('title'),\n",
    "            'realid': realid,\n",
    "            'url': realurl\n",
    "        })\n",
    "    time.sleep(1)\n",
    "    return page"
   ]
  },
  {
   "cell_type": "code",
   "execution_count": 7,
   "metadata": {
    "collapsed": true
   },
   "outputs": [],
   "source": [
    "pages = list()"
   ]
  },
  {
   "cell_type": "code",
   "execution_count": 16,
   "metadata": {
    "collapsed": true
   },
   "outputs": [],
   "source": [
    "new = extractPage()\n",
    "for item in new:\n",
    "    pages.append(item)"
   ]
  },
  {
   "cell_type": "code",
   "execution_count": 17,
   "metadata": {},
   "outputs": [
    {
     "data": {
      "text/plain": [
       "29"
      ]
     },
     "execution_count": 17,
     "metadata": {},
     "output_type": "execute_result"
    }
   ],
   "source": [
    "len(pages)"
   ]
  },
  {
   "cell_type": "code",
   "execution_count": 18,
   "metadata": {
    "collapsed": true
   },
   "outputs": [],
   "source": [
    "df = pd.DataFrame(pages)"
   ]
  },
  {
   "cell_type": "code",
   "execution_count": 19,
   "metadata": {},
   "outputs": [
    {
     "data": {
      "text/html": [
       "<div>\n",
       "<style>\n",
       "    .dataframe thead tr:only-child th {\n",
       "        text-align: right;\n",
       "    }\n",
       "\n",
       "    .dataframe thead th {\n",
       "        text-align: left;\n",
       "    }\n",
       "\n",
       "    .dataframe tbody tr th {\n",
       "        vertical-align: top;\n",
       "    }\n",
       "</style>\n",
       "<table border=\"1\" class=\"dataframe\">\n",
       "  <thead>\n",
       "    <tr style=\"text-align: right;\">\n",
       "      <th></th>\n",
       "      <th>casecourt</th>\n",
       "      <th>casenumber</th>\n",
       "      <th>judgedate</th>\n",
       "      <th>realid</th>\n",
       "      <th>stage</th>\n",
       "      <th>title</th>\n",
       "      <th>url</th>\n",
       "      <th>year</th>\n",
       "      <th>prosecution</th>\n",
       "    </tr>\n",
       "  </thead>\n",
       "  <tbody>\n",
       "    <tr>\n",
       "      <th>0</th>\n",
       "      <td>漳平市人民法院</td>\n",
       "      <td>（2015）漳刑初字第165号</td>\n",
       "      <td>2015-07-31</td>\n",
       "      <td>e5dacf9d-1157-488f-89d5-17477f42fb15</td>\n",
       "      <td>一审</td>\n",
       "      <td>被告人蓝某某、蓝某甲、蓝某乙、刘某某、雷某某、易某某、刘某甲非法猎捕珍贵、濒危野生动物罪一案...</td>\n",
       "      <td>http://wenshu.court.gov.cn/content/content?Doc...</td>\n",
       "      <td>2015</td>\n",
       "      <td>刑事</td>\n",
       "    </tr>\n",
       "    <tr>\n",
       "      <th>1</th>\n",
       "      <td>腾冲市人民法院</td>\n",
       "      <td>（2016）云0581刑初153号</td>\n",
       "      <td>2016-05-10</td>\n",
       "      <td>c92a5112-9c6f-4d55-83be-7590c4a638ed</td>\n",
       "      <td>一审</td>\n",
       "      <td>段某某走私珍贵动物案一审刑事判决书</td>\n",
       "      <td>http://wenshu.court.gov.cn/content/content?Doc...</td>\n",
       "      <td>2016</td>\n",
       "      <td>刑事</td>\n",
       "    </tr>\n",
       "    <tr>\n",
       "      <th>2</th>\n",
       "      <td>庆阳市西峰区人民法院</td>\n",
       "      <td>（2018）甘1002刑初261号</td>\n",
       "      <td>2019-02-12</td>\n",
       "      <td>a6123e2d-31de-48cb-9c8c-aa14014c5581</td>\n",
       "      <td>一审</td>\n",
       "      <td>南某某生产、销售假药一审刑事判决书</td>\n",
       "      <td>http://wenshu.court.gov.cn/content/content?Doc...</td>\n",
       "      <td>2018</td>\n",
       "      <td>刑事</td>\n",
       "    </tr>\n",
       "    <tr>\n",
       "      <th>3</th>\n",
       "      <td>腾冲市人民法院</td>\n",
       "      <td>（2016）云0581刑初205号</td>\n",
       "      <td>2016-06-12</td>\n",
       "      <td>2ffcca10-736e-413b-bb28-857c632c2030</td>\n",
       "      <td>一审</td>\n",
       "      <td>高某走私珍贵动物案一审刑事判决书</td>\n",
       "      <td>http://wenshu.court.gov.cn/content/content?Doc...</td>\n",
       "      <td>2016</td>\n",
       "      <td>刑事</td>\n",
       "    </tr>\n",
       "    <tr>\n",
       "      <th>4</th>\n",
       "      <td>腾冲县人民法院</td>\n",
       "      <td>（2016）云0581刑初307号</td>\n",
       "      <td>2016-08-11</td>\n",
       "      <td>bfb204b9-c729-4b1c-b981-03edf48f068c</td>\n",
       "      <td>一审</td>\n",
       "      <td>郭某某、余某某走私珍贵动物、珍贵动物制品案一审刑事判决书</td>\n",
       "      <td>http://wenshu.court.gov.cn/content/content?Doc...</td>\n",
       "      <td>2016</td>\n",
       "      <td>刑事</td>\n",
       "    </tr>\n",
       "  </tbody>\n",
       "</table>\n",
       "</div>"
      ],
      "text/plain": [
       "    casecourt         casenumber   judgedate  \\\n",
       "0     漳平市人民法院    （2015）漳刑初字第165号  2015-07-31   \n",
       "1     腾冲市人民法院  （2016）云0581刑初153号  2016-05-10   \n",
       "2  庆阳市西峰区人民法院  （2018）甘1002刑初261号  2019-02-12   \n",
       "3     腾冲市人民法院  （2016）云0581刑初205号  2016-06-12   \n",
       "4     腾冲县人民法院  （2016）云0581刑初307号  2016-08-11   \n",
       "\n",
       "                                 realid stage  \\\n",
       "0  e5dacf9d-1157-488f-89d5-17477f42fb15    一审   \n",
       "1  c92a5112-9c6f-4d55-83be-7590c4a638ed    一审   \n",
       "2  a6123e2d-31de-48cb-9c8c-aa14014c5581    一审   \n",
       "3  2ffcca10-736e-413b-bb28-857c632c2030    一审   \n",
       "4  bfb204b9-c729-4b1c-b981-03edf48f068c    一审   \n",
       "\n",
       "                                               title  \\\n",
       "0  被告人蓝某某、蓝某甲、蓝某乙、刘某某、雷某某、易某某、刘某甲非法猎捕珍贵、濒危野生动物罪一案...   \n",
       "1                                  段某某走私珍贵动物案一审刑事判决书   \n",
       "2                                  南某某生产、销售假药一审刑事判决书   \n",
       "3                                   高某走私珍贵动物案一审刑事判决书   \n",
       "4                       郭某某、余某某走私珍贵动物、珍贵动物制品案一审刑事判决书   \n",
       "\n",
       "                                                 url  year prosecution  \n",
       "0  http://wenshu.court.gov.cn/content/content?Doc...  2015          刑事  \n",
       "1  http://wenshu.court.gov.cn/content/content?Doc...  2016          刑事  \n",
       "2  http://wenshu.court.gov.cn/content/content?Doc...  2018          刑事  \n",
       "3  http://wenshu.court.gov.cn/content/content?Doc...  2016          刑事  \n",
       "4  http://wenshu.court.gov.cn/content/content?Doc...  2016          刑事  "
      ]
     },
     "execution_count": 19,
     "metadata": {},
     "output_type": "execute_result"
    }
   ],
   "source": [
    "years = df['casenumber'].str.extract(r'.*（(.*)）.*', expand=False)\n",
    "df['year'] = years\n",
    "df['prosecution'], df['stage'] = df['stage'].str.split(' ', 1).str\n",
    "df.head()"
   ]
  },
  {
   "cell_type": "code",
   "execution_count": 21,
   "metadata": {
    "collapsed": true
   },
   "outputs": [],
   "source": [
    "df.to_csv('./case_urls9_11.csv', encoding='utf_8_sig')"
   ]
  },
  {
   "cell_type": "markdown",
   "metadata": {},
   "source": [
    "### count case court locations"
   ]
  },
  {
   "cell_type": "code",
   "execution_count": 69,
   "metadata": {},
   "outputs": [
    {
     "data": {
      "text/plain": [
       "casecourt\n",
       "上海     7\n",
       "云南    21\n",
       "勐海     1\n",
       "南丹     1\n",
       "大丰     1\n",
       "天津     1\n",
       "山东     1\n",
       "广东    10\n",
       "广西     4\n",
       "昆明     1\n",
       "梧州     1\n",
       "浙江     2\n",
       "海南     1\n",
       "湖南     2\n",
       "甘肃     1\n",
       "福建     1\n",
       "腾冲     1\n",
       "蕲春     1\n",
       "陕西     1\n",
       "黄山     1\n",
       "dtype: int64"
      ]
     },
     "execution_count": 69,
     "metadata": {},
     "output_type": "execute_result"
    }
   ],
   "source": [
    "pd.DataFrame(df['casecourt'].str[:2]).groupby('casecourt').size()"
   ]
  },
  {
   "cell_type": "code",
   "execution_count": null,
   "metadata": {
    "collapsed": true
   },
   "outputs": [],
   "source": []
  }
 ],
 "metadata": {
  "kernelspec": {
   "display_name": "Python 3",
   "language": "python",
   "name": "python3"
  },
  "language_info": {
   "codemirror_mode": {
    "name": "ipython",
    "version": 3
   },
   "file_extension": ".py",
   "mimetype": "text/x-python",
   "name": "python",
   "nbconvert_exporter": "python",
   "pygments_lexer": "ipython3",
   "version": "3.6.1"
  }
 },
 "nbformat": 4,
 "nbformat_minor": 2
}
