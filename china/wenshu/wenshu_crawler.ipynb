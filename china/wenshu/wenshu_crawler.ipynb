{
 "cells": [
  {
   "cell_type": "markdown",
   "metadata": {},
   "source": [
    "# Scrap http://wenshu.court.gov.cn/"
   ]
  },
  {
   "cell_type": "code",
   "execution_count": 1,
   "metadata": {
    "collapsed": true
   },
   "outputs": [],
   "source": [
    "import time\n",
    "import numpy as np\n",
    "import pandas as pd\n",
    "from selenium import webdriver\n",
    "\n",
    "browser = webdriver.Chrome('../../../../chromedriver')"
   ]
  },
  {
   "cell_type": "code",
   "execution_count": 11,
   "metadata": {},
   "outputs": [],
   "source": [
    "browser.get('http://wenshu.court.gov.cn/')"
   ]
  },
  {
   "cell_type": "code",
   "execution_count": 18,
   "metadata": {},
   "outputs": [],
   "source": [
    "browser.find_element_by_css_selector(\"input#head_maxsearch_btn\").click()\n",
    "browser.find_element_by_css_selector(\"input#completxt\").send_keys('穿山甲')\n",
    "#select 刑事案件\n",
    "browser.find_element_by_css_selector(\"input#selectTree2_input\").click()\n",
    "browser.find_element_by_css_selector(\"a#selectTree2_tree_2_a\").click()\n",
    "browser.find_element_by_css_selector(\"input#list_btnmaxsearch\").click()"
   ]
  },
  {
   "cell_type": "code",
   "execution_count": 7,
   "metadata": {
    "collapsed": true
   },
   "outputs": [],
   "source": [
    "def extractPage():\n",
    "    page = list()\n",
    "    items = browser.find_elements_by_css_selector(\".dataItem\")\n",
    "    for item in items:\n",
    "        labels = item.find_elements_by_css_selector(\"div.label div.ajlx_lable\")\n",
    "        stage = ' '.join(str(x.text) for x in labels)\n",
    "        key = item.get_attribute('key')\n",
    "        realid = browser.execute_script('return com.str.Decrypt(unzip(arguments[0]))', key)\n",
    "        realurl = 'http://wenshu.court.gov.cn/content/content?DocID=' + realid + '&KeyWord=' + '穿山甲'\n",
    "        page.append({\n",
    "            'judgedate': item.get_attribute('judgedate'),\n",
    "            'casenumber': item.get_attribute('casenumber'),\n",
    "            'casecourt': item.get_attribute('casecourt'),\n",
    "            'stage': stage,\n",
    "            'title': item.get_attribute('title'),\n",
    "            'realid': realid,\n",
    "            'url': realurl\n",
    "        })\n",
    "    time.sleep(1)\n",
    "    return page"
   ]
  },
  {
   "cell_type": "code",
   "execution_count": 13,
   "metadata": {
    "collapsed": true
   },
   "outputs": [],
   "source": [
    "pages = list()"
   ]
  },
  {
   "cell_type": "code",
   "execution_count": 16,
   "metadata": {
    "collapsed": true
   },
   "outputs": [],
   "source": [
    "pages.append(extractPage())"
   ]
  },
  {
   "cell_type": "code",
   "execution_count": 20,
   "metadata": {},
   "outputs": [
    {
     "data": {
      "text/plain": [
       "[[{'casecourt': '广东省高级人民法院',\n",
       "   'casenumber': '（2017）粤刑终67号',\n",
       "   'judgedate': '2017-03-08',\n",
       "   'realid': 'cd9a2e03-feca-455a-8063-a82d011d12da',\n",
       "   'stage': '刑事 二审',\n",
       "   'title': '郑秀怀走私珍贵动物、珍贵动物制品二审刑事裁定书',\n",
       "   'url': 'http://wenshu.court.gov.cn/content/content?DocID=cd9a2e03-feca-455a-8063-a82d011d12da&KeyWord=穿山甲'},\n",
       "  {'casecourt': '浙江省高级人民法院',\n",
       "   'casenumber': '（2014）浙刑二终字第78号',\n",
       "   'judgedate': '2014-11-10',\n",
       "   'realid': 'df9c3b1f-a0f9-4c6f-99aa-709f3fd6f87e',\n",
       "   'stage': '刑事 二审',\n",
       "   'title': '朱新潮受贿罪二审刑事裁定书',\n",
       "   'url': 'http://wenshu.court.gov.cn/content/content?DocID=df9c3b1f-a0f9-4c6f-99aa-709f3fd6f87e&KeyWord=穿山甲'},\n",
       "  {'casecourt': '云南省高级人民法院',\n",
       "   'casenumber': '（2018）云刑终235号',\n",
       "   'judgedate': '2018-03-12',\n",
       "   'realid': 'd0da7477-3229-449b-9b95-a91100f4c001',\n",
       "   'stage': '刑事 二审',\n",
       "   'title': '杨忠华、苏家华走私、贩卖、运输、制造毒品二审刑事裁定书',\n",
       "   'url': 'http://wenshu.court.gov.cn/content/content?DocID=d0da7477-3229-449b-9b95-a91100f4c001&KeyWord=穿山甲'},\n",
       "  {'casecourt': '云南省高级人民法院',\n",
       "   'casenumber': '（2018）云刑终1128号',\n",
       "   'judgedate': '2018-11-19',\n",
       "   'realid': '75bfc4c4-f965-444a-a305-a9bb00bc13ef',\n",
       "   'stage': '刑事 二审',\n",
       "   'title': '赵东国、赵信国走私、贩卖、运输、制造毒品二审刑事裁定书',\n",
       "   'url': 'http://wenshu.court.gov.cn/content/content?DocID=75bfc4c4-f965-444a-a305-a9bb00bc13ef&KeyWord=穿山甲'},\n",
       "  {'casecourt': '海南省高级人民法院',\n",
       "   'casenumber': '（2015）琼刑二终字第20号',\n",
       "   'judgedate': '2015-09-06',\n",
       "   'realid': 'bd7c279d-6903-4cd7-8e17-98772b7db89a',\n",
       "   'stage': '刑事 二审',\n",
       "   'title': '陈某甲、魏某甲等犯走私珍贵动物、珍贵动物制品罪二审刑事判决书',\n",
       "   'url': 'http://wenshu.court.gov.cn/content/content?DocID=bd7c279d-6903-4cd7-8e17-98772b7db89a&KeyWord=穿山甲'},\n",
       "  {'casecourt': '西藏自治区高级人民法院',\n",
       "   'casenumber': '（2013）藏法刑二终字第18号',\n",
       "   'judgedate': '2013-10-12',\n",
       "   'realid': 'c2421040-a15d-4cc2-ac47-1e7ad8ee4dc9',\n",
       "   'stage': '刑事 二审',\n",
       "   'title': '旺久走私珍贵动物制品二审刑事裁定书',\n",
       "   'url': 'http://wenshu.court.gov.cn/content/content?DocID=c2421040-a15d-4cc2-ac47-1e7ad8ee4dc9&KeyWord=穿山甲'},\n",
       "  {'casecourt': '安徽省高级人民法院',\n",
       "   'casenumber': '（2013）皖刑终字第00441号',\n",
       "   'judgedate': '2014-01-07',\n",
       "   'realid': '4070bafa-f345-4619-a1d5-4d48c56f9a7b',\n",
       "   'stage': '刑事 二审',\n",
       "   'title': '吴明坚徐清贩卖毒品二审刑事裁定书',\n",
       "   'url': 'http://wenshu.court.gov.cn/content/content?DocID=4070bafa-f345-4619-a1d5-4d48c56f9a7b&KeyWord=穿山甲'},\n",
       "  {'casecourt': '广东省高级人民法院',\n",
       "   'casenumber': '（2016）粤刑终1467号',\n",
       "   'judgedate': '2016-12-13',\n",
       "   'realid': 'b8cad0a1-d033-4061-ae30-cc6a110685b0',\n",
       "   'stage': '刑事 二审',\n",
       "   'title': '郑飞平、郑兴桂走私珍贵动物、珍贵动物制品二审刑事裁定书',\n",
       "   'url': 'http://wenshu.court.gov.cn/content/content?DocID=b8cad0a1-d033-4061-ae30-cc6a110685b0&KeyWord=穿山甲'},\n",
       "  {'casecourt': '云南省高级人民法院',\n",
       "   'casenumber': '（2017）云刑终1098号',\n",
       "   'judgedate': '2017-11-13',\n",
       "   'realid': '707fff9f-6079-4921-ba78-a874010a31b7',\n",
       "   'stage': '刑事 二审',\n",
       "   'title': '杨恩强、杨恩大走私、贩卖、运输、制造毒品二审刑事裁定书',\n",
       "   'url': 'http://wenshu.court.gov.cn/content/content?DocID=707fff9f-6079-4921-ba78-a874010a31b7&KeyWord=穿山甲'},\n",
       "  {'casecourt': '上海市高级人民法院',\n",
       "   'casenumber': '（2016）沪刑终117号',\n",
       "   'judgedate': '2016-12-21',\n",
       "   'realid': '625db169-db32-4df0-b0fe-a96a00b8ab9f',\n",
       "   'stage': '刑事 二审',\n",
       "   'title': '走私珍贵动物、珍贵动物制品二审刑事裁定书',\n",
       "   'url': 'http://wenshu.court.gov.cn/content/content?DocID=625db169-db32-4df0-b0fe-a96a00b8ab9f&KeyWord=穿山甲'}],\n",
       " [{'casecourt': '云南省高级人民法院',\n",
       "   'casenumber': '（2018）云刑终603号',\n",
       "   'judgedate': '2018-07-11',\n",
       "   'realid': 'ec88535e-b989-49e7-b2f7-a98401167b81',\n",
       "   'stage': '刑事 二审',\n",
       "   'title': '陈洪波、赵志勇走私珍贵动物、珍贵动物制品二审刑事判决书',\n",
       "   'url': 'http://wenshu.court.gov.cn/content/content?DocID=ec88535e-b989-49e7-b2f7-a98401167b81&KeyWord=穿山甲'},\n",
       "  {'casecourt': '云南省保山市中级人民法院',\n",
       "   'casenumber': '（2017）云05刑初155号',\n",
       "   'judgedate': '2017-08-15',\n",
       "   'realid': 'd5ad47fd-65d4-46de-93d6-a95900884d63',\n",
       "   'stage': '刑事 一审',\n",
       "   'title': '余国荣走私珍贵动物制品一审刑事判决书',\n",
       "   'url': 'http://wenshu.court.gov.cn/content/content?DocID=d5ad47fd-65d4-46de-93d6-a95900884d63&KeyWord=穿山甲'},\n",
       "  {'casecourt': '云南省保山市中级人民法院',\n",
       "   'casenumber': '（2017）云05刑初100号',\n",
       "   'judgedate': '2017-05-23',\n",
       "   'realid': 'ab0d1b60-d2f5-4daa-8c72-a9c500c8a029',\n",
       "   'stage': '刑事 一审',\n",
       "   'title': '石贵荣、石玉开走私、贩卖、运输、制造毒品一审刑事判决书',\n",
       "   'url': 'http://wenshu.court.gov.cn/content/content?DocID=ab0d1b60-d2f5-4daa-8c72-a9c500c8a029&KeyWord=穿山甲'},\n",
       "  {'casecourt': '浙江省宁波市中级人民法院',\n",
       "   'casenumber': '（2016）浙02刑初75号',\n",
       "   'judgedate': '2016-10-08',\n",
       "   'realid': '057a95dc-9226-4f8b-a3b1-0c84736c3ccf',\n",
       "   'stage': '刑事 一审',\n",
       "   'title': '冯栋彬犯走私珍贵动物、珍贵动物制品罪一审刑事判决书',\n",
       "   'url': 'http://wenshu.court.gov.cn/content/content?DocID=057a95dc-9226-4f8b-a3b1-0c84736c3ccf&KeyWord=穿山甲'},\n",
       "  {'casecourt': '云南省保山市中级人民法院',\n",
       "   'casenumber': '（2017）云05刑初70号',\n",
       "   'judgedate': '2017-05-02',\n",
       "   'realid': '2e78f726-6dfd-4ea3-8545-a83000c91661',\n",
       "   'stage': '刑事 一审',\n",
       "   'title': '瓦咪走私珍贵动物、珍贵动物制品一审刑事判决书',\n",
       "   'url': 'http://wenshu.court.gov.cn/content/content?DocID=2e78f726-6dfd-4ea3-8545-a83000c91661&KeyWord=穿山甲'},\n",
       "  {'casecourt': '广东省东莞市中级人民法院',\n",
       "   'casenumber': '（2015）东中法刑二初字第79号',\n",
       "   'judgedate': '2017-01-16',\n",
       "   'realid': 'ad6f79e4-527a-40b3-aede-a71500ead992',\n",
       "   'stage': '刑事 一审',\n",
       "   'title': '林玉辉受贿一审刑事判决书',\n",
       "   'url': 'http://wenshu.court.gov.cn/content/content?DocID=ad6f79e4-527a-40b3-aede-a71500ead992&KeyWord=穿山甲'},\n",
       "  {'casecourt': '广东省中山市中级人民法院',\n",
       "   'casenumber': '（2016）粤20刑初78号',\n",
       "   'judgedate': '2016-11-16',\n",
       "   'realid': '8a27354b-bb9f-46c6-a55d-7132c0d5514a',\n",
       "   'stage': '刑事 一审',\n",
       "   'title': '冯少文走私珍贵动物、珍贵动物制品一审刑事判决书',\n",
       "   'url': 'http://wenshu.court.gov.cn/content/content?DocID=8a27354b-bb9f-46c6-a55d-7132c0d5514a&KeyWord=穿山甲'},\n",
       "  {'casecourt': '云南省昆明市中级人民法院',\n",
       "   'casenumber': '（2015）昆刑三初字第220号',\n",
       "   'judgedate': '2015-06-18',\n",
       "   'realid': '436710ed-b9bf-4301-889c-aa3400f4d6bd',\n",
       "   'stage': '刑事 一审',\n",
       "   'title': '周建森走私、贩卖、运输、制造毒品一审刑事判决书',\n",
       "   'url': 'http://wenshu.court.gov.cn/content/content?DocID=436710ed-b9bf-4301-889c-aa3400f4d6bd&KeyWord=穿山甲'},\n",
       "  {'casecourt': '广东省深圳市中级人民法院',\n",
       "   'casenumber': '（2010）深中法刑二终字第23号',\n",
       "   'judgedate': '2010-03-03',\n",
       "   'realid': '8e3e63d2-c876-41c5-9483-1ddfa47c0a55',\n",
       "   'stage': '刑事 二审',\n",
       "   'title': '朱某某、何某某、赖某某犯抢劫罪一案刑事裁定书',\n",
       "   'url': 'http://wenshu.court.gov.cn/content/content?DocID=8e3e63d2-c876-41c5-9483-1ddfa47c0a55&KeyWord=穿山甲'},\n",
       "  {'casecourt': '湖南省郴州市中级人民法院',\n",
       "   'casenumber': '（2018）湘10刑终351号',\n",
       "   'judgedate': '2018-09-17',\n",
       "   'realid': 'c42f6549-bac2-471c-a189-a97b00de6092',\n",
       "   'stage': '刑事 二审',\n",
       "   'title': '何亚云聚众斗殴罪二审刑事裁定书',\n",
       "   'url': 'http://wenshu.court.gov.cn/content/content?DocID=c42f6549-bac2-471c-a189-a97b00de6092&KeyWord=穿山甲'}]]"
      ]
     },
     "execution_count": 20,
     "metadata": {},
     "output_type": "execute_result"
    }
   ],
   "source": [
    "pages"
   ]
  },
  {
   "cell_type": "code",
   "execution_count": 26,
   "metadata": {
    "collapsed": true
   },
   "outputs": [],
   "source": [
    "#pd.DataFrame(pages).to_csv('./case_urls2.csv', encoding='utf_8_sig')"
   ]
  },
  {
   "cell_type": "code",
   "execution_count": null,
   "metadata": {},
   "outputs": [],
   "source": []
  },
  {
   "cell_type": "code",
   "execution_count": null,
   "metadata": {},
   "outputs": [],
   "source": []
  },
  {
   "cell_type": "code",
   "execution_count": null,
   "metadata": {
    "collapsed": true
   },
   "outputs": [],
   "source": []
  }
 ],
 "metadata": {
  "kernelspec": {
   "display_name": "Python 3",
   "language": "python",
   "name": "python3"
  },
  "language_info": {
   "codemirror_mode": {
    "name": "ipython",
    "version": 3
   },
   "file_extension": ".py",
   "mimetype": "text/x-python",
   "name": "python",
   "nbconvert_exporter": "python",
   "pygments_lexer": "ipython3",
   "version": "3.6.1"
  }
 },
 "nbformat": 4,
 "nbformat_minor": 2
}
