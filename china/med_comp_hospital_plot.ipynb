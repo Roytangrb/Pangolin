{
 "cells": [
  {
   "cell_type": "markdown",
   "metadata": {},
   "source": [
    "# Prepare data for choropleth map plot/ marker plot"
   ]
  },
  {
   "cell_type": "code",
   "execution_count": 1,
   "metadata": {
    "collapsed": true
   },
   "outputs": [],
   "source": [
    "import numpy as np\n",
    "import pandas as pd"
   ]
  },
  {
   "cell_type": "code",
   "execution_count": 9,
   "metadata": {},
   "outputs": [
    {
     "data": {
      "text/html": [
       "<div>\n",
       "<style>\n",
       "    .dataframe thead tr:only-child th {\n",
       "        text-align: right;\n",
       "    }\n",
       "\n",
       "    .dataframe thead th {\n",
       "        text-align: left;\n",
       "    }\n",
       "\n",
       "    .dataframe tbody tr th {\n",
       "        vertical-align: top;\n",
       "    }\n",
       "</style>\n",
       "<table border=\"1\" class=\"dataframe\">\n",
       "  <thead>\n",
       "    <tr style=\"text-align: right;\">\n",
       "      <th></th>\n",
       "      <th>company</th>\n",
       "      <th>medicine</th>\n",
       "      <th>permit</th>\n",
       "      <th>province</th>\n",
       "    </tr>\n",
       "  </thead>\n",
       "  <tbody>\n",
       "    <tr>\n",
       "      <th>0</th>\n",
       "      <td>北京同仁堂股份有限公司同仁堂制药厂 86900166003238)</td>\n",
       "      <td>追风壮骨膏</td>\n",
       "      <td>国药准字Z11020746</td>\n",
       "      <td>北京</td>\n",
       "    </tr>\n",
       "    <tr>\n",
       "      <th>1</th>\n",
       "      <td>吉林恒金药业股份有限公司 86903380000212)</td>\n",
       "      <td>中风再造丸</td>\n",
       "      <td>国药准字Z22024162</td>\n",
       "      <td>吉林</td>\n",
       "    </tr>\n",
       "    <tr>\n",
       "      <th>2</th>\n",
       "      <td>吉林敖东集团金海发药业股份有限公司 86903353000485)</td>\n",
       "      <td>中风再造丸</td>\n",
       "      <td>国药准字Z22021227</td>\n",
       "      <td>吉林</td>\n",
       "    </tr>\n",
       "    <tr>\n",
       "      <th>3</th>\n",
       "      <td>天津中新药业集团股份有限公司达仁堂制药厂 86900960001126)</td>\n",
       "      <td>痔血丸</td>\n",
       "      <td>国药准字Z12020720</td>\n",
       "      <td>天津</td>\n",
       "    </tr>\n",
       "    <tr>\n",
       "      <th>4</th>\n",
       "      <td>陕西冯武臣大药堂制药厂有限公司 86902367000184)</td>\n",
       "      <td>治伤跌打丸</td>\n",
       "      <td>国药准字Z20003326</td>\n",
       "      <td>陕西</td>\n",
       "    </tr>\n",
       "  </tbody>\n",
       "</table>\n",
       "</div>"
      ],
      "text/plain": [
       "                                company medicine          permit province\n",
       "0     北京同仁堂股份有限公司同仁堂制药厂 86900166003238)    追风壮骨膏  国药准字Z11020746        北京\n",
       "1          吉林恒金药业股份有限公司 86903380000212)    中风再造丸  国药准字Z22024162        吉林\n",
       "2     吉林敖东集团金海发药业股份有限公司 86903353000485)    中风再造丸  国药准字Z22021227        吉林\n",
       "3  天津中新药业集团股份有限公司达仁堂制药厂 86900960001126)      痔血丸  国药准字Z12020720        天津\n",
       "4       陕西冯武臣大药堂制药厂有限公司 86902367000184)    治伤跌打丸  国药准字Z20003326        陕西"
      ]
     },
     "execution_count": 9,
     "metadata": {},
     "output_type": "execute_result"
    }
   ],
   "source": [
    "df = pd.read_csv('./medicine_company_province_union.csv')\n",
    "df = df.drop('Unnamed: 0', axis=1)\n",
    "df = df[df['company'].notnull()]\n",
    "df.head()"
   ]
  },
  {
   "cell_type": "code",
   "execution_count": 35,
   "metadata": {},
   "outputs": [
    {
     "data": {
      "text/plain": [
       "298"
      ]
     },
     "execution_count": 35,
     "metadata": {},
     "output_type": "execute_result"
    }
   ],
   "source": [
    "len(df['company'].unique())"
   ]
  },
  {
   "cell_type": "markdown",
   "metadata": {},
   "source": [
    "## Choropleth data"
   ]
  },
  {
   "cell_type": "code",
   "execution_count": 33,
   "metadata": {},
   "outputs": [
    {
     "name": "stdout",
     "output_type": "stream",
     "text": [
      "301\n"
     ]
    },
    {
     "data": {
      "text/plain": [
       "[{'name': '上海', 'value': 4},\n",
       " {'name': '云南', 'value': 3},\n",
       " {'name': '内蒙古', 'value': 17},\n",
       " {'name': '北京', 'value': 17},\n",
       " {'name': '吉林', 'value': 58},\n",
       " {'name': '四川', 'value': 4},\n",
       " {'name': '天津', 'value': 17},\n",
       " {'name': '安徽', 'value': 3},\n",
       " {'name': '山东', 'value': 10},\n",
       " {'name': '山西', 'value': 18},\n",
       " {'name': '广东', 'value': 4},\n",
       " {'name': '广西', 'value': 1},\n",
       " {'name': '新疆', 'value': 1},\n",
       " {'name': '江苏', 'value': 3},\n",
       " {'name': '江西', 'value': 6},\n",
       " {'name': '河北', 'value': 22},\n",
       " {'name': '河南', 'value': 20},\n",
       " {'name': '浙江', 'value': 5},\n",
       " {'name': '湖北', 'value': 7},\n",
       " {'name': '湖南', 'value': 3},\n",
       " {'name': '甘肃', 'value': 5},\n",
       " {'name': '贵州', 'value': 7},\n",
       " {'name': '辽宁', 'value': 26},\n",
       " {'name': '重庆', 'value': 2},\n",
       " {'name': '陕西', 'value': 7},\n",
       " {'name': '青海', 'value': 3},\n",
       " {'name': '黑龙江', 'value': 28}]"
      ]
     },
     "execution_count": 33,
     "metadata": {},
     "output_type": "execute_result"
    }
   ],
   "source": [
    "data = list()\n",
    "total = 0\n",
    "for index, value in df.groupby('province').size().iteritems():\n",
    "    data.append({\n",
    "        'name': index,\n",
    "        'value': value\n",
    "    })\n",
    "    total = total + value\n",
    "print(total)\n",
    "data"
   ]
  },
  {
   "cell_type": "markdown",
   "metadata": {},
   "source": [
    "## Hospital"
   ]
  },
  {
   "cell_type": "code",
   "execution_count": 36,
   "metadata": {},
   "outputs": [
    {
     "name": "stdout",
     "output_type": "stream",
     "text": [
      "临床使用赛加羚羊、穿山甲、稀有蛇类原材料定点医院名单\n",
      "716\n"
     ]
    },
    {
     "data": {
      "text/plain": [
       "[{'name': '上海', 'value': 17},\n",
       " {'name': '中国中医科学院', 'value': 4},\n",
       " {'name': '云南', 'value': 13},\n",
       " {'name': '内蒙古', 'value': 24},\n",
       " {'name': '北京', 'value': 13},\n",
       " {'name': '北京中医药大学', 'value': 2},\n",
       " {'name': '吉林', 'value': 32},\n",
       " {'name': '四川', 'value': 43},\n",
       " {'name': '天津', 'value': 7},\n",
       " {'name': '宁夏', 'value': 10},\n",
       " {'name': '安徽', 'value': 29},\n",
       " {'name': '山东', 'value': 27},\n",
       " {'name': '山西', 'value': 17},\n",
       " {'name': '广东', 'value': 31},\n",
       " {'name': '广西', 'value': 22},\n",
       " {'name': '新疆', 'value': 18},\n",
       " {'name': '江苏', 'value': 25},\n",
       " {'name': '江西', 'value': 35},\n",
       " {'name': '河北', 'value': 31},\n",
       " {'name': '河南', 'value': 63},\n",
       " {'name': '浙江', 'value': 18},\n",
       " {'name': '海南', 'value': 4},\n",
       " {'name': '湖北', 'value': 19},\n",
       " {'name': '湖南', 'value': 42},\n",
       " {'name': '甘肃', 'value': 16},\n",
       " {'name': '福建', 'value': 16},\n",
       " {'name': '西藏', 'value': 9},\n",
       " {'name': '贵州', 'value': 20},\n",
       " {'name': '辽宁', 'value': 25},\n",
       " {'name': '重庆', 'value': 13},\n",
       " {'name': '陕西', 'value': 40},\n",
       " {'name': '青海', 'value': 11},\n",
       " {'name': '黑龙江', 'value': 20}]"
      ]
     },
     "execution_count": 36,
     "metadata": {},
     "output_type": "execute_result"
    }
   ],
   "source": [
    "print('临床使用赛加羚羊、穿山甲、稀有蛇类原材料定点医院名单')\n",
    "df_hospital = pd.read_excel('./pangolin_medicine.xlsx', 4, header=None)\n",
    "df_hospital = df_hospital.drop([0, 1, 2], axis=0)\n",
    "df_hospital = df_hospital.reset_index().drop('index', axis=1).fillna(method='ffill')\n",
    "df_hospital.columns = ['province', 'hospital']\n",
    "data2 = list()\n",
    "total2 = 0\n",
    "for index, value in df_hospital.groupby('province').size().iteritems():\n",
    "    data2.append({\n",
    "        'name': index,\n",
    "        'value': value\n",
    "    })\n",
    "    total2 = total2 + value\n",
    "    \n",
    "print(total2)\n",
    "data2"
   ]
  },
  {
   "cell_type": "code",
   "execution_count": null,
   "metadata": {
    "collapsed": true
   },
   "outputs": [],
   "source": []
  },
  {
   "cell_type": "code",
   "execution_count": null,
   "metadata": {
    "collapsed": true
   },
   "outputs": [],
   "source": []
  },
  {
   "cell_type": "code",
   "execution_count": null,
   "metadata": {
    "collapsed": true
   },
   "outputs": [],
   "source": []
  },
  {
   "cell_type": "code",
   "execution_count": null,
   "metadata": {
    "collapsed": true
   },
   "outputs": [],
   "source": []
  }
 ],
 "metadata": {
  "kernelspec": {
   "display_name": "Python 3",
   "language": "python",
   "name": "python3"
  },
  "language_info": {
   "codemirror_mode": {
    "name": "ipython",
    "version": 3
   },
   "file_extension": ".py",
   "mimetype": "text/x-python",
   "name": "python",
   "nbconvert_exporter": "python",
   "pygments_lexer": "ipython3",
   "version": "3.6.1"
  }
 },
 "nbformat": 4,
 "nbformat_minor": 2
}
