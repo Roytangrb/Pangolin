{
 "cells": [
  {
   "cell_type": "code",
   "execution_count": 3,
   "metadata": {
    "collapsed": true
   },
   "outputs": [],
   "source": [
    "import pandas as pd\n",
    "import glob, os\n",
    "from docx import Document"
   ]
  },
  {
   "cell_type": "code",
   "execution_count": 4,
   "metadata": {},
   "outputs": [],
   "source": [
    "df = pd.read_csv('./fulltext - fulltext.csv')"
   ]
  },
  {
   "cell_type": "code",
   "execution_count": 12,
   "metadata": {
    "collapsed": true
   },
   "outputs": [],
   "source": [
    "def create_doc(row):\n",
    "    ID = row['id']\n",
    "    year = str(row['date'])\n",
    "    title = row['title']\n",
    "    paras = row['text'].split('\\n')\n",
    "    \n",
    "    if not os.path.exists(year):\n",
    "        os.makedirs(year)\n",
    "    \n",
    "    document = Document()\n",
    "    \n",
    "    document.add_heading(title, level=1)\n",
    "    \n",
    "    for p in paras:\n",
    "        document.add_paragraph(p)\n",
    "\n",
    "    document.save('./{}/{}-{}.docx'.format(year, ID, title))"
   ]
  },
  {
   "cell_type": "code",
   "execution_count": 30,
   "metadata": {
    "collapsed": true
   },
   "outputs": [],
   "source": [
    "# for index, row in df.iterrows():\n",
    "#     create_doc(row)"
   ]
  },
  {
   "cell_type": "code",
   "execution_count": 13,
   "metadata": {},
   "outputs": [],
   "source": [
    "new_47_df = df.loc[406:]\n",
    "len(new_47_df)\n",
    "for index, row in new_47_df.iterrows():\n",
    "    create_doc(row)"
   ]
  },
  {
   "cell_type": "code",
   "execution_count": 10,
   "metadata": {
    "collapsed": true
   },
   "outputs": [],
   "source": [
    "os.chdir('./itslaw-add-20190905/indexed')"
   ]
  },
  {
   "cell_type": "code",
   "execution_count": null,
   "metadata": {
    "collapsed": true
   },
   "outputs": [],
   "source": []
  }
 ],
 "metadata": {
  "kernelspec": {
   "display_name": "Python 3",
   "language": "python",
   "name": "python3"
  },
  "language_info": {
   "codemirror_mode": {
    "name": "ipython",
    "version": 3
   },
   "file_extension": ".py",
   "mimetype": "text/x-python",
   "name": "python",
   "nbconvert_exporter": "python",
   "pygments_lexer": "ipython3",
   "version": "3.6.1"
  }
 },
 "nbformat": 4,
 "nbformat_minor": 2
}
