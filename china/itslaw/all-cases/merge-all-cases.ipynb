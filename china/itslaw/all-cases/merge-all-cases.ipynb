{
 "cells": [
  {
   "cell_type": "markdown",
   "metadata": {},
   "source": [
    "## All cases with fulltext"
   ]
  },
  {
   "cell_type": "code",
   "execution_count": 53,
   "metadata": {
    "collapsed": true
   },
   "outputs": [],
   "source": [
    "import numpy as np\n",
    "import pandas as pd\n",
    "from collections import Counter\n",
    "\n",
    "def count_unique(series):\n",
    "    return Counter(list(series))"
   ]
  },
  {
   "cell_type": "code",
   "execution_count": 54,
   "metadata": {},
   "outputs": [
    {
     "name": "stdout",
     "output_type": "stream",
     "text": [
      "Index(['id', 'date', 'year', 'title', 'court', 'type', 'case_id', 'text',\n",
      "       'seizure-year', 'seizure-month', 'seizure-day', 'species/taxons',\n",
      "       'origin (city[optional], province[optional], country)',\n",
      "       'Form (ind/live/dead/parts)', 'Term (Specimens)', 'Quantity', 'Unit',\n",
      "       'Logged by', 'memo'],\n",
      "      dtype='object')\n"
     ]
    },
    {
     "data": {
      "text/plain": [
       "505"
      ]
     },
     "execution_count": 54,
     "metadata": {},
     "output_type": "execute_result"
    }
   ],
   "source": [
    "_df = pd.read_csv('./fulltext - merged.csv', dtype={'seizure-year': object, 'id':object, 'year':object})\n",
    "print(_df.columns)\n",
    "len(_df)"
   ]
  },
  {
   "cell_type": "code",
   "execution_count": 55,
   "metadata": {},
   "outputs": [
    {
     "data": {
      "text/plain": [
       "Counter({'DUP ID 47': 1,\n",
       "         nan: 375,\n",
       "         'No seizure': 47,\n",
       "         'DUP id-250': 1,\n",
       "         '*refer to seizure item': 15,\n",
       "         'No seizure SUB': 18,\n",
       "         'SUB': 34,\n",
       "         'In the verdict there is a piece of meat being assumed as pangolin, but it is unidentifiable': 1,\n",
       "         'Not related': 3,\n",
       "         'DUP ID 117': 1,\n",
       "         'DUP ID 306': 1,\n",
       "         'DUP ID 261': 1,\n",
       "         'DUP id 214': 1,\n",
       "         'DUP ID 171': 1,\n",
       "         'DUP ID 210': 1,\n",
       "         'DUP ID 357': 1,\n",
       "         'DUP No.431': 2,\n",
       "         'DUP No.409': 1})"
      ]
     },
     "execution_count": 55,
     "metadata": {},
     "output_type": "execute_result"
    }
   ],
   "source": [
    "count_unique(_df['memo'])"
   ]
  },
  {
   "cell_type": "markdown",
   "metadata": {
    "collapsed": true
   },
   "source": [
    "### remove dup cases, cases before 2017, cases not related, cases with no seizures"
   ]
  },
  {
   "cell_type": "code",
   "execution_count": 56,
   "metadata": {},
   "outputs": [
    {
     "data": {
      "text/plain": [
       "233"
      ]
     },
     "execution_count": 56,
     "metadata": {},
     "output_type": "execute_result"
    }
   ],
   "source": [
    "df = _df[~_df['memo'].str.contains('DUP', na=False)] # dup =>493\n",
    "df = df[~df['memo'].str.contains('Not related', na=False)] # not related=>490\n",
    "df = df[~df['memo'].str.contains('No seizure', na=False)] # no seizure=>425\n",
    "df = df[~df['year'].isin(['2017', '2018', '2019'])] # 233 new cases\n",
    "len(df)"
   ]
  },
  {
   "cell_type": "code",
   "execution_count": 57,
   "metadata": {},
   "outputs": [],
   "source": [
    "# df.to_csv('./233-new-before-2017.csv')"
   ]
  },
  {
   "cell_type": "markdown",
   "metadata": {},
   "source": [
    "### cleaning up joint table"
   ]
  },
  {
   "cell_type": "code",
   "execution_count": 74,
   "metadata": {},
   "outputs": [
    {
     "data": {
      "text/plain": [
       "Index(['id', 'date', 'year', 'title', 'court', 'type', 'case_id', 'text',\n",
       "       'seizure-year', 'seizure-month', 'seizure-day', 'species/taxons',\n",
       "       'origin (city[optional], province[optional], country)',\n",
       "       'Form (ind/live/dead/parts)', 'Term (Specimens)', 'Quantity', 'Unit',\n",
       "       'Logged by', 'memo'],\n",
       "      dtype='object')"
      ]
     },
     "execution_count": 74,
     "metadata": {},
     "output_type": "execute_result"
    }
   ],
   "source": [
    "joined_df = pd.read_csv('./fulltext - joined.csv', dtype={'seizure-year': object, 'id':object, 'year':object})\n",
    "joined_df.columns"
   ]
  },
  {
   "cell_type": "code",
   "execution_count": 75,
   "metadata": {},
   "outputs": [],
   "source": [
    "joined_df = joined_df[['id', 'year', \n",
    "       'seizure-year', 'seizure-month', 'seizure-day', 'species/taxons',\n",
    "       'origin (city[optional], province[optional], country)',\n",
    "       'Form (ind/live/dead/parts)', 'Term (Specimens)', 'Quantity', 'Unit', 'memo']]"
   ]
  },
  {
   "cell_type": "code",
   "execution_count": 78,
   "metadata": {},
   "outputs": [],
   "source": [
    "joined_df.columns = ['id', 'judgement-year', 'seizure-year', 'seizure-month', 'seizure-day', 'taxons',\n",
    "       'via',\n",
    "       'form', 'term', 'quantity', 'unit', 'memo']"
   ]
  },
  {
   "cell_type": "code",
   "execution_count": 79,
   "metadata": {
    "collapsed": true
   },
   "outputs": [],
   "source": [
    "# fill down judgement years and remove empty entries\n",
    "joined_df['judgement-year'].fillna(method='ffill', inplace=True)"
   ]
  },
  {
   "cell_type": "code",
   "execution_count": 81,
   "metadata": {},
   "outputs": [
    {
     "data": {
      "text/plain": [
       "379"
      ]
     },
     "execution_count": 81,
     "metadata": {},
     "output_type": "execute_result"
    }
   ],
   "source": [
    "joined_df = joined_df[~joined_df['memo'].str.contains('refer', na=False)]\n",
    "len(joined_df)"
   ]
  },
  {
   "cell_type": "code",
   "execution_count": 82,
   "metadata": {
    "collapsed": true
   },
   "outputs": [],
   "source": [
    "joined_df.to_csv('./joined-379-seizures.csv')"
   ]
  },
  {
   "cell_type": "code",
   "execution_count": null,
   "metadata": {
    "collapsed": true
   },
   "outputs": [],
   "source": []
  }
 ],
 "metadata": {
  "kernelspec": {
   "display_name": "Python 3",
   "language": "python",
   "name": "python3"
  },
  "language_info": {
   "codemirror_mode": {
    "name": "ipython",
    "version": 3
   },
   "file_extension": ".py",
   "mimetype": "text/x-python",
   "name": "python",
   "nbconvert_exporter": "python",
   "pygments_lexer": "ipython3",
   "version": "3.6.1"
  }
 },
 "nbformat": 4,
 "nbformat_minor": 2
}
