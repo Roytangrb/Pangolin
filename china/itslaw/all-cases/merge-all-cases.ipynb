{
 "cells": [
  {
   "cell_type": "markdown",
   "metadata": {},
   "source": [
    "## All cases with fulltext"
   ]
  },
  {
   "cell_type": "code",
   "execution_count": 13,
   "metadata": {
    "collapsed": true
   },
   "outputs": [],
   "source": [
    "import numpy as np\n",
    "import pandas as pd\n",
    "from collections import Counter\n",
    "\n",
    "def count_unique(series):\n",
    "    return Counter(list(series))"
   ]
  },
  {
   "cell_type": "code",
   "execution_count": 14,
   "metadata": {
    "collapsed": true
   },
   "outputs": [],
   "source": [
    "df = pd.read_csv('./indexed.csv')"
   ]
  },
  {
   "cell_type": "code",
   "execution_count": 15,
   "metadata": {},
   "outputs": [
    {
     "data": {
      "text/plain": [
       "Counter({'Dup ID 47': 1,\n",
       "         nan: 375,\n",
       "         'No seizure': 47,\n",
       "         'Dup id-250': 1,\n",
       "         '*refer to seizure item': 15,\n",
       "         'In the verdict there is a piece of meat being assumed as pangolin, but it is unidentifiable': 1,\n",
       "         'Not related': 3,\n",
       "         'Dup ID 117': 1,\n",
       "         'Dup ID 306': 1,\n",
       "         'Dup ID 261': 1,\n",
       "         'Dup id 214': 1,\n",
       "         'Dup ID 171': 1,\n",
       "         '*similar to 210': 1,\n",
       "         'Dup ID 357': 1,\n",
       "         'Dup No.431': 2,\n",
       "         'Dup No.409': 1})"
      ]
     },
     "execution_count": 15,
     "metadata": {},
     "output_type": "execute_result"
    }
   ],
   "source": [
    "count_unique(df['memo'])"
   ]
  },
  {
   "cell_type": "code",
   "execution_count": null,
   "metadata": {
    "collapsed": true
   },
   "outputs": [],
   "source": []
  }
 ],
 "metadata": {
  "kernelspec": {
   "display_name": "Python 3",
   "language": "python",
   "name": "python3"
  },
  "language_info": {
   "codemirror_mode": {
    "name": "ipython",
    "version": 3
   },
   "file_extension": ".py",
   "mimetype": "text/x-python",
   "name": "python",
   "nbconvert_exporter": "python",
   "pygments_lexer": "ipython3",
   "version": "3.6.1"
  }
 },
 "nbformat": 4,
 "nbformat_minor": 2
}
