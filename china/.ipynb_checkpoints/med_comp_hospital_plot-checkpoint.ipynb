{
 "cells": [
  {
   "cell_type": "markdown",
   "metadata": {},
   "source": [
    "# Prepare data for choropleth map plot/ marker plot"
   ]
  },
  {
   "cell_type": "code",
   "execution_count": 1,
   "metadata": {
    "collapsed": true
   },
   "outputs": [],
   "source": [
    "import numpy as np\n",
    "import pandas as pd\n",
    "import geocoder\n",
    "import time"
   ]
  },
  {
   "cell_type": "code",
   "execution_count": 2,
   "metadata": {},
   "outputs": [
    {
     "data": {
      "text/html": [
       "<div>\n",
       "<style>\n",
       "    .dataframe thead tr:only-child th {\n",
       "        text-align: right;\n",
       "    }\n",
       "\n",
       "    .dataframe thead th {\n",
       "        text-align: left;\n",
       "    }\n",
       "\n",
       "    .dataframe tbody tr th {\n",
       "        vertical-align: top;\n",
       "    }\n",
       "</style>\n",
       "<table border=\"1\" class=\"dataframe\">\n",
       "  <thead>\n",
       "    <tr style=\"text-align: right;\">\n",
       "      <th></th>\n",
       "      <th>company</th>\n",
       "      <th>medicine</th>\n",
       "      <th>permit</th>\n",
       "      <th>province</th>\n",
       "    </tr>\n",
       "  </thead>\n",
       "  <tbody>\n",
       "    <tr>\n",
       "      <th>0</th>\n",
       "      <td>北京同仁堂股份有限公司同仁堂制药厂 86900166003238)</td>\n",
       "      <td>追风壮骨膏</td>\n",
       "      <td>国药准字Z11020746</td>\n",
       "      <td>北京</td>\n",
       "    </tr>\n",
       "    <tr>\n",
       "      <th>1</th>\n",
       "      <td>吉林恒金药业股份有限公司 86903380000212)</td>\n",
       "      <td>中风再造丸</td>\n",
       "      <td>国药准字Z22024162</td>\n",
       "      <td>吉林</td>\n",
       "    </tr>\n",
       "    <tr>\n",
       "      <th>2</th>\n",
       "      <td>吉林敖东集团金海发药业股份有限公司 86903353000485)</td>\n",
       "      <td>中风再造丸</td>\n",
       "      <td>国药准字Z22021227</td>\n",
       "      <td>吉林</td>\n",
       "    </tr>\n",
       "    <tr>\n",
       "      <th>3</th>\n",
       "      <td>天津中新药业集团股份有限公司达仁堂制药厂 86900960001126)</td>\n",
       "      <td>痔血丸</td>\n",
       "      <td>国药准字Z12020720</td>\n",
       "      <td>天津</td>\n",
       "    </tr>\n",
       "    <tr>\n",
       "      <th>4</th>\n",
       "      <td>陕西冯武臣大药堂制药厂有限公司 86902367000184)</td>\n",
       "      <td>治伤跌打丸</td>\n",
       "      <td>国药准字Z20003326</td>\n",
       "      <td>陕西</td>\n",
       "    </tr>\n",
       "  </tbody>\n",
       "</table>\n",
       "</div>"
      ],
      "text/plain": [
       "                                company medicine          permit province\n",
       "0     北京同仁堂股份有限公司同仁堂制药厂 86900166003238)    追风壮骨膏  国药准字Z11020746        北京\n",
       "1          吉林恒金药业股份有限公司 86903380000212)    中风再造丸  国药准字Z22024162        吉林\n",
       "2     吉林敖东集团金海发药业股份有限公司 86903353000485)    中风再造丸  国药准字Z22021227        吉林\n",
       "3  天津中新药业集团股份有限公司达仁堂制药厂 86900960001126)      痔血丸  国药准字Z12020720        天津\n",
       "4       陕西冯武臣大药堂制药厂有限公司 86902367000184)    治伤跌打丸  国药准字Z20003326        陕西"
      ]
     },
     "execution_count": 2,
     "metadata": {},
     "output_type": "execute_result"
    }
   ],
   "source": [
    "df = pd.read_csv('./medicine_company_province_union.csv')\n",
    "df = df.drop('Unnamed: 0', axis=1)\n",
    "df = df[df['company'].notnull()]\n",
    "df.head()"
   ]
  },
  {
   "cell_type": "code",
   "execution_count": 3,
   "metadata": {},
   "outputs": [
    {
     "data": {
      "text/plain": [
       "298"
      ]
     },
     "execution_count": 3,
     "metadata": {},
     "output_type": "execute_result"
    }
   ],
   "source": [
    "len(df['company'].unique())"
   ]
  },
  {
   "cell_type": "markdown",
   "metadata": {},
   "source": [
    "## Choropleth data"
   ]
  },
  {
   "cell_type": "code",
   "execution_count": 4,
   "metadata": {},
   "outputs": [
    {
     "name": "stdout",
     "output_type": "stream",
     "text": [
      "301\n"
     ]
    },
    {
     "data": {
      "text/plain": [
       "[{'name': '上海', 'value': 4},\n",
       " {'name': '云南', 'value': 3},\n",
       " {'name': '内蒙古', 'value': 17},\n",
       " {'name': '北京', 'value': 17},\n",
       " {'name': '吉林', 'value': 58},\n",
       " {'name': '四川', 'value': 4},\n",
       " {'name': '天津', 'value': 17},\n",
       " {'name': '安徽', 'value': 3},\n",
       " {'name': '山东', 'value': 10},\n",
       " {'name': '山西', 'value': 18},\n",
       " {'name': '广东', 'value': 4},\n",
       " {'name': '广西', 'value': 1},\n",
       " {'name': '新疆', 'value': 1},\n",
       " {'name': '江苏', 'value': 3},\n",
       " {'name': '江西', 'value': 6},\n",
       " {'name': '河北', 'value': 22},\n",
       " {'name': '河南', 'value': 20},\n",
       " {'name': '浙江', 'value': 5},\n",
       " {'name': '湖北', 'value': 7},\n",
       " {'name': '湖南', 'value': 3},\n",
       " {'name': '甘肃', 'value': 5},\n",
       " {'name': '贵州', 'value': 7},\n",
       " {'name': '辽宁', 'value': 26},\n",
       " {'name': '重庆', 'value': 2},\n",
       " {'name': '陕西', 'value': 7},\n",
       " {'name': '青海', 'value': 3},\n",
       " {'name': '黑龙江', 'value': 28}]"
      ]
     },
     "execution_count": 4,
     "metadata": {},
     "output_type": "execute_result"
    }
   ],
   "source": [
    "data = list()\n",
    "total = 0\n",
    "for index, value in df.groupby('province').size().iteritems():\n",
    "    data.append({\n",
    "        'name': index,\n",
    "        'value': value\n",
    "    })\n",
    "    total = total + value\n",
    "print(total)\n",
    "data"
   ]
  },
  {
   "cell_type": "markdown",
   "metadata": {},
   "source": [
    "## Hospital"
   ]
  },
  {
   "cell_type": "code",
   "execution_count": 5,
   "metadata": {},
   "outputs": [
    {
     "name": "stdout",
     "output_type": "stream",
     "text": [
      "临床使用赛加羚羊、穿山甲、稀有蛇类原材料定点医院名单\n",
      "716\n"
     ]
    },
    {
     "data": {
      "text/plain": [
       "[{'name': '上海', 'value': 17},\n",
       " {'name': '中国中医科学院', 'value': 4},\n",
       " {'name': '云南', 'value': 13},\n",
       " {'name': '内蒙古', 'value': 24},\n",
       " {'name': '北京', 'value': 13},\n",
       " {'name': '北京中医药大学', 'value': 2},\n",
       " {'name': '吉林', 'value': 32},\n",
       " {'name': '四川', 'value': 43},\n",
       " {'name': '天津', 'value': 7},\n",
       " {'name': '宁夏', 'value': 10},\n",
       " {'name': '安徽', 'value': 29},\n",
       " {'name': '山东', 'value': 27},\n",
       " {'name': '山西', 'value': 17},\n",
       " {'name': '广东', 'value': 31},\n",
       " {'name': '广西', 'value': 22},\n",
       " {'name': '新疆', 'value': 18},\n",
       " {'name': '江苏', 'value': 25},\n",
       " {'name': '江西', 'value': 35},\n",
       " {'name': '河北', 'value': 31},\n",
       " {'name': '河南', 'value': 63},\n",
       " {'name': '浙江', 'value': 18},\n",
       " {'name': '海南', 'value': 4},\n",
       " {'name': '湖北', 'value': 19},\n",
       " {'name': '湖南', 'value': 42},\n",
       " {'name': '甘肃', 'value': 16},\n",
       " {'name': '福建', 'value': 16},\n",
       " {'name': '西藏', 'value': 9},\n",
       " {'name': '贵州', 'value': 20},\n",
       " {'name': '辽宁', 'value': 25},\n",
       " {'name': '重庆', 'value': 13},\n",
       " {'name': '陕西', 'value': 40},\n",
       " {'name': '青海', 'value': 11},\n",
       " {'name': '黑龙江', 'value': 20}]"
      ]
     },
     "execution_count": 5,
     "metadata": {},
     "output_type": "execute_result"
    }
   ],
   "source": [
    "print('临床使用赛加羚羊、穿山甲、稀有蛇类原材料定点医院名单')\n",
    "df_hospital = pd.read_excel('./pangolin_medicine.xlsx', 4, header=None)\n",
    "df_hospital = df_hospital.drop([0, 1, 2], axis=0)\n",
    "df_hospital = df_hospital.reset_index().drop('index', axis=1).fillna(method='ffill')\n",
    "df_hospital.columns = ['province', 'hospital']\n",
    "data2 = list()\n",
    "total2 = 0\n",
    "for index, value in df_hospital.groupby('province').size().iteritems():\n",
    "    data2.append({\n",
    "        'name': index,\n",
    "        'value': value\n",
    "    })\n",
    "    total2 = total2 + value\n",
    "    \n",
    "print(total2)\n",
    "data2"
   ]
  },
  {
   "cell_type": "markdown",
   "metadata": {},
   "source": [
    "## Geocoding for marker plots"
   ]
  },
  {
   "cell_type": "code",
   "execution_count": 6,
   "metadata": {
    "collapsed": true
   },
   "outputs": [],
   "source": [
    "df_hospital.loc[1, 'hospital'] = '北京藏医院'"
   ]
  },
  {
   "cell_type": "code",
   "execution_count": null,
   "metadata": {},
   "outputs": [
    {
     "name": "stdout",
     "output_type": "stream",
     "text": [
      "北京中医医院 116.3857109 39.9493125\n",
      "北京藏医院 97.1812516 31.1422852\n",
      "北京鼓楼中医医院 na\n",
      "护国寺中医医院 116.3701463 39.9349921\n",
      "宣武区中医院 118.849292049063 32.0330591\n",
      "房山区中医医院 115.9567009 39.7209049\n",
      "大兴区中医医院 na\n",
      "顺义区中医医院 na\n",
      "怀柔区中医医院 116.624099993153 40.31176125\n",
      "通州区中医医院 na\n",
      "北京市中西医结合医院 na\n",
      "朝阳区中医医院 116.3857109 39.9493125\n",
      "昌平区中医医院 na\n",
      "天津中医药大学一附院 na\n",
      "Exception\n",
      "天津市中医医院 na\n",
      "南开医院 105.001 26.7554\n",
      "南开区中医医院 na\n",
      "和平区中医医院 na\n",
      "武清区中医医院 na\n",
      "河北省中医院 114.8873508 40.8250087\n",
      "石家庄市中医院 na\n",
      "唐山市中医院 113.2381169 23.1120415\n",
      "邯郸市中医院 na\n",
      "保定市第一中医院 na\n",
      "迁安市中医院 na\n",
      "丰润区中医院 na\n",
      "滦平县中医院 na\n",
      "香河县中医院 na\n",
      "唐县中医院 115.92031 28.5756467\n",
      "献县中医院 116.105544421246 38.18175015\n",
      "新乐市中医院 113.300412 33.7447353\n",
      "涉县中医院 115.92031 28.5756467\n",
      "内邱县中医院 na\n",
      "曲周县中医院 118.410944460348 29.14555015\n",
      "行唐县中医院 na\n",
      "辛集市中医院 115.2058783 37.9380263\n",
      "万全县中医院 na\n",
      "玉田县中医院 na\n",
      "大城县中医院 105.7146281 34.5753173\n",
      "平泉县中医院 na\n",
      "曲阳县中医院 na\n",
      "东光县中医院 na\n",
      "馆陶县中医院 na\n",
      "深州市中医院 na\n",
      "宽城县中医院 na\n",
      "蔚县中医院 100.3055654 25.2382562\n",
      "丰宁县中医院 na\n",
      "饶阳县中医院 na\n",
      "灵寿县中西医结合医院 na\n",
      "宁晋市中西医结合医院 na\n",
      "山西省中医院 na\n",
      "山西中医学院第二中医院 na\n",
      "山西中医学院第三中医院 na\n",
      "太原市中医医院 na\n",
      "朔州市中医院 na\n",
      "长治市中医药研究所附院 na\n",
      "晋中市中医院 na\n",
      "运城市中医院 na\n",
      "广灵县中医院 na\n",
      "左云县中医院 na\n",
      "朔州中医精神病医院 na\n",
      "山阴县中医院 115.92031 28.5756467\n",
      "应县中医院 113.180771124527 39.5596508\n",
      "怀仁县中医院 na\n",
      "榆次区中医院 na\n",
      "寿阳县中医院 na\n",
      "稷山县中医院 na\n",
      "内蒙古中蒙医医院 na\n",
      "内蒙古民族大学附院 na\n",
      "鄂尔多斯市中医院 na\n",
      "阿盟蒙医医院 na\n",
      "兴安盟蒙医院 na\n",
      "赤峰市中蒙医院 na\n",
      "达茂旗蒙医院 na\n",
      "扎兰屯市中蒙医院 na\n",
      "科右中旗蒙医院 na\n",
      "突泉县中医院 na\n",
      "开鲁县中医院 na\n",
      "奈曼旗蒙医院 na\n",
      "库伦旗蒙医院 na\n",
      "宁城县中蒙医院 na\n",
      "林西县中蒙医院 na\n",
      "巴林右旗蒙医院 na\n",
      "多伦县中医院 na\n",
      "正兰旗蒙医院 na\n",
      "兴和县中医院 na\n",
      "杭锦旗蒙医院 na\n",
      "鄂托克前旗蒙医院 na\n",
      "乌拉特前旗中蒙医院 na\n",
      "五原县中蒙医院 na\n",
      "额济纳旗中蒙医院 na\n",
      "辽宁中医药大学附属医院 na\n",
      "辽宁中医药大学附属第二医院 na\n",
      "沈阳市中医院 na\n",
      "沈阳市中西医结合医院 na\n",
      "大连市中西医结合医院 na\n",
      "抚顺市中医院 na\n",
      "本溪市中医院 123.758754089787 41.2943383\n",
      "丹东市中医院 na\n",
      "皇姑区中医院 na\n",
      "东陵区中医院 na\n",
      "苏家屯区中医院 na\n",
      "新民市中医院 na\n",
      "金州区中医院 na\n",
      "旅顺口区中医院 na\n",
      "庄河市中医院 na\n",
      "瓦房店市中医院 na\n",
      "鞍山铁东区中医院 na\n",
      "海城市中医院 na\n",
      "台安县中医院 na\n",
      "岫岩县中医院 na\n",
      "清原县中医院 119.0641198 27.623135\n",
      "本溪县满族自治县中医院 na\n",
      "东港市中医院 na\n",
      "凌源市中医院 113.2381169 23.1120415\n",
      "凌海市中医院 113.2381169 23.1120415\n",
      "长春中医药大学附属医院 na\n",
      "吉林省中医药科学院 na\n",
      "长春市中医院 125.307581597429 43.92037295\n",
      "吉林省吉林中西医结合医院 na\n",
      "延边中医医院 na\n",
      "四平市中医院 na\n",
      "白城中医院 100.3055654 25.2382562\n",
      "辽源市中医院 123.187385824173 41.2729462\n",
      "松原市中医院 na\n",
      "白山市中医院 113.0335386 23.7109165\n",
      "长春民族医院 na\n",
      "长春市绿园区中医院 na\n",
      "吉林中医肝胆医院 na\n",
      "四平市传染病医院 na\n",
      "长春市宽城区中医院 na\n",
      "长春市双阳区中医院 na\n",
      "农安县中医院 115.92031 28.5756467\n",
      "桦甸市中医院 na\n",
      "永吉县中医院 na\n",
      "龙井市中医院 na\n",
      "珲春市中医院 na\n",
      "梨树县中医院 na\n",
      "双辽市中医院 na\n",
      "伊通县民族医医院 na\n",
      "公主岭市中医院 na\n",
      "东丰县中医院 na\n",
      "前郭县中医院 na\n",
      "长白县中医院 na\n",
      "抚松县中医院 na\n",
      "白山市江源区中西医结合医院 na\n",
      "长春英平类风湿医院 na\n",
      "Exception\n",
      "黑龙江省中医医院 na\n",
      "Exception\n",
      "哈尔滨市中医医院 na\n",
      "齐齐哈尔市中医医院 na\n",
      "牡丹江市中医医院 129.632447997943 44.58079755\n",
      "佳木斯市中医医院 na\n",
      "大庆市中医医院 125.12181447096 46.62260685\n",
      "呼兰区中医医院 na\n",
      "克东县中医医院 na\n",
      "海林市中医医院 na\n",
      "宁安市中医医院 na\n",
      "嫩江县中医医院 na\n",
      "望奎县中医医院 na\n",
      "林甸县中医医院 na\n",
      "同江市中医医院 na\n",
      "鸡东县中医医院 na\n",
      "绥滨县中医医院 na\n",
      "宝清县中医医院 na\n",
      "Exception\n",
      "Exception\n",
      "Exception\n",
      "Exception\n",
      "Exception\n",
      "Exception\n",
      "松江区方塔中医医院 na\n",
      "黄浦区中医医院 na\n",
      "黄浦区中西医结合医院 na\n",
      "嘉定区中医医院 121.246615 31.3894324\n",
      "宝山区中医医院 na\n",
      "长宁区天山中医医院 na\n",
      "普陀区中医医院 na\n",
      "卢湾区香山中医医院 na\n",
      "上海市中西医结合医院 na\n",
      "奉贤区中医医院 na\n",
      "南汇区光明中医医院 na\n",
      "杨浦区中医医院 na\n",
      "青浦区中医医院 na\n",
      "江苏省中医院 118.770097205967 32.0438735\n",
      "江苏省中西医结合医院 118.8045678 32.1020401\n",
      "南京市中医院 118.80251252791 31.99792265\n",
      "Exception\n",
      "徐州市中医院 117.1802508 34.2551941\n",
      "常州市中医医院 119.96019632167 31.77511625\n",
      "苏州市中医医院 120.593474169979 31.2712516\n",
      "南京市江宁区中医院 na\n",
      "南京市溧水县中医院 na\n"
     ]
    }
   ],
   "source": [
    "xs = list()\n",
    "ys = list()\n",
    "\n",
    "for address in df_hospital['hospital']:\n",
    "    #If there is an error in the connection to the server, \n",
    "    #the exception raised by the requests library will be propagated up to the caller. \n",
    "    try:\n",
    "        g = geocoder.osm(address)\n",
    "        #When no result could be found for the given search terms,\n",
    "        #the ok attribute on the returned object will be False\n",
    "        if g.ok:\n",
    "            print(address, g.osm['x'], g.osm['y'])\n",
    "            xs.append(g.osm['x'])\n",
    "            ys.append(g.osm['y'])\n",
    "        else :\n",
    "            print(address, 'na')\n",
    "            xs.append('na')\n",
    "            ys.append('na')\n",
    "    except:\n",
    "        print('Exception')\n",
    "        xs.append('na')\n",
    "        ys.append('na')\n",
    "        \n",
    "df_hospital['x'] = xs\n",
    "df_hospital['y'] = ys\n",
    "df_hospital"
   ]
  },
  {
   "cell_type": "code",
   "execution_count": null,
   "metadata": {},
   "outputs": [],
   "source": []
  },
  {
   "cell_type": "code",
   "execution_count": null,
   "metadata": {
    "collapsed": true
   },
   "outputs": [],
   "source": [
    "df_hospital.to_csv('./hospital_coord.csv', encoding='utf_8_sig')"
   ]
  },
  {
   "cell_type": "code",
   "execution_count": null,
   "metadata": {
    "collapsed": true
   },
   "outputs": [],
   "source": []
  }
 ],
 "metadata": {
  "kernelspec": {
   "display_name": "Python 3",
   "language": "python",
   "name": "python3"
  },
  "language_info": {
   "codemirror_mode": {
    "name": "ipython",
    "version": 3
   },
   "file_extension": ".py",
   "mimetype": "text/x-python",
   "name": "python",
   "nbconvert_exporter": "python",
   "pygments_lexer": "ipython3",
   "version": "3.6.1"
  }
 },
 "nbformat": 4,
 "nbformat_minor": 2
}
