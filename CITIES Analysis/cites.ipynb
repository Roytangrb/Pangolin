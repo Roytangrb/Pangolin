{
 "cells": [
  {
   "cell_type": "markdown",
   "metadata": {},
   "source": [
    "# CITES Data Analysis"
   ]
  },
  {
   "cell_type": "code",
   "execution_count": 1,
   "metadata": {
    "collapsed": true
   },
   "outputs": [],
   "source": [
    "import numpy as np\n",
    "import pandas as pd"
   ]
  },
  {
   "cell_type": "code",
   "execution_count": 12,
   "metadata": {},
   "outputs": [
    {
     "name": "stdout",
     "output_type": "stream",
     "text": [
      "../gitignore/CITES/Trade_database_download_v2019.2/trade_db_2.csv\n",
      "../gitignore/CITES/Trade_database_download_v2019.2/trade_db_3.csv\n",
      "../gitignore/CITES/Trade_database_download_v2019.2/trade_db_4.csv\n"
     ]
    },
    {
     "name": "stderr",
     "output_type": "stream",
     "text": [
      "/Users/tangruibin/anaconda3/lib/python3.6/site-packages/IPython/core/interactiveshell.py:2717: DtypeWarning: Columns (8) have mixed types. Specify dtype option on import or set low_memory=False.\n",
      "  interactivity=interactivity, compiler=compiler, result=result)\n"
     ]
    },
    {
     "name": "stdout",
     "output_type": "stream",
     "text": [
      "../gitignore/CITES/Trade_database_download_v2019.2/trade_db_5.csv\n",
      "../gitignore/CITES/Trade_database_download_v2019.2/trade_db_6.csv\n",
      "../gitignore/CITES/Trade_database_download_v2019.2/trade_db_7.csv\n",
      "../gitignore/CITES/Trade_database_download_v2019.2/trade_db_8.csv\n",
      "../gitignore/CITES/Trade_database_download_v2019.2/trade_db_9.csv\n",
      "../gitignore/CITES/Trade_database_download_v2019.2/trade_db_10.csv\n",
      "../gitignore/CITES/Trade_database_download_v2019.2/trade_db_11.csv\n"
     ]
    },
    {
     "name": "stderr",
     "output_type": "stream",
     "text": [
      "/Users/tangruibin/anaconda3/lib/python3.6/site-packages/IPython/core/interactiveshell.py:2717: DtypeWarning: Columns (16) have mixed types. Specify dtype option on import or set low_memory=False.\n",
      "  interactivity=interactivity, compiler=compiler, result=result)\n"
     ]
    },
    {
     "name": "stdout",
     "output_type": "stream",
     "text": [
      "../gitignore/CITES/Trade_database_download_v2019.2/trade_db_12.csv\n",
      "../gitignore/CITES/Trade_database_download_v2019.2/trade_db_13.csv\n",
      "../gitignore/CITES/Trade_database_download_v2019.2/trade_db_14.csv\n",
      "../gitignore/CITES/Trade_database_download_v2019.2/trade_db_15.csv\n"
     ]
    },
    {
     "name": "stderr",
     "output_type": "stream",
     "text": [
      "/Users/tangruibin/anaconda3/lib/python3.6/site-packages/IPython/core/interactiveshell.py:2717: DtypeWarning: Columns (0,8) have mixed types. Specify dtype option on import or set low_memory=False.\n",
      "  interactivity=interactivity, compiler=compiler, result=result)\n"
     ]
    },
    {
     "name": "stdout",
     "output_type": "stream",
     "text": [
      "../gitignore/CITES/Trade_database_download_v2019.2/trade_db_16.csv\n",
      "../gitignore/CITES/Trade_database_download_v2019.2/trade_db_17.csv\n",
      "../gitignore/CITES/Trade_database_download_v2019.2/trade_db_18.csv\n",
      "../gitignore/CITES/Trade_database_download_v2019.2/trade_db_19.csv\n",
      "../gitignore/CITES/Trade_database_download_v2019.2/trade_db_20.csv\n",
      "../gitignore/CITES/Trade_database_download_v2019.2/trade_db_21.csv\n",
      "../gitignore/CITES/Trade_database_download_v2019.2/trade_db_22.csv\n",
      "../gitignore/CITES/Trade_database_download_v2019.2/trade_db_23.csv\n"
     ]
    },
    {
     "name": "stderr",
     "output_type": "stream",
     "text": [
      "/Users/tangruibin/anaconda3/lib/python3.6/site-packages/IPython/core/interactiveshell.py:2717: DtypeWarning: Columns (9,16) have mixed types. Specify dtype option on import or set low_memory=False.\n",
      "  interactivity=interactivity, compiler=compiler, result=result)\n"
     ]
    },
    {
     "name": "stdout",
     "output_type": "stream",
     "text": [
      "../gitignore/CITES/Trade_database_download_v2019.2/trade_db_24.csv\n",
      "../gitignore/CITES/Trade_database_download_v2019.2/trade_db_25.csv\n",
      "../gitignore/CITES/Trade_database_download_v2019.2/trade_db_26.csv\n",
      "../gitignore/CITES/Trade_database_download_v2019.2/trade_db_27.csv\n",
      "../gitignore/CITES/Trade_database_download_v2019.2/trade_db_28.csv\n",
      "../gitignore/CITES/Trade_database_download_v2019.2/trade_db_29.csv\n",
      "../gitignore/CITES/Trade_database_download_v2019.2/trade_db_30.csv\n",
      "../gitignore/CITES/Trade_database_download_v2019.2/trade_db_31.csv\n",
      "../gitignore/CITES/Trade_database_download_v2019.2/trade_db_32.csv\n",
      "../gitignore/CITES/Trade_database_download_v2019.2/trade_db_33.csv\n",
      "../gitignore/CITES/Trade_database_download_v2019.2/trade_db_34.csv\n",
      "../gitignore/CITES/Trade_database_download_v2019.2/trade_db_35.csv\n",
      "../gitignore/CITES/Trade_database_download_v2019.2/trade_db_36.csv\n",
      "../gitignore/CITES/Trade_database_download_v2019.2/trade_db_37.csv\n",
      "../gitignore/CITES/Trade_database_download_v2019.2/trade_db_38.csv\n",
      "../gitignore/CITES/Trade_database_download_v2019.2/trade_db_39.csv\n",
      "../gitignore/CITES/Trade_database_download_v2019.2/trade_db_40.csv\n",
      "../gitignore/CITES/Trade_database_download_v2019.2/trade_db_41.csv\n"
     ]
    }
   ],
   "source": [
    "df = pd.read_csv(\"../gitignore/CITES/Trade_database_download_v2019.2/trade_db_1.csv\")\n",
    "for i in range(2, 42, 1):\n",
    "    db_path = \"../gitignore/CITES/Trade_database_download_v2019.2/trade_db_{}.csv\".format(i)\n",
    "    print(db_path)\n",
    "    part = pd.read_csv(db_path)\n",
    "    df = df.append(part)"
   ]
  },
  {
   "cell_type": "code",
   "execution_count": 2,
   "metadata": {},
   "outputs": [
    {
     "ename": "NameError",
     "evalue": "name 'df' is not defined",
     "output_type": "error",
     "traceback": [
      "\u001b[0;31m---------------------------------------------------------------------------\u001b[0m",
      "\u001b[0;31mNameError\u001b[0m                                 Traceback (most recent call last)",
      "\u001b[0;32m<ipython-input-2-1e80ff5c8b17>\u001b[0m in \u001b[0;36m<module>\u001b[0;34m()\u001b[0m\n\u001b[0;32m----> 1\u001b[0;31m \u001b[0mdf\u001b[0m\u001b[0;34m.\u001b[0m\u001b[0mto_csv\u001b[0m\u001b[0;34m(\u001b[0m\u001b[0;34m'../gitignore/CITES/Trade_database_download_v2019.2/trade_db_all.csv'\u001b[0m\u001b[0;34m)\u001b[0m\u001b[0;34m\u001b[0m\u001b[0m\n\u001b[0m",
      "\u001b[0;31mNameError\u001b[0m: name 'df' is not defined"
     ]
    }
   ],
   "source": [
    "df.to_csv('../gitignore/CITES/Trade_database_download_v2019.2/trade_db_all.csv')"
   ]
  },
  {
   "cell_type": "code",
   "execution_count": 3,
   "metadata": {},
   "outputs": [
    {
     "name": "stderr",
     "output_type": "stream",
     "text": [
      "/Users/tangruibin/anaconda3/lib/python3.6/site-packages/IPython/core/interactiveshell.py:2717: DtypeWarning: Columns (1,9,10,17) have mixed types. Specify dtype option on import or set low_memory=False.\n",
      "  interactivity=interactivity, compiler=compiler, result=result)\n"
     ]
    },
    {
     "data": {
      "text/plain": [
       "Unnamed: 0                20215035\n",
       "Year                      20215034\n",
       "Appendix                  20215034\n",
       "Taxon                     20215035\n",
       "Class                     15267636\n",
       "Order                     20212382\n",
       "Family                    19952145\n",
       "Genus                     19304876\n",
       "Term                      20215033\n",
       "Quantity                  20215034\n",
       "Unit                       1505035\n",
       "Importer                  20205698\n",
       "Exporter                  20127654\n",
       "Origin                     8484648\n",
       "Purpose                   18670779\n",
       "Source                    18724529\n",
       "Reporter.type             20215032\n",
       "Import.permit.RandomID     2210357\n",
       "Export.permit.RandomID    18535932\n",
       "Origin.permit.RandomID     3456689\n",
       "dtype: int64"
      ]
     },
     "execution_count": 3,
     "metadata": {},
     "output_type": "execute_result"
    }
   ],
   "source": [
    "df = pd.read_csv(\"../gitignore/CITES/Trade_database_download_v2019.2/trade_db_all.csv\")\n",
    "df.count()"
   ]
  },
  {
   "cell_type": "code",
   "execution_count": 4,
   "metadata": {},
   "outputs": [
    {
     "data": {
      "text/html": [
       "<div>\n",
       "<style>\n",
       "    .dataframe thead tr:only-child th {\n",
       "        text-align: right;\n",
       "    }\n",
       "\n",
       "    .dataframe thead th {\n",
       "        text-align: left;\n",
       "    }\n",
       "\n",
       "    .dataframe tbody tr th {\n",
       "        vertical-align: top;\n",
       "    }\n",
       "</style>\n",
       "<table border=\"1\" class=\"dataframe\">\n",
       "  <thead>\n",
       "    <tr style=\"text-align: right;\">\n",
       "      <th></th>\n",
       "      <th>Unnamed: 0</th>\n",
       "      <th>Year</th>\n",
       "      <th>Appendix</th>\n",
       "      <th>Taxon</th>\n",
       "      <th>Class</th>\n",
       "      <th>Order</th>\n",
       "      <th>Family</th>\n",
       "      <th>Genus</th>\n",
       "      <th>Term</th>\n",
       "      <th>Quantity</th>\n",
       "      <th>Unit</th>\n",
       "      <th>Importer</th>\n",
       "      <th>Exporter</th>\n",
       "      <th>Origin</th>\n",
       "      <th>Purpose</th>\n",
       "      <th>Source</th>\n",
       "      <th>Reporter.type</th>\n",
       "      <th>Import.permit.RandomID</th>\n",
       "      <th>Export.permit.RandomID</th>\n",
       "      <th>Origin.permit.RandomID</th>\n",
       "    </tr>\n",
       "  </thead>\n",
       "  <tbody>\n",
       "    <tr>\n",
       "      <th>0</th>\n",
       "      <td>0</td>\n",
       "      <td>1984</td>\n",
       "      <td>I</td>\n",
       "      <td>Abies guatemalensis</td>\n",
       "      <td>NaN</td>\n",
       "      <td>Pinales</td>\n",
       "      <td>Pinaceae</td>\n",
       "      <td>Abies</td>\n",
       "      <td>seeds</td>\n",
       "      <td>20</td>\n",
       "      <td>kg</td>\n",
       "      <td>US</td>\n",
       "      <td>GT</td>\n",
       "      <td>NaN</td>\n",
       "      <td>NaN</td>\n",
       "      <td>I</td>\n",
       "      <td>I</td>\n",
       "      <td>NaN</td>\n",
       "      <td>e85fb541b7</td>\n",
       "      <td>NaN</td>\n",
       "    </tr>\n",
       "    <tr>\n",
       "      <th>1</th>\n",
       "      <td>1</td>\n",
       "      <td>1984</td>\n",
       "      <td>I</td>\n",
       "      <td>Abies guatemalensis</td>\n",
       "      <td>NaN</td>\n",
       "      <td>Pinales</td>\n",
       "      <td>Pinaceae</td>\n",
       "      <td>Abies</td>\n",
       "      <td>seeds</td>\n",
       "      <td>20</td>\n",
       "      <td>kg</td>\n",
       "      <td>US</td>\n",
       "      <td>GT</td>\n",
       "      <td>NaN</td>\n",
       "      <td>NaN</td>\n",
       "      <td>I</td>\n",
       "      <td>I</td>\n",
       "      <td>NaN</td>\n",
       "      <td>e85fb541b7</td>\n",
       "      <td>NaN</td>\n",
       "    </tr>\n",
       "    <tr>\n",
       "      <th>2</th>\n",
       "      <td>2</td>\n",
       "      <td>1984</td>\n",
       "      <td>I</td>\n",
       "      <td>Abies guatemalensis</td>\n",
       "      <td>NaN</td>\n",
       "      <td>Pinales</td>\n",
       "      <td>Pinaceae</td>\n",
       "      <td>Abies</td>\n",
       "      <td>seeds</td>\n",
       "      <td>40</td>\n",
       "      <td>kg</td>\n",
       "      <td>US</td>\n",
       "      <td>GT</td>\n",
       "      <td>NaN</td>\n",
       "      <td>NaN</td>\n",
       "      <td>I</td>\n",
       "      <td>I</td>\n",
       "      <td>NaN</td>\n",
       "      <td>e85fb541b7</td>\n",
       "      <td>NaN</td>\n",
       "    </tr>\n",
       "    <tr>\n",
       "      <th>3</th>\n",
       "      <td>3</td>\n",
       "      <td>1984</td>\n",
       "      <td>I</td>\n",
       "      <td>Abies guatemalensis</td>\n",
       "      <td>NaN</td>\n",
       "      <td>Pinales</td>\n",
       "      <td>Pinaceae</td>\n",
       "      <td>Abies</td>\n",
       "      <td>seeds</td>\n",
       "      <td>20</td>\n",
       "      <td>kg</td>\n",
       "      <td>US</td>\n",
       "      <td>GT</td>\n",
       "      <td>NaN</td>\n",
       "      <td>NaN</td>\n",
       "      <td>I</td>\n",
       "      <td>I</td>\n",
       "      <td>NaN</td>\n",
       "      <td>e85fb541b7</td>\n",
       "      <td>NaN</td>\n",
       "    </tr>\n",
       "    <tr>\n",
       "      <th>4</th>\n",
       "      <td>4</td>\n",
       "      <td>1985</td>\n",
       "      <td>I</td>\n",
       "      <td>Abies guatemalensis</td>\n",
       "      <td>NaN</td>\n",
       "      <td>Pinales</td>\n",
       "      <td>Pinaceae</td>\n",
       "      <td>Abies</td>\n",
       "      <td>seeds</td>\n",
       "      <td>750</td>\n",
       "      <td>g</td>\n",
       "      <td>US</td>\n",
       "      <td>GT</td>\n",
       "      <td>NaN</td>\n",
       "      <td>NaN</td>\n",
       "      <td>I</td>\n",
       "      <td>I</td>\n",
       "      <td>NaN</td>\n",
       "      <td>64fe572492</td>\n",
       "      <td>NaN</td>\n",
       "    </tr>\n",
       "  </tbody>\n",
       "</table>\n",
       "</div>"
      ],
      "text/plain": [
       "   Unnamed: 0  Year Appendix                Taxon Class    Order    Family  \\\n",
       "0           0  1984        I  Abies guatemalensis   NaN  Pinales  Pinaceae   \n",
       "1           1  1984        I  Abies guatemalensis   NaN  Pinales  Pinaceae   \n",
       "2           2  1984        I  Abies guatemalensis   NaN  Pinales  Pinaceae   \n",
       "3           3  1984        I  Abies guatemalensis   NaN  Pinales  Pinaceae   \n",
       "4           4  1985        I  Abies guatemalensis   NaN  Pinales  Pinaceae   \n",
       "\n",
       "   Genus   Term Quantity Unit Importer Exporter Origin Purpose Source  \\\n",
       "0  Abies  seeds       20   kg       US       GT    NaN     NaN      I   \n",
       "1  Abies  seeds       20   kg       US       GT    NaN     NaN      I   \n",
       "2  Abies  seeds       40   kg       US       GT    NaN     NaN      I   \n",
       "3  Abies  seeds       20   kg       US       GT    NaN     NaN      I   \n",
       "4  Abies  seeds      750    g       US       GT    NaN     NaN      I   \n",
       "\n",
       "  Reporter.type Import.permit.RandomID Export.permit.RandomID  \\\n",
       "0             I                    NaN             e85fb541b7   \n",
       "1             I                    NaN             e85fb541b7   \n",
       "2             I                    NaN             e85fb541b7   \n",
       "3             I                    NaN             e85fb541b7   \n",
       "4             I                    NaN             64fe572492   \n",
       "\n",
       "  Origin.permit.RandomID  \n",
       "0                    NaN  \n",
       "1                    NaN  \n",
       "2                    NaN  \n",
       "3                    NaN  \n",
       "4                    NaN  "
      ]
     },
     "execution_count": 4,
     "metadata": {},
     "output_type": "execute_result"
    }
   ],
   "source": [
    "df.head()"
   ]
  },
  {
   "cell_type": "code",
   "execution_count": null,
   "metadata": {
    "collapsed": true
   },
   "outputs": [],
   "source": []
  }
 ],
 "metadata": {
  "kernelspec": {
   "display_name": "Python 3",
   "language": "python",
   "name": "python3"
  },
  "language_info": {
   "codemirror_mode": {
    "name": "ipython",
    "version": 3
   },
   "file_extension": ".py",
   "mimetype": "text/x-python",
   "name": "python",
   "nbconvert_exporter": "python",
   "pygments_lexer": "ipython3",
   "version": "3.6.1"
  }
 },
 "nbformat": 4,
 "nbformat_minor": 2
}
