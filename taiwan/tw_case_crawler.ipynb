{
 "cells": [
  {
   "cell_type": "markdown",
   "metadata": {},
   "source": [
    "## Scrap https://law.judicial.gov.tw"
   ]
  },
  {
   "cell_type": "code",
   "execution_count": 1,
   "metadata": {
    "collapsed": true
   },
   "outputs": [],
   "source": [
    "import time\n",
    "import numpy as np\n",
    "import pandas as pd\n",
    "from selenium import webdriver\n",
    "\n",
    "browser = webdriver.Chrome('../../../chromedriver')"
   ]
  },
  {
   "cell_type": "code",
   "execution_count": 2,
   "metadata": {
    "collapsed": true
   },
   "outputs": [],
   "source": [
    "browser.get('https://law.judicial.gov.tw/FJUD/default.aspx')"
   ]
  },
  {
   "cell_type": "markdown",
   "metadata": {},
   "source": [
    "#### Search by keyword '穿山甲'"
   ]
  },
  {
   "cell_type": "code",
   "execution_count": 3,
   "metadata": {
    "collapsed": true
   },
   "outputs": [],
   "source": [
    "search_input = browser.find_element_by_css_selector(\"input#txtKW\")\n",
    "search_input.send_keys('穿山甲')\n",
    "search_submit_button = browser.find_element_by_css_selector(\"input#btnSimpleQry\")\n",
    "search_submit_button.click()"
   ]
  },
  {
   "cell_type": "markdown",
   "metadata": {},
   "source": [
    "#### Collect ```title```, ```date```, ```cause of action```"
   ]
  },
  {
   "cell_type": "code",
   "execution_count": 4,
   "metadata": {
    "collapsed": true
   },
   "outputs": [],
   "source": [
    "def getTRows(_browser):\n",
    "    time.sleep(2)\n",
    "    _browser.switch_to.frame(browser.find_element_by_tag_name(\"iframe\")) #switch to iframe\n",
    "    trs = _browser.find_elements_by_css_selector(\"div.result-list table tbody tr\")\n",
    "    return trs\n",
    "    \n",
    "def getHrefFromRow(row):\n",
    "    return row.find_element_by_css_selector('a').get_attribute('href')\n",
    "\n",
    "def extractInfoFromRows(trows, _browser):\n",
    "    list_of_dict = list()\n",
    "    for index in range(1, len(trows)):\n",
    "        #for each row\n",
    "        if (index % 2 == 1):\n",
    "            text_arr = trows[index].text.split()\n",
    "            dist = {\n",
    "                'court info': ' '.join(str(x) for x in text_arr[1:-2]),\n",
    "                'date': text_arr[-2],\n",
    "                'cause': text_arr[-1],\n",
    "                'url': getHrefFromRow(trows[index])\n",
    "            }\n",
    "            list_of_dict.append(dist)\n",
    "    return list_of_dict\n",
    "\n",
    "def goNextPage(_browser):\n",
    "    btn = _browser.find_element_by_css_selector('a#hlNext')\n",
    "    btn.click()\n",
    "    _browser.switch_to.default_content(); # backto root document\n",
    "    return"
   ]
  },
  {
   "cell_type": "code",
   "execution_count": 5,
   "metadata": {},
   "outputs": [
    {
     "data": {
      "text/html": [
       "<div>\n",
       "<style>\n",
       "    .dataframe thead tr:only-child th {\n",
       "        text-align: right;\n",
       "    }\n",
       "\n",
       "    .dataframe thead th {\n",
       "        text-align: left;\n",
       "    }\n",
       "\n",
       "    .dataframe tbody tr th {\n",
       "        vertical-align: top;\n",
       "    }\n",
       "</style>\n",
       "<table border=\"1\" class=\"dataframe\">\n",
       "  <thead>\n",
       "    <tr style=\"text-align: right;\">\n",
       "      <th></th>\n",
       "      <th>cause</th>\n",
       "      <th>court info</th>\n",
       "      <th>date</th>\n",
       "      <th>url</th>\n",
       "    </tr>\n",
       "  </thead>\n",
       "  <tbody>\n",
       "    <tr>\n",
       "      <th>0</th>\n",
       "      <td>野生動物保育法</td>\n",
       "      <td>臺灣花蓮地方法院 108 年度 訴 字第 56 號刑事判決（10K）</td>\n",
       "      <td>108.03.25</td>\n",
       "      <td>https://law.judicial.gov.tw/FJUD/data.aspx?ro=...</td>\n",
       "    </tr>\n",
       "    <tr>\n",
       "      <th>1</th>\n",
       "      <td>野生動物保育法等</td>\n",
       "      <td>臺灣高等法院 107 年度 原上訴 字第 82 號刑事判決（13K）</td>\n",
       "      <td>107.10.03</td>\n",
       "      <td>https://law.judicial.gov.tw/FJUD/data.aspx?ro=...</td>\n",
       "    </tr>\n",
       "    <tr>\n",
       "      <th>2</th>\n",
       "      <td>毒品危害防制條例等</td>\n",
       "      <td>臺灣高等法院 臺南分院 107 年度 上訴 字第 478 號刑事判決（60K）</td>\n",
       "      <td>107.08.02</td>\n",
       "      <td>https://law.judicial.gov.tw/FJUD/data.aspx?ro=...</td>\n",
       "    </tr>\n",
       "    <tr>\n",
       "      <th>3</th>\n",
       "      <td>聲請撤銷緩刑</td>\n",
       "      <td>臺灣高等法院 高雄分院 107 年度 原抗 字第 1 號刑事裁定（5K）</td>\n",
       "      <td>107.07.16</td>\n",
       "      <td>https://law.judicial.gov.tw/FJUD/data.aspx?ro=...</td>\n",
       "    </tr>\n",
       "    <tr>\n",
       "      <th>4</th>\n",
       "      <td>違反野生動物保育法等</td>\n",
       "      <td>臺灣新竹地方法院 106 年度 原訴 字第 21 號刑事判決（16K）</td>\n",
       "      <td>107.04.27</td>\n",
       "      <td>https://law.judicial.gov.tw/FJUD/data.aspx?ro=...</td>\n",
       "    </tr>\n",
       "  </tbody>\n",
       "</table>\n",
       "</div>"
      ],
      "text/plain": [
       "        cause                               court info       date  \\\n",
       "0     野生動物保育法       臺灣花蓮地方法院 108 年度 訴 字第 56 號刑事判決（10K）  108.03.25   \n",
       "1    野生動物保育法等       臺灣高等法院 107 年度 原上訴 字第 82 號刑事判決（13K）  107.10.03   \n",
       "2   毒品危害防制條例等  臺灣高等法院 臺南分院 107 年度 上訴 字第 478 號刑事判決（60K）  107.08.02   \n",
       "3      聲請撤銷緩刑     臺灣高等法院 高雄分院 107 年度 原抗 字第 1 號刑事裁定（5K）  107.07.16   \n",
       "4  違反野生動物保育法等      臺灣新竹地方法院 106 年度 原訴 字第 21 號刑事判決（16K）  107.04.27   \n",
       "\n",
       "                                                 url  \n",
       "0  https://law.judicial.gov.tw/FJUD/data.aspx?ro=...  \n",
       "1  https://law.judicial.gov.tw/FJUD/data.aspx?ro=...  \n",
       "2  https://law.judicial.gov.tw/FJUD/data.aspx?ro=...  \n",
       "3  https://law.judicial.gov.tw/FJUD/data.aspx?ro=...  \n",
       "4  https://law.judicial.gov.tw/FJUD/data.aspx?ro=...  "
      ]
     },
     "execution_count": 5,
     "metadata": {},
     "output_type": "execute_result"
    }
   ],
   "source": [
    "trs1 = getTRows(browser)\n",
    "pages = pd.DataFrame(extractInfoFromRows(trs1, browser))\n",
    "pages.head()"
   ]
  },
  {
   "cell_type": "markdown",
   "metadata": {},
   "source": [
    "### Page1 scraped, process the rest with pagination"
   ]
  },
  {
   "cell_type": "code",
   "execution_count": 7,
   "metadata": {},
   "outputs": [],
   "source": [
    "page_num = 2\n",
    "while (page_num < 7):\n",
    "    time.sleep(1)\n",
    "    goNextPage(browser)\n",
    "    trs = getTRows(browser)\n",
    "    page = pd.DataFrame(extractInfoFromRows(trs, browser))\n",
    "    pages = pages.append(page, ignore_index=True)\n",
    "    page_num = page_num + 1"
   ]
  },
  {
   "cell_type": "code",
   "execution_count": 8,
   "metadata": {},
   "outputs": [],
   "source": [
    "pages"
   ]
  },
  {
   "cell_type": "code",
   "execution_count": 9,
   "metadata": {
    "collapsed": true
   },
   "outputs": [],
   "source": [
    "pages.to_csv('./court_cases_urls.csv', encoding='utf_8_sig')"
   ]
  },
  {
   "cell_type": "code",
   "execution_count": null,
   "metadata": {
    "collapsed": true
   },
   "outputs": [],
   "source": []
  }
 ],
 "metadata": {
  "kernelspec": {
   "display_name": "Python 3",
   "language": "python",
   "name": "python3"
  },
  "language_info": {
   "codemirror_mode": {
    "name": "ipython",
    "version": 3
   },
   "file_extension": ".py",
   "mimetype": "text/x-python",
   "name": "python",
   "nbconvert_exporter": "python",
   "pygments_lexer": "ipython3",
   "version": "3.6.1"
  }
 },
 "nbformat": 4,
 "nbformat_minor": 2
}
