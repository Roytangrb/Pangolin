{
 "cells": [
  {
   "cell_type": "markdown",
   "metadata": {},
   "source": [
    "## Preparing json for scales globe visualization (kg, scales, manis)"
   ]
  },
  {
   "cell_type": "code",
   "execution_count": 1,
   "metadata": {
    "collapsed": true
   },
   "outputs": [],
   "source": [
    "import numpy as np\n",
    "import pandas as pd"
   ]
  },
  {
   "cell_type": "code",
   "execution_count": 2,
   "metadata": {},
   "outputs": [
    {
     "data": {
      "text/html": [
       "<div>\n",
       "<style>\n",
       "    .dataframe thead tr:only-child th {\n",
       "        text-align: right;\n",
       "    }\n",
       "\n",
       "    .dataframe thead th {\n",
       "        text-align: left;\n",
       "    }\n",
       "\n",
       "    .dataframe tbody tr th {\n",
       "        vertical-align: top;\n",
       "    }\n",
       "</style>\n",
       "<table border=\"1\" class=\"dataframe\">\n",
       "  <thead>\n",
       "    <tr style=\"text-align: right;\">\n",
       "      <th></th>\n",
       "      <th>year</th>\n",
       "      <th>importer</th>\n",
       "      <th>exporter</th>\n",
       "      <th>reporter_type</th>\n",
       "      <th>quantity</th>\n",
       "    </tr>\n",
       "  </thead>\n",
       "  <tbody>\n",
       "    <tr>\n",
       "      <th>0</th>\n",
       "      <td>1997</td>\n",
       "      <td>KR</td>\n",
       "      <td>XX</td>\n",
       "      <td>I</td>\n",
       "      <td>366.000</td>\n",
       "    </tr>\n",
       "    <tr>\n",
       "      <th>1</th>\n",
       "      <td>1999</td>\n",
       "      <td>US</td>\n",
       "      <td>LA</td>\n",
       "      <td>I</td>\n",
       "      <td>0.109</td>\n",
       "    </tr>\n",
       "    <tr>\n",
       "      <th>2</th>\n",
       "      <td>1999</td>\n",
       "      <td>US</td>\n",
       "      <td>LA</td>\n",
       "      <td>I</td>\n",
       "      <td>0.043</td>\n",
       "    </tr>\n",
       "    <tr>\n",
       "      <th>3</th>\n",
       "      <td>1999</td>\n",
       "      <td>US</td>\n",
       "      <td>LA</td>\n",
       "      <td>I</td>\n",
       "      <td>0.032</td>\n",
       "    </tr>\n",
       "    <tr>\n",
       "      <th>4</th>\n",
       "      <td>2001</td>\n",
       "      <td>US</td>\n",
       "      <td>LA</td>\n",
       "      <td>I</td>\n",
       "      <td>0.022</td>\n",
       "    </tr>\n",
       "  </tbody>\n",
       "</table>\n",
       "</div>"
      ],
      "text/plain": [
       "   year importer exporter reporter_type  quantity\n",
       "0  1997       KR       XX             I   366.000\n",
       "1  1999       US       LA             I     0.109\n",
       "2  1999       US       LA             I     0.043\n",
       "3  1999       US       LA             I     0.032\n",
       "4  2001       US       LA             I     0.022"
      ]
     },
     "execution_count": 2,
     "metadata": {},
     "output_type": "execute_result"
    }
   ],
   "source": [
    "df_import = pd.read_csv('./subsets/df_scales_weight_import_kg.csv')\n",
    "df_export = pd.read_csv('./subsets/df_scales_weight_export_kg.csv')\n",
    "df_import.drop(['Unnamed: 0', 'appendix', 'taxon', 'class', 'ord', 'family', 'genus', 'term', 'origin', 'purpose', 'source', 'unit'], axis=1, inplace=True)\n",
    "df_export.drop(['Unnamed: 0', 'appendix', 'taxon', 'class', 'ord', 'family', 'genus', 'term', 'origin', 'purpose', 'source', 'unit'], axis=1, inplace=True)\n",
    "df_import.head()"
   ]
  },
  {
   "cell_type": "code",
   "execution_count": 3,
   "metadata": {
    "scrolled": true
   },
   "outputs": [
    {
     "data": {
      "text/html": [
       "<div>\n",
       "<style>\n",
       "    .dataframe thead tr:only-child th {\n",
       "        text-align: right;\n",
       "    }\n",
       "\n",
       "    .dataframe thead th {\n",
       "        text-align: left;\n",
       "    }\n",
       "\n",
       "    .dataframe tbody tr th {\n",
       "        vertical-align: top;\n",
       "    }\n",
       "</style>\n",
       "<table border=\"1\" class=\"dataframe\">\n",
       "  <thead>\n",
       "    <tr style=\"text-align: right;\">\n",
       "      <th></th>\n",
       "      <th>year</th>\n",
       "      <th>importer</th>\n",
       "      <th>exporter</th>\n",
       "      <th>reporter_type</th>\n",
       "      <th>quantity</th>\n",
       "    </tr>\n",
       "  </thead>\n",
       "  <tbody>\n",
       "    <tr>\n",
       "      <th>0</th>\n",
       "      <td>1997</td>\n",
       "      <td>KR</td>\n",
       "      <td>XX</td>\n",
       "      <td>I</td>\n",
       "      <td>366.0</td>\n",
       "    </tr>\n",
       "  </tbody>\n",
       "</table>\n",
       "</div>"
      ],
      "text/plain": [
       "   year importer exporter reporter_type  quantity\n",
       "0  1997       KR       XX             I     366.0"
      ]
     },
     "execution_count": 3,
     "metadata": {},
     "output_type": "execute_result"
    }
   ],
   "source": [
    "df = pd.concat([df_import, df_export], axis=0)\n",
    "df[(df['exporter']=='XX') | (df['importer']=='XX')]"
   ]
  },
  {
   "cell_type": "code",
   "execution_count": 4,
   "metadata": {},
   "outputs": [
    {
     "data": {
      "text/html": [
       "<div>\n",
       "<style>\n",
       "    .dataframe thead tr:only-child th {\n",
       "        text-align: right;\n",
       "    }\n",
       "\n",
       "    .dataframe thead th {\n",
       "        text-align: left;\n",
       "    }\n",
       "\n",
       "    .dataframe tbody tr th {\n",
       "        vertical-align: top;\n",
       "    }\n",
       "</style>\n",
       "<table border=\"1\" class=\"dataframe\">\n",
       "  <thead>\n",
       "    <tr style=\"text-align: right;\">\n",
       "      <th></th>\n",
       "      <th>year</th>\n",
       "      <th>importer</th>\n",
       "      <th>exporter</th>\n",
       "      <th>reporter_type</th>\n",
       "      <th>quantity</th>\n",
       "    </tr>\n",
       "  </thead>\n",
       "  <tbody>\n",
       "    <tr>\n",
       "      <th>1</th>\n",
       "      <td>1999</td>\n",
       "      <td>US</td>\n",
       "      <td>LA</td>\n",
       "      <td>I</td>\n",
       "      <td>0.109</td>\n",
       "    </tr>\n",
       "    <tr>\n",
       "      <th>2</th>\n",
       "      <td>1999</td>\n",
       "      <td>US</td>\n",
       "      <td>LA</td>\n",
       "      <td>I</td>\n",
       "      <td>0.043</td>\n",
       "    </tr>\n",
       "    <tr>\n",
       "      <th>3</th>\n",
       "      <td>1999</td>\n",
       "      <td>US</td>\n",
       "      <td>LA</td>\n",
       "      <td>I</td>\n",
       "      <td>0.032</td>\n",
       "    </tr>\n",
       "    <tr>\n",
       "      <th>4</th>\n",
       "      <td>2001</td>\n",
       "      <td>US</td>\n",
       "      <td>LA</td>\n",
       "      <td>I</td>\n",
       "      <td>0.022</td>\n",
       "    </tr>\n",
       "    <tr>\n",
       "      <th>5</th>\n",
       "      <td>2001</td>\n",
       "      <td>US</td>\n",
       "      <td>LA</td>\n",
       "      <td>I</td>\n",
       "      <td>0.020</td>\n",
       "    </tr>\n",
       "  </tbody>\n",
       "</table>\n",
       "</div>"
      ],
      "text/plain": [
       "   year importer exporter reporter_type  quantity\n",
       "1  1999       US       LA             I     0.109\n",
       "2  1999       US       LA             I     0.043\n",
       "3  1999       US       LA             I     0.032\n",
       "4  2001       US       LA             I     0.022\n",
       "5  2001       US       LA             I     0.020"
      ]
     },
     "execution_count": 4,
     "metadata": {},
     "output_type": "execute_result"
    }
   ],
   "source": [
    "df_import = df_import[(df_import['importer']!='XX') & (df_import['exporter']!='XX')]\n",
    "df_import.head()"
   ]
  },
  {
   "cell_type": "markdown",
   "metadata": {},
   "source": [
    "### countries"
   ]
  },
  {
   "cell_type": "code",
   "execution_count": 5,
   "metadata": {},
   "outputs": [
    {
     "data": {
      "text/plain": [
       "array(['AU', 'BI', 'CD', 'CG', 'CH', 'CI', 'CN', 'DE', 'GA', 'GB', 'HK',\n",
       "       'KH', 'KR', 'LA', 'MY', 'NL', 'NZ', 'SG', 'TG', 'TH', 'TZ', 'UG',\n",
       "       'US', 'VN', 'XX', 'ZA'], dtype=object)"
      ]
     },
     "execution_count": 5,
     "metadata": {},
     "output_type": "execute_result"
    }
   ],
   "source": [
    "np.unique(df[['importer', 'exporter']].values)"
   ]
  },
  {
   "cell_type": "code",
   "execution_count": 6,
   "metadata": {},
   "outputs": [
    {
     "data": {
      "text/plain": [
       "\"\\nAU AUSTRALIA\\nBI BURUNDI\\nCD CONGO, DEMOCRATIC REPUBLIC OF THE\\nCG CONGO\\nCH SWITZERLAND\\nCI CÔTE D'IVOIRE\\nCN CHINA\\nDE GERMANY\\nGA GABON\\nGB UNITED KINGDOM OF GREAT BRITAIN AND NORTHERN IRELAND\\nHK HONG KONG\\nKH CAMBODIA\\nKR KOREA, REPUBLIC OF\\nLA LAO PEOPLE'S DEMOCRATIC REPUBLIC\\nMY MALAYSIA\\nNL NETHERLANDS\\nNZ NEW ZEALAND\\nSG SINGAPORE\\nTG TOGO\\nTH THAILAND\\nTZ TANZANIA, UNITED REPUBLIC OF\\nUG UGANDA\\nUS UNITED STATES OF AMERICA\\nVN VIET NAM\\nZA SOUTH AFRICA\\n\""
      ]
     },
     "execution_count": 6,
     "metadata": {},
     "output_type": "execute_result"
    }
   ],
   "source": [
    "'''\n",
    "AU AUSTRALIA\n",
    "BI BURUNDI\n",
    "CD CONGO, DEMOCRATIC REPUBLIC OF THE\n",
    "CG CONGO\n",
    "CH SWITZERLAND\n",
    "CI CÔTE D'IVOIRE\n",
    "CN CHINA\n",
    "DE GERMANY\n",
    "GA GABON\n",
    "GB UNITED KINGDOM OF GREAT BRITAIN AND NORTHERN IRELAND\n",
    "HK HONG KONG\n",
    "KH CAMBODIA\n",
    "KR KOREA, REPUBLIC OF\n",
    "LA LAO PEOPLE'S DEMOCRATIC REPUBLIC\n",
    "MY MALAYSIA\n",
    "NL NETHERLANDS\n",
    "NZ NEW ZEALAND\n",
    "SG SINGAPORE\n",
    "TG TOGO\n",
    "TH THAILAND\n",
    "TZ TANZANIA, UNITED REPUBLIC OF\n",
    "UG UGANDA\n",
    "US UNITED STATES OF AMERICA\n",
    "VN VIET NAM\n",
    "ZA SOUTH AFRICA\n",
    "'''"
   ]
  },
  {
   "cell_type": "code",
   "execution_count": 7,
   "metadata": {
    "collapsed": true
   },
   "outputs": [],
   "source": [
    "countries = ['AU', 'BI', 'CD', 'CG', 'CH', 'CI', 'CN', 'DE', 'GA', 'GB', 'HK',\n",
    "       'KH', 'KR', 'LA', 'MY', 'NL', 'NZ', 'SG', 'TG', 'TH', 'TZ', 'UG',\n",
    "       'US', 'VN', 'ZA'] #'XX',\n",
    "#now is latlons\n",
    "lonlats = [\n",
    "    [-25.274398, 133.775136],\n",
    "    [-3.373056, 29.918886],\n",
    "    [-4.038333, 21.758664],\n",
    "    [-0.228021, 15.827659],\n",
    "    [46.818188, 8.227512],\n",
    "    [7.539989, -5.54708],\n",
    "    [35.86166, 104.195397],\n",
    "    [51.165691, 10.451526],\n",
    "    [-0.803689, 11.609444],\n",
    "    [55.378051, -3.435973],\n",
    "    [22.396428, 114.109497],\n",
    "    [12.565679, 104.990963],\n",
    "    [35.907757, 127.766922],\n",
    "    [19.85627, 102.495496],\n",
    "    [4.210484, 101.975766],\n",
    "    [52.132633, 5.291266],\n",
    "    [-40.900557, 174.885971],\n",
    "    [1.352083, 103.819836],\n",
    "    [8.619543, 0.824782],\n",
    "    [15.870032, 100.992541],\n",
    "    [-6.369028, 34.888822],\n",
    "    [1.373333, 32.290275],\n",
    "    [37.09024, -95.712891],\n",
    "    [14.058324, 108.277199],\n",
    "    [-30.559482, 22.937506]\n",
    "]\n",
    "for index in range(len(lonlats)):\n",
    "    lonlats[index][0], lonlats[index][1] = lonlats[index][1], lonlats[index][0]"
   ]
  },
  {
   "cell_type": "code",
   "execution_count": 8,
   "metadata": {},
   "outputs": [
    {
     "data": {
      "text/plain": [
       "{'AU': [133.775136, -25.274398],\n",
       " 'BI': [29.918886, -3.373056],\n",
       " 'CD': [21.758664, -4.038333],\n",
       " 'CG': [15.827659, -0.228021],\n",
       " 'CH': [8.227512, 46.818188],\n",
       " 'CI': [-5.54708, 7.539989],\n",
       " 'CN': [104.195397, 35.86166],\n",
       " 'DE': [10.451526, 51.165691],\n",
       " 'GA': [11.609444, -0.803689],\n",
       " 'GB': [-3.435973, 55.378051],\n",
       " 'HK': [114.109497, 22.396428],\n",
       " 'KH': [104.990963, 12.565679],\n",
       " 'KR': [127.766922, 35.907757],\n",
       " 'LA': [102.495496, 19.85627],\n",
       " 'MY': [101.975766, 4.210484],\n",
       " 'NL': [5.291266, 52.132633],\n",
       " 'NZ': [174.885971, -40.900557],\n",
       " 'SG': [103.819836, 1.352083],\n",
       " 'TG': [0.824782, 8.619543],\n",
       " 'TH': [100.992541, 15.870032],\n",
       " 'TZ': [34.888822, -6.369028],\n",
       " 'UG': [32.290275, 1.373333],\n",
       " 'US': [-95.712891, 37.09024],\n",
       " 'VN': [108.277199, 14.058324],\n",
       " 'ZA': [22.937506, -30.559482]}"
      ]
     },
     "execution_count": 8,
     "metadata": {},
     "output_type": "execute_result"
    }
   ],
   "source": [
    "dict_code_lonlat = dict(zip(countries, lonlats))\n",
    "dict_code_lonlat"
   ]
  },
  {
   "cell_type": "code",
   "execution_count": 9,
   "metadata": {
    "collapsed": true
   },
   "outputs": [],
   "source": [
    "def tojson(_df):\n",
    "    result = list()\n",
    "    for index, row in _df.iterrows():\n",
    "        result.append({\n",
    "            'year': row['year'],\n",
    "            'route': [dict_code_lonlat[row['exporter']], dict_code_lonlat[row['importer']]], #follow from - to for visuals \n",
    "            'quantity': row['quantity']\n",
    "        })\n",
    "        \n",
    "    return result\n",
    "\n",
    "import_json = tojson(df_import)\n",
    "export_json = tojson(df_export)\n"
   ]
  },
  {
   "cell_type": "code",
   "execution_count": 10,
   "metadata": {
    "collapsed": true
   },
   "outputs": [],
   "source": [
    "import json\n",
    "with open('../charts/assets/import_scales.json', 'w') as outfile:\n",
    "    json.dump(import_json, outfile)\n"
   ]
  },
  {
   "cell_type": "code",
   "execution_count": 11,
   "metadata": {
    "collapsed": true
   },
   "outputs": [],
   "source": [
    "with open('../charts/assets/export_scales.json', 'w') as outfile:\n",
    "    json.dump(export_json, outfile)"
   ]
  },
  {
   "cell_type": "code",
   "execution_count": 16,
   "metadata": {},
   "outputs": [
    {
     "data": {
      "text/html": [
       "<div>\n",
       "<style>\n",
       "    .dataframe thead tr:only-child th {\n",
       "        text-align: right;\n",
       "    }\n",
       "\n",
       "    .dataframe thead th {\n",
       "        text-align: left;\n",
       "    }\n",
       "\n",
       "    .dataframe tbody tr th {\n",
       "        vertical-align: top;\n",
       "    }\n",
       "</style>\n",
       "<table border=\"1\" class=\"dataframe\">\n",
       "  <thead>\n",
       "    <tr style=\"text-align: right;\">\n",
       "      <th></th>\n",
       "      <th>quantity</th>\n",
       "    </tr>\n",
       "    <tr>\n",
       "      <th>year</th>\n",
       "      <th></th>\n",
       "    </tr>\n",
       "  </thead>\n",
       "  <tbody>\n",
       "    <tr>\n",
       "      <th>1994</th>\n",
       "      <td>2000.0</td>\n",
       "    </tr>\n",
       "    <tr>\n",
       "      <th>1996</th>\n",
       "      <td>4000.0</td>\n",
       "    </tr>\n",
       "    <tr>\n",
       "      <th>2010</th>\n",
       "      <td>1500.0</td>\n",
       "    </tr>\n",
       "    <tr>\n",
       "      <th>2012</th>\n",
       "      <td>800.0</td>\n",
       "    </tr>\n",
       "    <tr>\n",
       "      <th>2014</th>\n",
       "      <td>3948.0</td>\n",
       "    </tr>\n",
       "    <tr>\n",
       "      <th>2015</th>\n",
       "      <td>1950.0</td>\n",
       "    </tr>\n",
       "    <tr>\n",
       "      <th>2016</th>\n",
       "      <td>4500.0</td>\n",
       "    </tr>\n",
       "    <tr>\n",
       "      <th>2017</th>\n",
       "      <td>5000.0</td>\n",
       "    </tr>\n",
       "  </tbody>\n",
       "</table>\n",
       "</div>"
      ],
      "text/plain": [
       "      quantity\n",
       "year          \n",
       "1994    2000.0\n",
       "1996    4000.0\n",
       "2010    1500.0\n",
       "2012     800.0\n",
       "2014    3948.0\n",
       "2015    1950.0\n",
       "2016    4500.0\n",
       "2017    5000.0"
      ]
     },
     "execution_count": 16,
     "metadata": {},
     "output_type": "execute_result"
    }
   ],
   "source": [
    "df_import[df_import['importer']=='CN'].groupby('year').sum()"
   ]
  },
  {
   "cell_type": "markdown",
   "metadata": {},
   "source": [
    "### Find anomaly case in Africa\n",
    "* exported from hong kong to some african country and transfer to another african country"
   ]
  },
  {
   "cell_type": "code",
   "execution_count": 5,
   "metadata": {},
   "outputs": [
    {
     "data": {
      "text/html": [
       "<div>\n",
       "<style>\n",
       "    .dataframe thead tr:only-child th {\n",
       "        text-align: right;\n",
       "    }\n",
       "\n",
       "    .dataframe thead th {\n",
       "        text-align: left;\n",
       "    }\n",
       "\n",
       "    .dataframe tbody tr th {\n",
       "        vertical-align: top;\n",
       "    }\n",
       "</style>\n",
       "<table border=\"1\" class=\"dataframe\">\n",
       "  <thead>\n",
       "    <tr style=\"text-align: right;\">\n",
       "      <th></th>\n",
       "      <th>year</th>\n",
       "      <th>importer</th>\n",
       "      <th>exporter</th>\n",
       "      <th>reporter_type</th>\n",
       "      <th>quantity</th>\n",
       "    </tr>\n",
       "  </thead>\n",
       "  <tbody>\n",
       "    <tr>\n",
       "      <th>35</th>\n",
       "      <td>2013</td>\n",
       "      <td>US</td>\n",
       "      <td>HK</td>\n",
       "      <td>I</td>\n",
       "      <td>0.737</td>\n",
       "    </tr>\n",
       "    <tr>\n",
       "      <th>53</th>\n",
       "      <td>2015</td>\n",
       "      <td>ZA</td>\n",
       "      <td>HK</td>\n",
       "      <td>I</td>\n",
       "      <td>27.882</td>\n",
       "    </tr>\n",
       "    <tr>\n",
       "      <th>81</th>\n",
       "      <td>2017</td>\n",
       "      <td>ZA</td>\n",
       "      <td>HK</td>\n",
       "      <td>I</td>\n",
       "      <td>14.800</td>\n",
       "    </tr>\n",
       "    <tr>\n",
       "      <th>82</th>\n",
       "      <td>2017</td>\n",
       "      <td>ZA</td>\n",
       "      <td>HK</td>\n",
       "      <td>I</td>\n",
       "      <td>12.800</td>\n",
       "    </tr>\n",
       "    <tr>\n",
       "      <th>6</th>\n",
       "      <td>1996</td>\n",
       "      <td>CN</td>\n",
       "      <td>HK</td>\n",
       "      <td>E</td>\n",
       "      <td>1600.000</td>\n",
       "    </tr>\n",
       "  </tbody>\n",
       "</table>\n",
       "</div>"
      ],
      "text/plain": [
       "    year importer exporter reporter_type  quantity\n",
       "35  2013       US       HK             I     0.737\n",
       "53  2015       ZA       HK             I    27.882\n",
       "81  2017       ZA       HK             I    14.800\n",
       "82  2017       ZA       HK             I    12.800\n",
       "6   1996       CN       HK             E  1600.000"
      ]
     },
     "execution_count": 5,
     "metadata": {},
     "output_type": "execute_result"
    }
   ],
   "source": [
    "df[df['exporter']==\"HK\"]"
   ]
  },
  {
   "cell_type": "code",
   "execution_count": 7,
   "metadata": {},
   "outputs": [
    {
     "name": "stdout",
     "output_type": "stream",
     "text": [
      "ZA SOUTH AFRICA\n"
     ]
    },
    {
     "data": {
      "text/html": [
       "<div>\n",
       "<style>\n",
       "    .dataframe thead tr:only-child th {\n",
       "        text-align: right;\n",
       "    }\n",
       "\n",
       "    .dataframe thead th {\n",
       "        text-align: left;\n",
       "    }\n",
       "\n",
       "    .dataframe tbody tr th {\n",
       "        vertical-align: top;\n",
       "    }\n",
       "</style>\n",
       "<table border=\"1\" class=\"dataframe\">\n",
       "  <thead>\n",
       "    <tr style=\"text-align: right;\">\n",
       "      <th></th>\n",
       "      <th>year</th>\n",
       "      <th>importer</th>\n",
       "      <th>exporter</th>\n",
       "      <th>reporter_type</th>\n",
       "      <th>quantity</th>\n",
       "    </tr>\n",
       "  </thead>\n",
       "  <tbody>\n",
       "    <tr>\n",
       "      <th>41</th>\n",
       "      <td>2016</td>\n",
       "      <td>TZ</td>\n",
       "      <td>ZA</td>\n",
       "      <td>E</td>\n",
       "      <td>0.5</td>\n",
       "    </tr>\n",
       "    <tr>\n",
       "      <th>43</th>\n",
       "      <td>2016</td>\n",
       "      <td>TZ</td>\n",
       "      <td>ZA</td>\n",
       "      <td>E</td>\n",
       "      <td>0.5</td>\n",
       "    </tr>\n",
       "    <tr>\n",
       "      <th>44</th>\n",
       "      <td>2016</td>\n",
       "      <td>TZ</td>\n",
       "      <td>ZA</td>\n",
       "      <td>E</td>\n",
       "      <td>0.5</td>\n",
       "    </tr>\n",
       "    <tr>\n",
       "      <th>46</th>\n",
       "      <td>2016</td>\n",
       "      <td>TZ</td>\n",
       "      <td>ZA</td>\n",
       "      <td>E</td>\n",
       "      <td>0.5</td>\n",
       "    </tr>\n",
       "  </tbody>\n",
       "</table>\n",
       "</div>"
      ],
      "text/plain": [
       "    year importer exporter reporter_type  quantity\n",
       "41  2016       TZ       ZA             E       0.5\n",
       "43  2016       TZ       ZA             E       0.5\n",
       "44  2016       TZ       ZA             E       0.5\n",
       "46  2016       TZ       ZA             E       0.5"
      ]
     },
     "execution_count": 7,
     "metadata": {},
     "output_type": "execute_result"
    }
   ],
   "source": [
    "print('ZA SOUTH AFRICA')\n",
    "df[df['exporter']==\"ZA\"]"
   ]
  },
  {
   "cell_type": "code",
   "execution_count": 8,
   "metadata": {},
   "outputs": [
    {
     "name": "stdout",
     "output_type": "stream",
     "text": [
      "TZ TANZANIA, UNITED REPUBLIC OF\n"
     ]
    }
   ],
   "source": [
    "print('TZ TANZANIA, UNITED REPUBLIC OF')"
   ]
  },
  {
   "cell_type": "code",
   "execution_count": 9,
   "metadata": {},
   "outputs": [
    {
     "data": {
      "text/html": [
       "<div>\n",
       "<style>\n",
       "    .dataframe thead tr:only-child th {\n",
       "        text-align: right;\n",
       "    }\n",
       "\n",
       "    .dataframe thead th {\n",
       "        text-align: left;\n",
       "    }\n",
       "\n",
       "    .dataframe tbody tr th {\n",
       "        vertical-align: top;\n",
       "    }\n",
       "</style>\n",
       "<table border=\"1\" class=\"dataframe\">\n",
       "  <thead>\n",
       "    <tr style=\"text-align: right;\">\n",
       "      <th></th>\n",
       "      <th>year</th>\n",
       "      <th>importer</th>\n",
       "      <th>exporter</th>\n",
       "      <th>reporter_type</th>\n",
       "      <th>quantity</th>\n",
       "    </tr>\n",
       "  </thead>\n",
       "  <tbody>\n",
       "    <tr>\n",
       "      <th>41</th>\n",
       "      <td>2016</td>\n",
       "      <td>TZ</td>\n",
       "      <td>ZA</td>\n",
       "      <td>E</td>\n",
       "      <td>0.5</td>\n",
       "    </tr>\n",
       "    <tr>\n",
       "      <th>43</th>\n",
       "      <td>2016</td>\n",
       "      <td>TZ</td>\n",
       "      <td>ZA</td>\n",
       "      <td>E</td>\n",
       "      <td>0.5</td>\n",
       "    </tr>\n",
       "    <tr>\n",
       "      <th>44</th>\n",
       "      <td>2016</td>\n",
       "      <td>TZ</td>\n",
       "      <td>ZA</td>\n",
       "      <td>E</td>\n",
       "      <td>0.5</td>\n",
       "    </tr>\n",
       "    <tr>\n",
       "      <th>46</th>\n",
       "      <td>2016</td>\n",
       "      <td>TZ</td>\n",
       "      <td>ZA</td>\n",
       "      <td>E</td>\n",
       "      <td>0.5</td>\n",
       "    </tr>\n",
       "  </tbody>\n",
       "</table>\n",
       "</div>"
      ],
      "text/plain": [
       "    year importer exporter reporter_type  quantity\n",
       "41  2016       TZ       ZA             E       0.5\n",
       "43  2016       TZ       ZA             E       0.5\n",
       "44  2016       TZ       ZA             E       0.5\n",
       "46  2016       TZ       ZA             E       0.5"
      ]
     },
     "execution_count": 9,
     "metadata": {},
     "output_type": "execute_result"
    }
   ],
   "source": [
    "df[df['importer']==\"TZ\"]"
   ]
  },
  {
   "cell_type": "markdown",
   "metadata": {},
   "source": [
    "### Exporter exporting to the US"
   ]
  },
  {
   "cell_type": "code",
   "execution_count": 10,
   "metadata": {},
   "outputs": [
    {
     "data": {
      "text/html": [
       "<div>\n",
       "<style>\n",
       "    .dataframe thead tr:only-child th {\n",
       "        text-align: right;\n",
       "    }\n",
       "\n",
       "    .dataframe thead th {\n",
       "        text-align: left;\n",
       "    }\n",
       "\n",
       "    .dataframe tbody tr th {\n",
       "        vertical-align: top;\n",
       "    }\n",
       "</style>\n",
       "<table border=\"1\" class=\"dataframe\">\n",
       "  <thead>\n",
       "    <tr style=\"text-align: right;\">\n",
       "      <th></th>\n",
       "      <th>year</th>\n",
       "      <th>importer</th>\n",
       "      <th>exporter</th>\n",
       "      <th>reporter_type</th>\n",
       "      <th>quantity</th>\n",
       "    </tr>\n",
       "  </thead>\n",
       "  <tbody>\n",
       "    <tr>\n",
       "      <th>1</th>\n",
       "      <td>1999</td>\n",
       "      <td>US</td>\n",
       "      <td>LA</td>\n",
       "      <td>I</td>\n",
       "      <td>0.109</td>\n",
       "    </tr>\n",
       "    <tr>\n",
       "      <th>2</th>\n",
       "      <td>1999</td>\n",
       "      <td>US</td>\n",
       "      <td>LA</td>\n",
       "      <td>I</td>\n",
       "      <td>0.043</td>\n",
       "    </tr>\n",
       "    <tr>\n",
       "      <th>3</th>\n",
       "      <td>1999</td>\n",
       "      <td>US</td>\n",
       "      <td>LA</td>\n",
       "      <td>I</td>\n",
       "      <td>0.032</td>\n",
       "    </tr>\n",
       "    <tr>\n",
       "      <th>4</th>\n",
       "      <td>2001</td>\n",
       "      <td>US</td>\n",
       "      <td>LA</td>\n",
       "      <td>I</td>\n",
       "      <td>0.022</td>\n",
       "    </tr>\n",
       "    <tr>\n",
       "      <th>5</th>\n",
       "      <td>2001</td>\n",
       "      <td>US</td>\n",
       "      <td>LA</td>\n",
       "      <td>I</td>\n",
       "      <td>0.020</td>\n",
       "    </tr>\n",
       "    <tr>\n",
       "      <th>6</th>\n",
       "      <td>2001</td>\n",
       "      <td>US</td>\n",
       "      <td>LA</td>\n",
       "      <td>I</td>\n",
       "      <td>0.019</td>\n",
       "    </tr>\n",
       "    <tr>\n",
       "      <th>7</th>\n",
       "      <td>2002</td>\n",
       "      <td>US</td>\n",
       "      <td>VN</td>\n",
       "      <td>I</td>\n",
       "      <td>0.006</td>\n",
       "    </tr>\n",
       "    <tr>\n",
       "      <th>8</th>\n",
       "      <td>2002</td>\n",
       "      <td>US</td>\n",
       "      <td>VN</td>\n",
       "      <td>I</td>\n",
       "      <td>0.007</td>\n",
       "    </tr>\n",
       "    <tr>\n",
       "      <th>9</th>\n",
       "      <td>2006</td>\n",
       "      <td>US</td>\n",
       "      <td>TH</td>\n",
       "      <td>I</td>\n",
       "      <td>0.296</td>\n",
       "    </tr>\n",
       "    <tr>\n",
       "      <th>10</th>\n",
       "      <td>2008</td>\n",
       "      <td>US</td>\n",
       "      <td>LA</td>\n",
       "      <td>I</td>\n",
       "      <td>0.023</td>\n",
       "    </tr>\n",
       "    <tr>\n",
       "      <th>12</th>\n",
       "      <td>2009</td>\n",
       "      <td>US</td>\n",
       "      <td>TH</td>\n",
       "      <td>I</td>\n",
       "      <td>0.130</td>\n",
       "    </tr>\n",
       "    <tr>\n",
       "      <th>13</th>\n",
       "      <td>2011</td>\n",
       "      <td>US</td>\n",
       "      <td>TH</td>\n",
       "      <td>I</td>\n",
       "      <td>0.140</td>\n",
       "    </tr>\n",
       "    <tr>\n",
       "      <th>22</th>\n",
       "      <td>2000</td>\n",
       "      <td>US</td>\n",
       "      <td>LA</td>\n",
       "      <td>I</td>\n",
       "      <td>0.029</td>\n",
       "    </tr>\n",
       "    <tr>\n",
       "      <th>23</th>\n",
       "      <td>2001</td>\n",
       "      <td>US</td>\n",
       "      <td>LA</td>\n",
       "      <td>I</td>\n",
       "      <td>0.002</td>\n",
       "    </tr>\n",
       "    <tr>\n",
       "      <th>24</th>\n",
       "      <td>2001</td>\n",
       "      <td>US</td>\n",
       "      <td>LA</td>\n",
       "      <td>I</td>\n",
       "      <td>0.351</td>\n",
       "    </tr>\n",
       "    <tr>\n",
       "      <th>25</th>\n",
       "      <td>2001</td>\n",
       "      <td>US</td>\n",
       "      <td>LA</td>\n",
       "      <td>I</td>\n",
       "      <td>0.289</td>\n",
       "    </tr>\n",
       "    <tr>\n",
       "      <th>26</th>\n",
       "      <td>2001</td>\n",
       "      <td>US</td>\n",
       "      <td>LA</td>\n",
       "      <td>I</td>\n",
       "      <td>0.014</td>\n",
       "    </tr>\n",
       "    <tr>\n",
       "      <th>28</th>\n",
       "      <td>2004</td>\n",
       "      <td>US</td>\n",
       "      <td>CN</td>\n",
       "      <td>I</td>\n",
       "      <td>2.045</td>\n",
       "    </tr>\n",
       "    <tr>\n",
       "      <th>30</th>\n",
       "      <td>2009</td>\n",
       "      <td>US</td>\n",
       "      <td>VN</td>\n",
       "      <td>I</td>\n",
       "      <td>0.409</td>\n",
       "    </tr>\n",
       "    <tr>\n",
       "      <th>34</th>\n",
       "      <td>2012</td>\n",
       "      <td>US</td>\n",
       "      <td>CN</td>\n",
       "      <td>I</td>\n",
       "      <td>0.454</td>\n",
       "    </tr>\n",
       "    <tr>\n",
       "      <th>35</th>\n",
       "      <td>2013</td>\n",
       "      <td>US</td>\n",
       "      <td>HK</td>\n",
       "      <td>I</td>\n",
       "      <td>0.737</td>\n",
       "    </tr>\n",
       "    <tr>\n",
       "      <th>36</th>\n",
       "      <td>2013</td>\n",
       "      <td>US</td>\n",
       "      <td>TH</td>\n",
       "      <td>I</td>\n",
       "      <td>0.025</td>\n",
       "    </tr>\n",
       "    <tr>\n",
       "      <th>61</th>\n",
       "      <td>2016</td>\n",
       "      <td>US</td>\n",
       "      <td>VN</td>\n",
       "      <td>I</td>\n",
       "      <td>0.454</td>\n",
       "    </tr>\n",
       "    <tr>\n",
       "      <th>80</th>\n",
       "      <td>2017</td>\n",
       "      <td>US</td>\n",
       "      <td>KH</td>\n",
       "      <td>I</td>\n",
       "      <td>1.000</td>\n",
       "    </tr>\n",
       "    <tr>\n",
       "      <th>8</th>\n",
       "      <td>1997</td>\n",
       "      <td>US</td>\n",
       "      <td>CN</td>\n",
       "      <td>E</td>\n",
       "      <td>500.000</td>\n",
       "    </tr>\n",
       "  </tbody>\n",
       "</table>\n",
       "</div>"
      ],
      "text/plain": [
       "    year importer exporter reporter_type  quantity\n",
       "1   1999       US       LA             I     0.109\n",
       "2   1999       US       LA             I     0.043\n",
       "3   1999       US       LA             I     0.032\n",
       "4   2001       US       LA             I     0.022\n",
       "5   2001       US       LA             I     0.020\n",
       "6   2001       US       LA             I     0.019\n",
       "7   2002       US       VN             I     0.006\n",
       "8   2002       US       VN             I     0.007\n",
       "9   2006       US       TH             I     0.296\n",
       "10  2008       US       LA             I     0.023\n",
       "12  2009       US       TH             I     0.130\n",
       "13  2011       US       TH             I     0.140\n",
       "22  2000       US       LA             I     0.029\n",
       "23  2001       US       LA             I     0.002\n",
       "24  2001       US       LA             I     0.351\n",
       "25  2001       US       LA             I     0.289\n",
       "26  2001       US       LA             I     0.014\n",
       "28  2004       US       CN             I     2.045\n",
       "30  2009       US       VN             I     0.409\n",
       "34  2012       US       CN             I     0.454\n",
       "35  2013       US       HK             I     0.737\n",
       "36  2013       US       TH             I     0.025\n",
       "61  2016       US       VN             I     0.454\n",
       "80  2017       US       KH             I     1.000\n",
       "8   1997       US       CN             E   500.000"
      ]
     },
     "execution_count": 10,
     "metadata": {},
     "output_type": "execute_result"
    }
   ],
   "source": [
    "df[df['importer']==\"US\"]"
   ]
  },
  {
   "cell_type": "code",
   "execution_count": 7,
   "metadata": {
    "collapsed": true
   },
   "outputs": [],
   "source": [
    "df_before_2014 = df[df['year'] < 2014]\n",
    "df_after_2014 = df[df['year'] > 2013]"
   ]
  },
  {
   "cell_type": "code",
   "execution_count": 14,
   "metadata": {},
   "outputs": [
    {
     "name": "stdout",
     "output_type": "stream",
     "text": [
      "76\n",
      "43450.8542\n"
     ]
    },
    {
     "data": {
      "text/plain": [
       "exporter\n",
       "CN      502.4990\n",
       "GA        0.1400\n",
       "HK     1600.7370\n",
       "LA        0.9530\n",
       "MY    18930.0000\n",
       "NZ        0.0122\n",
       "SG    21454.5000\n",
       "TG      385.0000\n",
       "TH        0.5910\n",
       "UG      210.0000\n",
       "VN        0.4220\n",
       "XX      366.0000\n",
       "Name: quantity, dtype: float64"
      ]
     },
     "execution_count": 14,
     "metadata": {},
     "output_type": "execute_result"
    }
   ],
   "source": [
    "print(len(df_before_2014))\n",
    "print(df_before_2014['quantity'].sum())\n",
    "df_before_2014.groupby('exporter')['quantity'].sum()"
   ]
  },
  {
   "cell_type": "code",
   "execution_count": 15,
   "metadata": {},
   "outputs": [
    {
     "name": "stdout",
     "output_type": "stream",
     "text": [
      "34093.566\n"
     ]
    },
    {
     "data": {
      "text/plain": [
       "exporter\n",
       "BI    14226.700\n",
       "CD     1700.000\n",
       "CG     6500.000\n",
       "CI        0.050\n",
       "HK       55.482\n",
       "KH        1.000\n",
       "NL        0.880\n",
       "UG    11607.000\n",
       "VN        0.454\n",
       "ZA        2.000\n",
       "Name: quantity, dtype: float64"
      ]
     },
     "execution_count": 15,
     "metadata": {},
     "output_type": "execute_result"
    }
   ],
   "source": [
    "len(df_after_2014)\n",
    "print(df_after_2014['quantity'].sum())\n",
    "df_after_2014.groupby('exporter')['quantity'].sum()"
   ]
  },
  {
   "cell_type": "code",
   "execution_count": 24,
   "metadata": {},
   "outputs": [
    {
     "data": {
      "text/plain": [
       "year\n",
       "1994     8000.0000\n",
       "1996    26130.0000\n",
       "1997      866.0000\n",
       "1998     2054.5000\n",
       "1999        0.1840\n",
       "2000      700.0290\n",
       "2001        0.7170\n",
       "2002        0.0130\n",
       "2004        2.0450\n",
       "2006        0.2960\n",
       "2008        0.0352\n",
       "2009     1000.5390\n",
       "2010     2500.0000\n",
       "2011       50.1400\n",
       "2012     1805.5940\n",
       "2013      340.7620\n",
       "2014     7258.0000\n",
       "2015     1977.8820\n",
       "2016    12122.4940\n",
       "2017    12735.1900\n",
       "Name: quantity, dtype: float64"
      ]
     },
     "execution_count": 24,
     "metadata": {},
     "output_type": "execute_result"
    }
   ],
   "source": [
    "df.groupby('year')['quantity'].sum()"
   ]
  },
  {
   "cell_type": "code",
   "execution_count": null,
   "metadata": {
    "collapsed": true
   },
   "outputs": [],
   "source": []
  },
  {
   "cell_type": "code",
   "execution_count": 28,
   "metadata": {},
   "outputs": [
    {
     "data": {
      "text/plain": [
       "77544.4202"
      ]
     },
     "execution_count": 28,
     "metadata": {},
     "output_type": "execute_result"
    }
   ],
   "source": [
    "#background suuport\n",
    "df['quantity'].sum()"
   ]
  },
  {
   "cell_type": "code",
   "execution_count": 26,
   "metadata": {},
   "outputs": [
    {
     "data": {
      "text/plain": [
       "importer\n",
       "AU        0.0122\n",
       "CH        0.8800\n",
       "CN    38339.0000\n",
       "DE        0.0500\n",
       "GB        0.1400\n",
       "HK    18671.2000\n",
       "KR      366.0000\n",
       "LA       99.0000\n",
       "MY       99.0000\n",
       "SG    18930.0000\n",
       "TH      265.0000\n",
       "TZ        2.0000\n",
       "US      506.6560\n",
       "VN      210.0000\n",
       "ZA       55.4820\n",
       "Name: quantity, dtype: float64"
      ]
     },
     "execution_count": 26,
     "metadata": {},
     "output_type": "execute_result"
    }
   ],
   "source": [
    "df.groupby('importer')['quantity'].sum()"
   ]
  },
  {
   "cell_type": "code",
   "execution_count": 29,
   "metadata": {},
   "outputs": [
    {
     "data": {
      "text/plain": [
       "0.4944133942986139"
      ]
     },
     "execution_count": 29,
     "metadata": {},
     "output_type": "execute_result"
    }
   ],
   "source": [
    "38339 / 77544.4202"
   ]
  },
  {
   "cell_type": "code",
   "execution_count": 30,
   "metadata": {},
   "outputs": [
    {
     "data": {
      "text/plain": [
       "exporter\n",
       "BI    14226.7000\n",
       "CD     1700.0000\n",
       "CG     6500.0000\n",
       "CI        0.0500\n",
       "CN      502.4990\n",
       "GA        0.1400\n",
       "HK     1656.2190\n",
       "KH        1.0000\n",
       "LA        0.9530\n",
       "MY    18930.0000\n",
       "NL        0.8800\n",
       "NZ        0.0122\n",
       "SG    21454.5000\n",
       "TG      385.0000\n",
       "TH        0.5910\n",
       "UG    11817.0000\n",
       "VN        0.8760\n",
       "XX      366.0000\n",
       "ZA        2.0000\n",
       "Name: quantity, dtype: float64"
      ]
     },
     "execution_count": 30,
     "metadata": {},
     "output_type": "execute_result"
    }
   ],
   "source": [
    "df.groupby('exporter')['quantity'].sum()"
   ]
  },
  {
   "cell_type": "code",
   "execution_count": 32,
   "metadata": {},
   "outputs": [
    {
     "data": {
      "text/plain": [
       "21454.5"
      ]
     },
     "execution_count": 32,
     "metadata": {},
     "output_type": "execute_result"
    }
   ],
   "source": [
    "df[df['exporter'] == 'SG']['quantity'].sum()"
   ]
  },
  {
   "cell_type": "code",
   "execution_count": 37,
   "metadata": {
    "collapsed": true
   },
   "outputs": [],
   "source": [
    "importers = df.groupby('importer')['quantity'].sum()\n",
    "exporters = df.groupby('exporter')['quantity'].sum()"
   ]
  },
  {
   "cell_type": "code",
   "execution_count": 43,
   "metadata": {
    "collapsed": true
   },
   "outputs": [],
   "source": [
    "net = pd.concat([importers, exporters], axis=1).fillna(0)\n",
    "net.columns = ['import', 'export']\n",
    "net['net'] = net['import'] - net['export']"
   ]
  },
  {
   "cell_type": "code",
   "execution_count": 45,
   "metadata": {},
   "outputs": [
    {
     "data": {
      "text/html": [
       "<div>\n",
       "<style>\n",
       "    .dataframe thead tr:only-child th {\n",
       "        text-align: right;\n",
       "    }\n",
       "\n",
       "    .dataframe thead th {\n",
       "        text-align: left;\n",
       "    }\n",
       "\n",
       "    .dataframe tbody tr th {\n",
       "        vertical-align: top;\n",
       "    }\n",
       "</style>\n",
       "<table border=\"1\" class=\"dataframe\">\n",
       "  <thead>\n",
       "    <tr style=\"text-align: right;\">\n",
       "      <th></th>\n",
       "      <th>import</th>\n",
       "      <th>export</th>\n",
       "      <th>net</th>\n",
       "    </tr>\n",
       "  </thead>\n",
       "  <tbody>\n",
       "    <tr>\n",
       "      <th>MY</th>\n",
       "      <td>99.0000</td>\n",
       "      <td>18930.0000</td>\n",
       "      <td>-18831.0000</td>\n",
       "    </tr>\n",
       "    <tr>\n",
       "      <th>BI</th>\n",
       "      <td>0.0000</td>\n",
       "      <td>14226.7000</td>\n",
       "      <td>-14226.7000</td>\n",
       "    </tr>\n",
       "    <tr>\n",
       "      <th>UG</th>\n",
       "      <td>0.0000</td>\n",
       "      <td>11817.0000</td>\n",
       "      <td>-11817.0000</td>\n",
       "    </tr>\n",
       "    <tr>\n",
       "      <th>CG</th>\n",
       "      <td>0.0000</td>\n",
       "      <td>6500.0000</td>\n",
       "      <td>-6500.0000</td>\n",
       "    </tr>\n",
       "    <tr>\n",
       "      <th>SG</th>\n",
       "      <td>18930.0000</td>\n",
       "      <td>21454.5000</td>\n",
       "      <td>-2524.5000</td>\n",
       "    </tr>\n",
       "    <tr>\n",
       "      <th>CD</th>\n",
       "      <td>0.0000</td>\n",
       "      <td>1700.0000</td>\n",
       "      <td>-1700.0000</td>\n",
       "    </tr>\n",
       "    <tr>\n",
       "      <th>TG</th>\n",
       "      <td>0.0000</td>\n",
       "      <td>385.0000</td>\n",
       "      <td>-385.0000</td>\n",
       "    </tr>\n",
       "    <tr>\n",
       "      <th>XX</th>\n",
       "      <td>0.0000</td>\n",
       "      <td>366.0000</td>\n",
       "      <td>-366.0000</td>\n",
       "    </tr>\n",
       "    <tr>\n",
       "      <th>KH</th>\n",
       "      <td>0.0000</td>\n",
       "      <td>1.0000</td>\n",
       "      <td>-1.0000</td>\n",
       "    </tr>\n",
       "    <tr>\n",
       "      <th>NL</th>\n",
       "      <td>0.0000</td>\n",
       "      <td>0.8800</td>\n",
       "      <td>-0.8800</td>\n",
       "    </tr>\n",
       "    <tr>\n",
       "      <th>GA</th>\n",
       "      <td>0.0000</td>\n",
       "      <td>0.1400</td>\n",
       "      <td>-0.1400</td>\n",
       "    </tr>\n",
       "    <tr>\n",
       "      <th>CI</th>\n",
       "      <td>0.0000</td>\n",
       "      <td>0.0500</td>\n",
       "      <td>-0.0500</td>\n",
       "    </tr>\n",
       "    <tr>\n",
       "      <th>NZ</th>\n",
       "      <td>0.0000</td>\n",
       "      <td>0.0122</td>\n",
       "      <td>-0.0122</td>\n",
       "    </tr>\n",
       "    <tr>\n",
       "      <th>AU</th>\n",
       "      <td>0.0122</td>\n",
       "      <td>0.0000</td>\n",
       "      <td>0.0122</td>\n",
       "    </tr>\n",
       "    <tr>\n",
       "      <th>DE</th>\n",
       "      <td>0.0500</td>\n",
       "      <td>0.0000</td>\n",
       "      <td>0.0500</td>\n",
       "    </tr>\n",
       "    <tr>\n",
       "      <th>GB</th>\n",
       "      <td>0.1400</td>\n",
       "      <td>0.0000</td>\n",
       "      <td>0.1400</td>\n",
       "    </tr>\n",
       "    <tr>\n",
       "      <th>CH</th>\n",
       "      <td>0.8800</td>\n",
       "      <td>0.0000</td>\n",
       "      <td>0.8800</td>\n",
       "    </tr>\n",
       "    <tr>\n",
       "      <th>TZ</th>\n",
       "      <td>2.0000</td>\n",
       "      <td>0.0000</td>\n",
       "      <td>2.0000</td>\n",
       "    </tr>\n",
       "    <tr>\n",
       "      <th>ZA</th>\n",
       "      <td>55.4820</td>\n",
       "      <td>2.0000</td>\n",
       "      <td>53.4820</td>\n",
       "    </tr>\n",
       "    <tr>\n",
       "      <th>LA</th>\n",
       "      <td>99.0000</td>\n",
       "      <td>0.9530</td>\n",
       "      <td>98.0470</td>\n",
       "    </tr>\n",
       "    <tr>\n",
       "      <th>VN</th>\n",
       "      <td>210.0000</td>\n",
       "      <td>0.8760</td>\n",
       "      <td>209.1240</td>\n",
       "    </tr>\n",
       "    <tr>\n",
       "      <th>TH</th>\n",
       "      <td>265.0000</td>\n",
       "      <td>0.5910</td>\n",
       "      <td>264.4090</td>\n",
       "    </tr>\n",
       "    <tr>\n",
       "      <th>KR</th>\n",
       "      <td>366.0000</td>\n",
       "      <td>0.0000</td>\n",
       "      <td>366.0000</td>\n",
       "    </tr>\n",
       "    <tr>\n",
       "      <th>US</th>\n",
       "      <td>506.6560</td>\n",
       "      <td>0.0000</td>\n",
       "      <td>506.6560</td>\n",
       "    </tr>\n",
       "    <tr>\n",
       "      <th>HK</th>\n",
       "      <td>18671.2000</td>\n",
       "      <td>1656.2190</td>\n",
       "      <td>17014.9810</td>\n",
       "    </tr>\n",
       "    <tr>\n",
       "      <th>CN</th>\n",
       "      <td>38339.0000</td>\n",
       "      <td>502.4990</td>\n",
       "      <td>37836.5010</td>\n",
       "    </tr>\n",
       "  </tbody>\n",
       "</table>\n",
       "</div>"
      ],
      "text/plain": [
       "        import      export         net\n",
       "MY     99.0000  18930.0000 -18831.0000\n",
       "BI      0.0000  14226.7000 -14226.7000\n",
       "UG      0.0000  11817.0000 -11817.0000\n",
       "CG      0.0000   6500.0000  -6500.0000\n",
       "SG  18930.0000  21454.5000  -2524.5000\n",
       "CD      0.0000   1700.0000  -1700.0000\n",
       "TG      0.0000    385.0000   -385.0000\n",
       "XX      0.0000    366.0000   -366.0000\n",
       "KH      0.0000      1.0000     -1.0000\n",
       "NL      0.0000      0.8800     -0.8800\n",
       "GA      0.0000      0.1400     -0.1400\n",
       "CI      0.0000      0.0500     -0.0500\n",
       "NZ      0.0000      0.0122     -0.0122\n",
       "AU      0.0122      0.0000      0.0122\n",
       "DE      0.0500      0.0000      0.0500\n",
       "GB      0.1400      0.0000      0.1400\n",
       "CH      0.8800      0.0000      0.8800\n",
       "TZ      2.0000      0.0000      2.0000\n",
       "ZA     55.4820      2.0000     53.4820\n",
       "LA     99.0000      0.9530     98.0470\n",
       "VN    210.0000      0.8760    209.1240\n",
       "TH    265.0000      0.5910    264.4090\n",
       "KR    366.0000      0.0000    366.0000\n",
       "US    506.6560      0.0000    506.6560\n",
       "HK  18671.2000   1656.2190  17014.9810\n",
       "CN  38339.0000    502.4990  37836.5010"
      ]
     },
     "execution_count": 45,
     "metadata": {},
     "output_type": "execute_result"
    }
   ],
   "source": [
    "net.sort_values(by='net')"
   ]
  },
  {
   "cell_type": "code",
   "execution_count": 60,
   "metadata": {},
   "outputs": [
    {
     "data": {
      "text/plain": [
       "MY   -18831.0\n",
       "BI   -14226.7\n",
       "UG   -11817.0\n",
       "CG    -6500.0\n",
       "SG    -2524.5\n",
       "CD    -1700.0\n",
       "Name: net, dtype: float64"
      ]
     },
     "execution_count": 60,
     "metadata": {},
     "output_type": "execute_result"
    }
   ],
   "source": [
    "net.sort_values(by='net')['net'][:6]"
   ]
  },
  {
   "cell_type": "code",
   "execution_count": 59,
   "metadata": {},
   "outputs": [
    {
     "data": {
      "text/plain": [
       "MY   -18831.0000\n",
       "BI   -14226.7000\n",
       "UG   -11817.0000\n",
       "CG    -6500.0000\n",
       "SG    -2524.5000\n",
       "CD    -1700.0000\n",
       "TG     -385.0000\n",
       "XX     -366.0000\n",
       "KH       -1.0000\n",
       "NL       -0.8800\n",
       "GA       -0.1400\n",
       "CI       -0.0500\n",
       "NZ       -0.0122\n",
       "AU        0.0122\n",
       "DE        0.0500\n",
       "GB        0.1400\n",
       "CH        0.8800\n",
       "TZ        2.0000\n",
       "ZA       53.4820\n",
       "LA       98.0470\n",
       "VN      209.1240\n",
       "TH      264.4090\n",
       "KR      366.0000\n",
       "US      506.6560\n",
       "HK    17014.9810\n",
       "CN    37836.5010\n",
       "Name: net, dtype: float64"
      ]
     },
     "execution_count": 59,
     "metadata": {},
     "output_type": "execute_result"
    }
   ],
   "source": [
    "net.sort_values(by='net')['net']"
   ]
  },
  {
   "cell_type": "code",
   "execution_count": null,
   "metadata": {
    "collapsed": true
   },
   "outputs": [],
   "source": []
  }
 ],
 "metadata": {
  "kernelspec": {
   "display_name": "Python 3",
   "language": "python",
   "name": "python3"
  },
  "language_info": {
   "codemirror_mode": {
    "name": "ipython",
    "version": 3
   },
   "file_extension": ".py",
   "mimetype": "text/x-python",
   "name": "python",
   "nbconvert_exporter": "python",
   "pygments_lexer": "ipython3",
   "version": "3.6.1"
  }
 },
 "nbformat": 4,
 "nbformat_minor": 2
}
