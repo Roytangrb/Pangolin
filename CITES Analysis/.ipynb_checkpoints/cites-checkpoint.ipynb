{
 "cells": [
  {
   "cell_type": "markdown",
   "metadata": {},
   "source": [
    "# CITES Data Analysis"
   ]
  },
  {
   "cell_type": "code",
   "execution_count": 1,
   "metadata": {
    "collapsed": true
   },
   "outputs": [],
   "source": [
    "import numpy as np\n",
    "import pandas as pd"
   ]
  },
  {
   "cell_type": "code",
   "execution_count": 12,
   "metadata": {},
   "outputs": [
    {
     "name": "stdout",
     "output_type": "stream",
     "text": [
      "../gitignore/CITES/Trade_database_download_v2019.2/trade_db_2.csv\n",
      "../gitignore/CITES/Trade_database_download_v2019.2/trade_db_3.csv\n",
      "../gitignore/CITES/Trade_database_download_v2019.2/trade_db_4.csv\n"
     ]
    },
    {
     "name": "stderr",
     "output_type": "stream",
     "text": [
      "/Users/tangruibin/anaconda3/lib/python3.6/site-packages/IPython/core/interactiveshell.py:2717: DtypeWarning: Columns (8) have mixed types. Specify dtype option on import or set low_memory=False.\n",
      "  interactivity=interactivity, compiler=compiler, result=result)\n"
     ]
    },
    {
     "name": "stdout",
     "output_type": "stream",
     "text": [
      "../gitignore/CITES/Trade_database_download_v2019.2/trade_db_5.csv\n",
      "../gitignore/CITES/Trade_database_download_v2019.2/trade_db_6.csv\n",
      "../gitignore/CITES/Trade_database_download_v2019.2/trade_db_7.csv\n",
      "../gitignore/CITES/Trade_database_download_v2019.2/trade_db_8.csv\n",
      "../gitignore/CITES/Trade_database_download_v2019.2/trade_db_9.csv\n",
      "../gitignore/CITES/Trade_database_download_v2019.2/trade_db_10.csv\n",
      "../gitignore/CITES/Trade_database_download_v2019.2/trade_db_11.csv\n"
     ]
    },
    {
     "name": "stderr",
     "output_type": "stream",
     "text": [
      "/Users/tangruibin/anaconda3/lib/python3.6/site-packages/IPython/core/interactiveshell.py:2717: DtypeWarning: Columns (16) have mixed types. Specify dtype option on import or set low_memory=False.\n",
      "  interactivity=interactivity, compiler=compiler, result=result)\n"
     ]
    },
    {
     "name": "stdout",
     "output_type": "stream",
     "text": [
      "../gitignore/CITES/Trade_database_download_v2019.2/trade_db_12.csv\n",
      "../gitignore/CITES/Trade_database_download_v2019.2/trade_db_13.csv\n",
      "../gitignore/CITES/Trade_database_download_v2019.2/trade_db_14.csv\n",
      "../gitignore/CITES/Trade_database_download_v2019.2/trade_db_15.csv\n"
     ]
    },
    {
     "name": "stderr",
     "output_type": "stream",
     "text": [
      "/Users/tangruibin/anaconda3/lib/python3.6/site-packages/IPython/core/interactiveshell.py:2717: DtypeWarning: Columns (0,8) have mixed types. Specify dtype option on import or set low_memory=False.\n",
      "  interactivity=interactivity, compiler=compiler, result=result)\n"
     ]
    },
    {
     "name": "stdout",
     "output_type": "stream",
     "text": [
      "../gitignore/CITES/Trade_database_download_v2019.2/trade_db_16.csv\n",
      "../gitignore/CITES/Trade_database_download_v2019.2/trade_db_17.csv\n",
      "../gitignore/CITES/Trade_database_download_v2019.2/trade_db_18.csv\n",
      "../gitignore/CITES/Trade_database_download_v2019.2/trade_db_19.csv\n",
      "../gitignore/CITES/Trade_database_download_v2019.2/trade_db_20.csv\n",
      "../gitignore/CITES/Trade_database_download_v2019.2/trade_db_21.csv\n",
      "../gitignore/CITES/Trade_database_download_v2019.2/trade_db_22.csv\n",
      "../gitignore/CITES/Trade_database_download_v2019.2/trade_db_23.csv\n"
     ]
    },
    {
     "name": "stderr",
     "output_type": "stream",
     "text": [
      "/Users/tangruibin/anaconda3/lib/python3.6/site-packages/IPython/core/interactiveshell.py:2717: DtypeWarning: Columns (9,16) have mixed types. Specify dtype option on import or set low_memory=False.\n",
      "  interactivity=interactivity, compiler=compiler, result=result)\n"
     ]
    },
    {
     "name": "stdout",
     "output_type": "stream",
     "text": [
      "../gitignore/CITES/Trade_database_download_v2019.2/trade_db_24.csv\n",
      "../gitignore/CITES/Trade_database_download_v2019.2/trade_db_25.csv\n",
      "../gitignore/CITES/Trade_database_download_v2019.2/trade_db_26.csv\n",
      "../gitignore/CITES/Trade_database_download_v2019.2/trade_db_27.csv\n",
      "../gitignore/CITES/Trade_database_download_v2019.2/trade_db_28.csv\n",
      "../gitignore/CITES/Trade_database_download_v2019.2/trade_db_29.csv\n",
      "../gitignore/CITES/Trade_database_download_v2019.2/trade_db_30.csv\n",
      "../gitignore/CITES/Trade_database_download_v2019.2/trade_db_31.csv\n",
      "../gitignore/CITES/Trade_database_download_v2019.2/trade_db_32.csv\n",
      "../gitignore/CITES/Trade_database_download_v2019.2/trade_db_33.csv\n",
      "../gitignore/CITES/Trade_database_download_v2019.2/trade_db_34.csv\n",
      "../gitignore/CITES/Trade_database_download_v2019.2/trade_db_35.csv\n",
      "../gitignore/CITES/Trade_database_download_v2019.2/trade_db_36.csv\n",
      "../gitignore/CITES/Trade_database_download_v2019.2/trade_db_37.csv\n",
      "../gitignore/CITES/Trade_database_download_v2019.2/trade_db_38.csv\n",
      "../gitignore/CITES/Trade_database_download_v2019.2/trade_db_39.csv\n",
      "../gitignore/CITES/Trade_database_download_v2019.2/trade_db_40.csv\n",
      "../gitignore/CITES/Trade_database_download_v2019.2/trade_db_41.csv\n"
     ]
    }
   ],
   "source": [
    "df = pd.read_csv(\"../gitignore/CITES/Trade_database_download_v2019.2/trade_db_1.csv\")\n",
    "for i in range(2, 42, 1):\n",
    "    db_path = \"../gitignore/CITES/Trade_database_download_v2019.2/trade_db_{}.csv\".format(i)\n",
    "    print(db_path)\n",
    "    part = pd.read_csv(db_path)\n",
    "    df = df.append(part)"
   ]
  },
  {
   "cell_type": "code",
   "execution_count": 2,
   "metadata": {
    "scrolled": true
   },
   "outputs": [],
   "source": [
    "#df.to_csv('../gitignore/CITES/Trade_database_download_v2019.2/trade_db_all.csv')"
   ]
  },
  {
   "cell_type": "markdown",
   "metadata": {},
   "source": [
    "### Find Mixed Values (db_4, _11, _15, _23)\n",
    "* Column(8) is Quantity, read as float8 in Postgres, others are all read in as text *\n",
    " - db_4 quantity one error row\n",
    " - db_11 error in Column(16): Import.permit.RandomID, can be omitted \n",
    " - db_15 two error rows in year column\n",
    " - db_11 error in Column(9): Unit, Column(16): Import.permit.RandomID, can be omitted "
   ]
  },
  {
   "cell_type": "code",
   "execution_count": 6,
   "metadata": {},
   "outputs": [
    {
     "name": "stderr",
     "output_type": "stream",
     "text": [
      "/Users/tangruibin/anaconda3/lib/python3.6/site-packages/IPython/core/interactiveshell.py:2717: DtypeWarning: Columns (8) have mixed types. Specify dtype option on import or set low_memory=False.\n",
      "  interactivity=interactivity, compiler=compiler, result=result)\n"
     ]
    }
   ],
   "source": [
    "df4 = pd.read_csv(\"../gitignore/CITES/Trade_database_download_v2019.2/trade_db_4.csv\")"
   ]
  },
  {
   "cell_type": "code",
   "execution_count": 10,
   "metadata": {
    "scrolled": true
   },
   "outputs": [
    {
     "data": {
      "text/html": [
       "<div>\n",
       "<style>\n",
       "    .dataframe thead tr:only-child th {\n",
       "        text-align: right;\n",
       "    }\n",
       "\n",
       "    .dataframe thead th {\n",
       "        text-align: left;\n",
       "    }\n",
       "\n",
       "    .dataframe tbody tr th {\n",
       "        vertical-align: top;\n",
       "    }\n",
       "</style>\n",
       "<table border=\"1\" class=\"dataframe\">\n",
       "  <thead>\n",
       "    <tr style=\"text-align: right;\">\n",
       "      <th></th>\n",
       "      <th>Year</th>\n",
       "      <th>Appendix</th>\n",
       "      <th>Taxon</th>\n",
       "      <th>Class</th>\n",
       "      <th>Order</th>\n",
       "      <th>Family</th>\n",
       "      <th>Genus</th>\n",
       "      <th>Term</th>\n",
       "      <th>Quantity</th>\n",
       "      <th>Unit</th>\n",
       "      <th>Importer</th>\n",
       "      <th>Exporter</th>\n",
       "      <th>Origin</th>\n",
       "      <th>Purpose</th>\n",
       "      <th>Source</th>\n",
       "      <th>Reporter.type</th>\n",
       "      <th>Import.permit.RandomID</th>\n",
       "      <th>Export.permit.RandomID</th>\n",
       "      <th>Origin.permit.RandomID</th>\n",
       "    </tr>\n",
       "  </thead>\n",
       "  <tbody>\n",
       "    <tr>\n",
       "      <th>111614</th>\n",
       "      <td>10745</td>\n",
       "      <td>Reptilia</td>\n",
       "      <td>Crocodylia</td>\n",
       "      <td>Crocodylus</td>\n",
       "      <td>Crocodylus niloticus</td>\n",
       "      <td>10745</td>\n",
       "      <td>leather products (large)</td>\n",
       "      <td>JP</td>\n",
       "      <td>DE</td>\n",
       "      <td>ID</td>\n",
       "      <td>T</td>\n",
       "      <td>C</td>\n",
       "      <td>I</td>\n",
       "      <td>NaN</td>\n",
       "      <td>W-1341/00</td>\n",
       "      <td>NaN</td>\n",
       "      <td>6a17ce56a1</td>\n",
       "      <td>NaN</td>\n",
       "      <td>NaN</td>\n",
       "    </tr>\n",
       "  </tbody>\n",
       "</table>\n",
       "</div>"
      ],
      "text/plain": [
       "         Year  Appendix       Taxon       Class                 Order Family  \\\n",
       "111614  10745  Reptilia  Crocodylia  Crocodylus  Crocodylus niloticus  10745   \n",
       "\n",
       "                           Genus Term Quantity Unit Importer Exporter Origin  \\\n",
       "111614  leather products (large)   JP       DE   ID        T        C      I   \n",
       "\n",
       "       Purpose     Source Reporter.type Import.permit.RandomID  \\\n",
       "111614     NaN  W-1341/00           NaN             6a17ce56a1   \n",
       "\n",
       "       Export.permit.RandomID Origin.permit.RandomID  \n",
       "111614                    NaN                    NaN  "
      ]
     },
     "execution_count": 10,
     "metadata": {},
     "output_type": "execute_result"
    }
   ],
   "source": [
    "df4[pd.to_numeric(df4['Quantity'], errors='coerce').isnull()]"
   ]
  },
  {
   "cell_type": "code",
   "execution_count": 17,
   "metadata": {
    "scrolled": true
   },
   "outputs": [
    {
     "name": "stderr",
     "output_type": "stream",
     "text": [
      "/Users/tangruibin/anaconda3/lib/python3.6/site-packages/IPython/core/interactiveshell.py:2717: DtypeWarning: Columns (0,8) have mixed types. Specify dtype option on import or set low_memory=False.\n",
      "  interactivity=interactivity, compiler=compiler, result=result)\n"
     ]
    }
   ],
   "source": [
    "df15 = pd.read_csv(\"../gitignore/CITES/Trade_database_download_v2019.2/trade_db_15.csv\")"
   ]
  },
  {
   "cell_type": "code",
   "execution_count": 20,
   "metadata": {},
   "outputs": [
    {
     "data": {
      "text/html": [
       "<div>\n",
       "<style>\n",
       "    .dataframe thead tr:only-child th {\n",
       "        text-align: right;\n",
       "    }\n",
       "\n",
       "    .dataframe thead th {\n",
       "        text-align: left;\n",
       "    }\n",
       "\n",
       "    .dataframe tbody tr th {\n",
       "        vertical-align: top;\n",
       "    }\n",
       "</style>\n",
       "<table border=\"1\" class=\"dataframe\">\n",
       "  <thead>\n",
       "    <tr style=\"text-align: right;\">\n",
       "      <th></th>\n",
       "      <th>Year</th>\n",
       "      <th>Appendix</th>\n",
       "      <th>Taxon</th>\n",
       "      <th>Class</th>\n",
       "      <th>Order</th>\n",
       "      <th>Family</th>\n",
       "      <th>Genus</th>\n",
       "      <th>Term</th>\n",
       "      <th>Quantity</th>\n",
       "      <th>Unit</th>\n",
       "      <th>Importer</th>\n",
       "      <th>Exporter</th>\n",
       "      <th>Origin</th>\n",
       "      <th>Purpose</th>\n",
       "      <th>Source</th>\n",
       "      <th>Reporter.type</th>\n",
       "      <th>Import.permit.RandomID</th>\n",
       "      <th>Export.permit.RandomID</th>\n",
       "      <th>Origin.permit.RandomID</th>\n",
       "    </tr>\n",
       "  </thead>\n",
       "  <tbody>\n",
       "    <tr>\n",
       "      <th>139512</th>\n",
       "      <td>Mammalia</td>\n",
       "      <td>Primates</td>\n",
       "      <td>Cercopithecidae</td>\n",
       "      <td>Macaca fascicularis</td>\n",
       "      <td>3920</td>\n",
       "      <td>live</td>\n",
       "      <td>120</td>\n",
       "      <td>CN</td>\n",
       "      <td>NaN</td>\n",
       "      <td>T</td>\n",
       "      <td>C</td>\n",
       "      <td>E</td>\n",
       "      <td>NaN</td>\n",
       "      <td>EB98/0369</td>\n",
       "      <td>NaN</td>\n",
       "      <td>3751601</td>\n",
       "      <td>NaN</td>\n",
       "      <td>NaN</td>\n",
       "      <td>NaN</td>\n",
       "    </tr>\n",
       "    <tr>\n",
       "      <th>247356</th>\n",
       "      <td>Carnivora</td>\n",
       "      <td>Canidae</td>\n",
       "      <td>Lycalopex</td>\n",
       "      <td>36025</td>\n",
       "      <td>skins</td>\n",
       "      <td>1183</td>\n",
       "      <td>NaN</td>\n",
       "      <td>NaN</td>\n",
       "      <td>T</td>\n",
       "      <td>W</td>\n",
       "      <td>E</td>\n",
       "      <td>NaN</td>\n",
       "      <td>19611</td>\n",
       "      <td>NaN</td>\n",
       "      <td>3931454</td>\n",
       "      <td>NaN</td>\n",
       "      <td>NaN</td>\n",
       "      <td>NaN</td>\n",
       "      <td>NaN</td>\n",
       "    </tr>\n",
       "  </tbody>\n",
       "</table>\n",
       "</div>"
      ],
      "text/plain": [
       "             Year  Appendix            Taxon                Class  Order  \\\n",
       "139512   Mammalia  Primates  Cercopithecidae  Macaca fascicularis   3920   \n",
       "247356  Carnivora   Canidae        Lycalopex                36025  skins   \n",
       "\n",
       "       Family Genus Term Quantity Unit Importer Exporter Origin    Purpose  \\\n",
       "139512   live   120   CN      NaN    T        C        E    NaN  EB98/0369   \n",
       "247356   1183   NaN  NaN        T    W        E      NaN  19611        NaN   \n",
       "\n",
       "         Source Reporter.type Import.permit.RandomID Export.permit.RandomID  \\\n",
       "139512      NaN       3751601                    NaN                    NaN   \n",
       "247356  3931454           NaN                    NaN                    NaN   \n",
       "\n",
       "       Origin.permit.RandomID  \n",
       "139512                    NaN  \n",
       "247356                    NaN  "
      ]
     },
     "execution_count": 20,
     "metadata": {},
     "output_type": "execute_result"
    }
   ],
   "source": [
    "df15[pd.to_numeric(df15['Year'], errors='coerce').isnull()] #same results finding with quantity"
   ]
  },
  {
   "cell_type": "code",
   "execution_count": null,
   "metadata": {},
   "outputs": [],
   "source": []
  },
  {
   "cell_type": "code",
   "execution_count": null,
   "metadata": {},
   "outputs": [],
   "source": []
  },
  {
   "cell_type": "code",
   "execution_count": null,
   "metadata": {
    "collapsed": true
   },
   "outputs": [],
   "source": []
  }
 ],
 "metadata": {
  "kernelspec": {
   "display_name": "Python 3",
   "language": "python",
   "name": "python3"
  },
  "language_info": {
   "codemirror_mode": {
    "name": "ipython",
    "version": 3
   },
   "file_extension": ".py",
   "mimetype": "text/x-python",
   "name": "python",
   "nbconvert_exporter": "python",
   "pygments_lexer": "ipython3",
   "version": "3.6.1"
  }
 },
 "nbformat": 4,
 "nbformat_minor": 2
}
