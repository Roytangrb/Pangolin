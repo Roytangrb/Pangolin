{
 "cells": [
  {
   "cell_type": "markdown",
   "metadata": {},
   "source": [
    "## Preparing json for scales globe visualization (kg, scales, manis)"
   ]
  },
  {
   "cell_type": "code",
   "execution_count": 1,
   "metadata": {
    "collapsed": true
   },
   "outputs": [],
   "source": [
    "import numpy as np\n",
    "import pandas as pd"
   ]
  },
  {
   "cell_type": "code",
   "execution_count": 2,
   "metadata": {},
   "outputs": [
    {
     "data": {
      "text/html": [
       "<div>\n",
       "<style>\n",
       "    .dataframe thead tr:only-child th {\n",
       "        text-align: right;\n",
       "    }\n",
       "\n",
       "    .dataframe thead th {\n",
       "        text-align: left;\n",
       "    }\n",
       "\n",
       "    .dataframe tbody tr th {\n",
       "        vertical-align: top;\n",
       "    }\n",
       "</style>\n",
       "<table border=\"1\" class=\"dataframe\">\n",
       "  <thead>\n",
       "    <tr style=\"text-align: right;\">\n",
       "      <th></th>\n",
       "      <th>year</th>\n",
       "      <th>importer</th>\n",
       "      <th>exporter</th>\n",
       "      <th>reporter_type</th>\n",
       "      <th>quantity</th>\n",
       "    </tr>\n",
       "  </thead>\n",
       "  <tbody>\n",
       "    <tr>\n",
       "      <th>0</th>\n",
       "      <td>1997</td>\n",
       "      <td>KR</td>\n",
       "      <td>XX</td>\n",
       "      <td>I</td>\n",
       "      <td>366.000</td>\n",
       "    </tr>\n",
       "    <tr>\n",
       "      <th>1</th>\n",
       "      <td>1999</td>\n",
       "      <td>US</td>\n",
       "      <td>LA</td>\n",
       "      <td>I</td>\n",
       "      <td>0.109</td>\n",
       "    </tr>\n",
       "    <tr>\n",
       "      <th>2</th>\n",
       "      <td>1999</td>\n",
       "      <td>US</td>\n",
       "      <td>LA</td>\n",
       "      <td>I</td>\n",
       "      <td>0.043</td>\n",
       "    </tr>\n",
       "    <tr>\n",
       "      <th>3</th>\n",
       "      <td>1999</td>\n",
       "      <td>US</td>\n",
       "      <td>LA</td>\n",
       "      <td>I</td>\n",
       "      <td>0.032</td>\n",
       "    </tr>\n",
       "    <tr>\n",
       "      <th>4</th>\n",
       "      <td>2001</td>\n",
       "      <td>US</td>\n",
       "      <td>LA</td>\n",
       "      <td>I</td>\n",
       "      <td>0.022</td>\n",
       "    </tr>\n",
       "  </tbody>\n",
       "</table>\n",
       "</div>"
      ],
      "text/plain": [
       "   year importer exporter reporter_type  quantity\n",
       "0  1997       KR       XX             I   366.000\n",
       "1  1999       US       LA             I     0.109\n",
       "2  1999       US       LA             I     0.043\n",
       "3  1999       US       LA             I     0.032\n",
       "4  2001       US       LA             I     0.022"
      ]
     },
     "execution_count": 2,
     "metadata": {},
     "output_type": "execute_result"
    }
   ],
   "source": [
    "df_import = pd.read_csv('./subsets/df_scales_weight_import_kg.csv')\n",
    "df_export = pd.read_csv('./subsets/df_scales_weight_export_kg.csv')\n",
    "df_import.drop(['Unnamed: 0', 'appendix', 'taxon', 'class', 'ord', 'family', 'genus', 'term', 'origin', 'purpose', 'source', 'unit'], axis=1, inplace=True)\n",
    "df_export.drop(['Unnamed: 0', 'appendix', 'taxon', 'class', 'ord', 'family', 'genus', 'term', 'origin', 'purpose', 'source', 'unit'], axis=1, inplace=True)\n",
    "df_import.head()"
   ]
  },
  {
   "cell_type": "code",
   "execution_count": 3,
   "metadata": {
    "scrolled": true
   },
   "outputs": [
    {
     "data": {
      "text/html": [
       "<div>\n",
       "<style>\n",
       "    .dataframe thead tr:only-child th {\n",
       "        text-align: right;\n",
       "    }\n",
       "\n",
       "    .dataframe thead th {\n",
       "        text-align: left;\n",
       "    }\n",
       "\n",
       "    .dataframe tbody tr th {\n",
       "        vertical-align: top;\n",
       "    }\n",
       "</style>\n",
       "<table border=\"1\" class=\"dataframe\">\n",
       "  <thead>\n",
       "    <tr style=\"text-align: right;\">\n",
       "      <th></th>\n",
       "      <th>year</th>\n",
       "      <th>importer</th>\n",
       "      <th>exporter</th>\n",
       "      <th>reporter_type</th>\n",
       "      <th>quantity</th>\n",
       "    </tr>\n",
       "  </thead>\n",
       "  <tbody>\n",
       "    <tr>\n",
       "      <th>0</th>\n",
       "      <td>1997</td>\n",
       "      <td>KR</td>\n",
       "      <td>XX</td>\n",
       "      <td>I</td>\n",
       "      <td>366.0</td>\n",
       "    </tr>\n",
       "  </tbody>\n",
       "</table>\n",
       "</div>"
      ],
      "text/plain": [
       "   year importer exporter reporter_type  quantity\n",
       "0  1997       KR       XX             I     366.0"
      ]
     },
     "execution_count": 3,
     "metadata": {},
     "output_type": "execute_result"
    }
   ],
   "source": [
    "df = pd.concat([df_import, df_export], axis=0)\n",
    "df[(df['exporter']=='XX') | (df['importer']=='XX')]"
   ]
  },
  {
   "cell_type": "code",
   "execution_count": 4,
   "metadata": {},
   "outputs": [
    {
     "data": {
      "text/html": [
       "<div>\n",
       "<style>\n",
       "    .dataframe thead tr:only-child th {\n",
       "        text-align: right;\n",
       "    }\n",
       "\n",
       "    .dataframe thead th {\n",
       "        text-align: left;\n",
       "    }\n",
       "\n",
       "    .dataframe tbody tr th {\n",
       "        vertical-align: top;\n",
       "    }\n",
       "</style>\n",
       "<table border=\"1\" class=\"dataframe\">\n",
       "  <thead>\n",
       "    <tr style=\"text-align: right;\">\n",
       "      <th></th>\n",
       "      <th>year</th>\n",
       "      <th>importer</th>\n",
       "      <th>exporter</th>\n",
       "      <th>reporter_type</th>\n",
       "      <th>quantity</th>\n",
       "    </tr>\n",
       "  </thead>\n",
       "  <tbody>\n",
       "    <tr>\n",
       "      <th>1</th>\n",
       "      <td>1999</td>\n",
       "      <td>US</td>\n",
       "      <td>LA</td>\n",
       "      <td>I</td>\n",
       "      <td>0.109</td>\n",
       "    </tr>\n",
       "    <tr>\n",
       "      <th>2</th>\n",
       "      <td>1999</td>\n",
       "      <td>US</td>\n",
       "      <td>LA</td>\n",
       "      <td>I</td>\n",
       "      <td>0.043</td>\n",
       "    </tr>\n",
       "    <tr>\n",
       "      <th>3</th>\n",
       "      <td>1999</td>\n",
       "      <td>US</td>\n",
       "      <td>LA</td>\n",
       "      <td>I</td>\n",
       "      <td>0.032</td>\n",
       "    </tr>\n",
       "    <tr>\n",
       "      <th>4</th>\n",
       "      <td>2001</td>\n",
       "      <td>US</td>\n",
       "      <td>LA</td>\n",
       "      <td>I</td>\n",
       "      <td>0.022</td>\n",
       "    </tr>\n",
       "    <tr>\n",
       "      <th>5</th>\n",
       "      <td>2001</td>\n",
       "      <td>US</td>\n",
       "      <td>LA</td>\n",
       "      <td>I</td>\n",
       "      <td>0.020</td>\n",
       "    </tr>\n",
       "  </tbody>\n",
       "</table>\n",
       "</div>"
      ],
      "text/plain": [
       "   year importer exporter reporter_type  quantity\n",
       "1  1999       US       LA             I     0.109\n",
       "2  1999       US       LA             I     0.043\n",
       "3  1999       US       LA             I     0.032\n",
       "4  2001       US       LA             I     0.022\n",
       "5  2001       US       LA             I     0.020"
      ]
     },
     "execution_count": 4,
     "metadata": {},
     "output_type": "execute_result"
    }
   ],
   "source": [
    "df_import = df_import[(df_import['importer']!='XX') & (df_import['exporter']!='XX')]\n",
    "df_import.head()"
   ]
  },
  {
   "cell_type": "markdown",
   "metadata": {},
   "source": [
    "### countries"
   ]
  },
  {
   "cell_type": "code",
   "execution_count": 5,
   "metadata": {},
   "outputs": [
    {
     "data": {
      "text/plain": [
       "array(['AU', 'BI', 'CD', 'CG', 'CH', 'CI', 'CN', 'DE', 'GA', 'GB', 'HK',\n",
       "       'KH', 'KR', 'LA', 'MY', 'NL', 'NZ', 'SG', 'TG', 'TH', 'TZ', 'UG',\n",
       "       'US', 'VN', 'XX', 'ZA'], dtype=object)"
      ]
     },
     "execution_count": 5,
     "metadata": {},
     "output_type": "execute_result"
    }
   ],
   "source": [
    "np.unique(df[['importer', 'exporter']].values)"
   ]
  },
  {
   "cell_type": "code",
   "execution_count": 6,
   "metadata": {},
   "outputs": [
    {
     "data": {
      "text/plain": [
       "\"\\nAU AUSTRALIA\\nBI BURUNDI\\nCD CONGO, DEMOCRATIC REPUBLIC OF THE\\nCG CONGO\\nCH SWITZERLAND\\nCI CÔTE D'IVOIRE\\nCN CHINA\\nDE GERMANY\\nGA GABON\\nGB UNITED KINGDOM OF GREAT BRITAIN AND NORTHERN IRELAND\\nHK HONG KONG\\nKH CAMBODIA\\nKR KOREA, REPUBLIC OF\\nLA LAO PEOPLE'S DEMOCRATIC REPUBLIC\\nMY MALAYSIA\\nNL NETHERLANDS\\nNZ NEW ZEALAND\\nSG SINGAPORE\\nTG TOGO\\nTH THAILAND\\nTZ TANZANIA, UNITED REPUBLIC OF\\nUG UGANDA\\nUS UNITED STATES OF AMERICA\\nVN VIET NAM\\nZA SOUTH AFRICA\\n\""
      ]
     },
     "execution_count": 6,
     "metadata": {},
     "output_type": "execute_result"
    }
   ],
   "source": [
    "'''\n",
    "AU AUSTRALIA\n",
    "BI BURUNDI\n",
    "CD CONGO, DEMOCRATIC REPUBLIC OF THE\n",
    "CG CONGO\n",
    "CH SWITZERLAND\n",
    "CI CÔTE D'IVOIRE\n",
    "CN CHINA\n",
    "DE GERMANY\n",
    "GA GABON\n",
    "GB UNITED KINGDOM OF GREAT BRITAIN AND NORTHERN IRELAND\n",
    "HK HONG KONG\n",
    "KH CAMBODIA\n",
    "KR KOREA, REPUBLIC OF\n",
    "LA LAO PEOPLE'S DEMOCRATIC REPUBLIC\n",
    "MY MALAYSIA\n",
    "NL NETHERLANDS\n",
    "NZ NEW ZEALAND\n",
    "SG SINGAPORE\n",
    "TG TOGO\n",
    "TH THAILAND\n",
    "TZ TANZANIA, UNITED REPUBLIC OF\n",
    "UG UGANDA\n",
    "US UNITED STATES OF AMERICA\n",
    "VN VIET NAM\n",
    "ZA SOUTH AFRICA\n",
    "'''"
   ]
  },
  {
   "cell_type": "code",
   "execution_count": 7,
   "metadata": {
    "collapsed": true
   },
   "outputs": [],
   "source": [
    "countries = ['AU', 'BI', 'CD', 'CG', 'CH', 'CI', 'CN', 'DE', 'GA', 'GB', 'HK',\n",
    "       'KH', 'KR', 'LA', 'MY', 'NL', 'NZ', 'SG', 'TG', 'TH', 'TZ', 'UG',\n",
    "       'US', 'VN', 'ZA'] #'XX',\n",
    "#now is latlons\n",
    "lonlats = [\n",
    "    [-25.274398, 133.775136],\n",
    "    [-3.373056, 29.918886],\n",
    "    [-4.038333, 21.758664],\n",
    "    [-0.228021, 15.827659],\n",
    "    [46.818188, 8.227512],\n",
    "    [7.539989, -5.54708],\n",
    "    [35.86166, 104.195397],\n",
    "    [51.165691, 10.451526],\n",
    "    [-0.803689, 11.609444],\n",
    "    [55.378051, -3.435973],\n",
    "    [22.396428, 114.109497],\n",
    "    [12.565679, 104.990963],\n",
    "    [35.907757, 127.766922],\n",
    "    [19.85627, 102.495496],\n",
    "    [4.210484, 101.975766],\n",
    "    [52.132633, 5.291266],\n",
    "    [-40.900557, 174.885971],\n",
    "    [1.352083, 103.819836],\n",
    "    [8.619543, 0.824782],\n",
    "    [15.870032, 100.992541],\n",
    "    [-6.369028, 34.888822],\n",
    "    [1.373333, 32.290275],\n",
    "    [37.09024, -95.712891],\n",
    "    [14.058324, 108.277199],\n",
    "    [-30.559482, 22.937506]\n",
    "]\n",
    "for index in range(len(lonlats)):\n",
    "    lonlats[index][0], lonlats[index][1] = lonlats[index][1], lonlats[index][0]"
   ]
  },
  {
   "cell_type": "code",
   "execution_count": 8,
   "metadata": {},
   "outputs": [
    {
     "data": {
      "text/plain": [
       "{'AU': [133.775136, -25.274398],\n",
       " 'BI': [29.918886, -3.373056],\n",
       " 'CD': [21.758664, -4.038333],\n",
       " 'CG': [15.827659, -0.228021],\n",
       " 'CH': [8.227512, 46.818188],\n",
       " 'CI': [-5.54708, 7.539989],\n",
       " 'CN': [104.195397, 35.86166],\n",
       " 'DE': [10.451526, 51.165691],\n",
       " 'GA': [11.609444, -0.803689],\n",
       " 'GB': [-3.435973, 55.378051],\n",
       " 'HK': [114.109497, 22.396428],\n",
       " 'KH': [104.990963, 12.565679],\n",
       " 'KR': [127.766922, 35.907757],\n",
       " 'LA': [102.495496, 19.85627],\n",
       " 'MY': [101.975766, 4.210484],\n",
       " 'NL': [5.291266, 52.132633],\n",
       " 'NZ': [174.885971, -40.900557],\n",
       " 'SG': [103.819836, 1.352083],\n",
       " 'TG': [0.824782, 8.619543],\n",
       " 'TH': [100.992541, 15.870032],\n",
       " 'TZ': [34.888822, -6.369028],\n",
       " 'UG': [32.290275, 1.373333],\n",
       " 'US': [-95.712891, 37.09024],\n",
       " 'VN': [108.277199, 14.058324],\n",
       " 'ZA': [22.937506, -30.559482]}"
      ]
     },
     "execution_count": 8,
     "metadata": {},
     "output_type": "execute_result"
    }
   ],
   "source": [
    "dict_code_lonlat = dict(zip(countries, lonlats))\n",
    "dict_code_lonlat"
   ]
  },
  {
   "cell_type": "code",
   "execution_count": 9,
   "metadata": {
    "collapsed": true
   },
   "outputs": [],
   "source": [
    "def tojson(_df):\n",
    "    result = list()\n",
    "    for index, row in _df.iterrows():\n",
    "        result.append({\n",
    "            'year': row['year'],\n",
    "            'route': [dict_code_lonlat[row['exporter']], dict_code_lonlat[row['importer']]], #follow from - to for visuals \n",
    "            'quantity': row['quantity']\n",
    "        })\n",
    "        \n",
    "    return result\n",
    "\n",
    "import_json = tojson(df_import)\n",
    "export_json = tojson(df_export)\n"
   ]
  },
  {
   "cell_type": "code",
   "execution_count": 10,
   "metadata": {
    "collapsed": true
   },
   "outputs": [],
   "source": [
    "import json\n",
    "with open('../charts/assets/import_scales.json', 'w') as outfile:\n",
    "    json.dump(import_json, outfile)\n"
   ]
  },
  {
   "cell_type": "code",
   "execution_count": 11,
   "metadata": {
    "collapsed": true
   },
   "outputs": [],
   "source": [
    "with open('../charts/assets/export_scales.json', 'w') as outfile:\n",
    "    json.dump(export_json, outfile)"
   ]
  },
  {
   "cell_type": "code",
   "execution_count": 16,
   "metadata": {},
   "outputs": [
    {
     "data": {
      "text/html": [
       "<div>\n",
       "<style>\n",
       "    .dataframe thead tr:only-child th {\n",
       "        text-align: right;\n",
       "    }\n",
       "\n",
       "    .dataframe thead th {\n",
       "        text-align: left;\n",
       "    }\n",
       "\n",
       "    .dataframe tbody tr th {\n",
       "        vertical-align: top;\n",
       "    }\n",
       "</style>\n",
       "<table border=\"1\" class=\"dataframe\">\n",
       "  <thead>\n",
       "    <tr style=\"text-align: right;\">\n",
       "      <th></th>\n",
       "      <th>quantity</th>\n",
       "    </tr>\n",
       "    <tr>\n",
       "      <th>year</th>\n",
       "      <th></th>\n",
       "    </tr>\n",
       "  </thead>\n",
       "  <tbody>\n",
       "    <tr>\n",
       "      <th>1994</th>\n",
       "      <td>2000.0</td>\n",
       "    </tr>\n",
       "    <tr>\n",
       "      <th>1996</th>\n",
       "      <td>4000.0</td>\n",
       "    </tr>\n",
       "    <tr>\n",
       "      <th>2010</th>\n",
       "      <td>1500.0</td>\n",
       "    </tr>\n",
       "    <tr>\n",
       "      <th>2012</th>\n",
       "      <td>800.0</td>\n",
       "    </tr>\n",
       "    <tr>\n",
       "      <th>2014</th>\n",
       "      <td>3948.0</td>\n",
       "    </tr>\n",
       "    <tr>\n",
       "      <th>2015</th>\n",
       "      <td>1950.0</td>\n",
       "    </tr>\n",
       "    <tr>\n",
       "      <th>2016</th>\n",
       "      <td>4500.0</td>\n",
       "    </tr>\n",
       "    <tr>\n",
       "      <th>2017</th>\n",
       "      <td>5000.0</td>\n",
       "    </tr>\n",
       "  </tbody>\n",
       "</table>\n",
       "</div>"
      ],
      "text/plain": [
       "      quantity\n",
       "year          \n",
       "1994    2000.0\n",
       "1996    4000.0\n",
       "2010    1500.0\n",
       "2012     800.0\n",
       "2014    3948.0\n",
       "2015    1950.0\n",
       "2016    4500.0\n",
       "2017    5000.0"
      ]
     },
     "execution_count": 16,
     "metadata": {},
     "output_type": "execute_result"
    }
   ],
   "source": [
    "df_import[df_import['importer']=='CN'].groupby('year').sum()"
   ]
  },
  {
   "cell_type": "code",
   "execution_count": null,
   "metadata": {
    "collapsed": true
   },
   "outputs": [],
   "source": []
  }
 ],
 "metadata": {
  "kernelspec": {
   "display_name": "Python 3",
   "language": "python",
   "name": "python3"
  },
  "language_info": {
   "codemirror_mode": {
    "name": "ipython",
    "version": 3
   },
   "file_extension": ".py",
   "mimetype": "text/x-python",
   "name": "python",
   "nbconvert_exporter": "python",
   "pygments_lexer": "ipython3",
   "version": "3.6.1"
  }
 },
 "nbformat": 4,
 "nbformat_minor": 2
}
