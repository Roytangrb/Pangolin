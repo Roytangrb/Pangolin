{
 "cells": [
  {
   "cell_type": "markdown",
   "metadata": {},
   "source": [
    "## CITES Manidae Subset Analysis"
   ]
  },
  {
   "cell_type": "code",
   "execution_count": 54,
   "metadata": {
    "collapsed": true
   },
   "outputs": [],
   "source": [
    "import numpy as np\n",
    "import pandas as pd\n",
    "import matplotlib.pyplot as plt\n",
    "%matplotlib inline\n",
    "plt.rcParams['figure.figsize'] = [12, 6]"
   ]
  },
  {
   "cell_type": "code",
   "execution_count": 3,
   "metadata": {
    "scrolled": true
   },
   "outputs": [
    {
     "data": {
      "text/html": [
       "<div>\n",
       "<style>\n",
       "    .dataframe thead tr:only-child th {\n",
       "        text-align: right;\n",
       "    }\n",
       "\n",
       "    .dataframe thead th {\n",
       "        text-align: left;\n",
       "    }\n",
       "\n",
       "    .dataframe tbody tr th {\n",
       "        vertical-align: top;\n",
       "    }\n",
       "</style>\n",
       "<table border=\"1\" class=\"dataframe\">\n",
       "  <thead>\n",
       "    <tr style=\"text-align: right;\">\n",
       "      <th></th>\n",
       "      <th>year</th>\n",
       "      <th>appendix</th>\n",
       "      <th>taxon</th>\n",
       "      <th>class</th>\n",
       "      <th>ord</th>\n",
       "      <th>family</th>\n",
       "      <th>genus</th>\n",
       "      <th>term</th>\n",
       "      <th>quantity</th>\n",
       "      <th>unit</th>\n",
       "      <th>importer</th>\n",
       "      <th>exporter</th>\n",
       "      <th>origin</th>\n",
       "      <th>purpose</th>\n",
       "      <th>source</th>\n",
       "      <th>reporter_type</th>\n",
       "    </tr>\n",
       "  </thead>\n",
       "  <tbody>\n",
       "    <tr>\n",
       "      <th>0</th>\n",
       "      <td>1979</td>\n",
       "      <td>II</td>\n",
       "      <td>Manis spp.</td>\n",
       "      <td>Mammalia</td>\n",
       "      <td>Pholidota</td>\n",
       "      <td>Manidae</td>\n",
       "      <td>Manis</td>\n",
       "      <td>skins</td>\n",
       "      <td>356.0</td>\n",
       "      <td>NaN</td>\n",
       "      <td>US</td>\n",
       "      <td>ES</td>\n",
       "      <td>XX</td>\n",
       "      <td>T</td>\n",
       "      <td>NaN</td>\n",
       "      <td>I</td>\n",
       "    </tr>\n",
       "    <tr>\n",
       "      <th>1</th>\n",
       "      <td>1981</td>\n",
       "      <td>II</td>\n",
       "      <td>Manis spp.</td>\n",
       "      <td>Mammalia</td>\n",
       "      <td>Pholidota</td>\n",
       "      <td>Manidae</td>\n",
       "      <td>Manis</td>\n",
       "      <td>skin pieces</td>\n",
       "      <td>1.0</td>\n",
       "      <td>cartons</td>\n",
       "      <td>HK</td>\n",
       "      <td>XX</td>\n",
       "      <td>NaN</td>\n",
       "      <td>NaN</td>\n",
       "      <td>I</td>\n",
       "      <td>I</td>\n",
       "    </tr>\n",
       "    <tr>\n",
       "      <th>2</th>\n",
       "      <td>1981</td>\n",
       "      <td>II</td>\n",
       "      <td>Manis spp.</td>\n",
       "      <td>Mammalia</td>\n",
       "      <td>Pholidota</td>\n",
       "      <td>Manidae</td>\n",
       "      <td>Manis</td>\n",
       "      <td>shoes</td>\n",
       "      <td>1.0</td>\n",
       "      <td>NaN</td>\n",
       "      <td>US</td>\n",
       "      <td>XX</td>\n",
       "      <td>TH</td>\n",
       "      <td>P</td>\n",
       "      <td>NaN</td>\n",
       "      <td>I</td>\n",
       "    </tr>\n",
       "    <tr>\n",
       "      <th>3</th>\n",
       "      <td>1981</td>\n",
       "      <td>II</td>\n",
       "      <td>Manis spp.</td>\n",
       "      <td>Mammalia</td>\n",
       "      <td>Pholidota</td>\n",
       "      <td>Manidae</td>\n",
       "      <td>Manis</td>\n",
       "      <td>shoes</td>\n",
       "      <td>2.0</td>\n",
       "      <td>NaN</td>\n",
       "      <td>US</td>\n",
       "      <td>XX</td>\n",
       "      <td>TH</td>\n",
       "      <td>P</td>\n",
       "      <td>NaN</td>\n",
       "      <td>I</td>\n",
       "    </tr>\n",
       "    <tr>\n",
       "      <th>4</th>\n",
       "      <td>1981</td>\n",
       "      <td>II</td>\n",
       "      <td>Manis spp.</td>\n",
       "      <td>Mammalia</td>\n",
       "      <td>Pholidota</td>\n",
       "      <td>Manidae</td>\n",
       "      <td>Manis</td>\n",
       "      <td>leather items</td>\n",
       "      <td>2.0</td>\n",
       "      <td>NaN</td>\n",
       "      <td>US</td>\n",
       "      <td>XX</td>\n",
       "      <td>TH</td>\n",
       "      <td>P</td>\n",
       "      <td>NaN</td>\n",
       "      <td>I</td>\n",
       "    </tr>\n",
       "  </tbody>\n",
       "</table>\n",
       "</div>"
      ],
      "text/plain": [
       "   year appendix       taxon     class        ord   family  genus  \\\n",
       "0  1979       II  Manis spp.  Mammalia  Pholidota  Manidae  Manis   \n",
       "1  1981       II  Manis spp.  Mammalia  Pholidota  Manidae  Manis   \n",
       "2  1981       II  Manis spp.  Mammalia  Pholidota  Manidae  Manis   \n",
       "3  1981       II  Manis spp.  Mammalia  Pholidota  Manidae  Manis   \n",
       "4  1981       II  Manis spp.  Mammalia  Pholidota  Manidae  Manis   \n",
       "\n",
       "            term  quantity     unit importer exporter origin purpose source  \\\n",
       "0          skins     356.0      NaN       US       ES     XX       T    NaN   \n",
       "1    skin pieces       1.0  cartons       HK       XX    NaN     NaN      I   \n",
       "2          shoes       1.0      NaN       US       XX     TH       P    NaN   \n",
       "3          shoes       2.0      NaN       US       XX     TH       P    NaN   \n",
       "4  leather items       2.0      NaN       US       XX     TH       P    NaN   \n",
       "\n",
       "  reporter_type  \n",
       "0             I  \n",
       "1             I  \n",
       "2             I  \n",
       "3             I  \n",
       "4             I  "
      ]
     },
     "execution_count": 3,
     "metadata": {},
     "output_type": "execute_result"
    }
   ],
   "source": [
    "df = pd.read_csv('./manidae.csv')\n",
    "df = df.drop(['id', 'import_permit_randomid', 'export_permit_randomid', 'origin_permit_randomid'], axis=1)\n",
    "df.head()"
   ]
  },
  {
   "cell_type": "markdown",
   "metadata": {},
   "source": [
    "## Basic Stats"
   ]
  },
  {
   "cell_type": "code",
   "execution_count": 9,
   "metadata": {},
   "outputs": [
    {
     "data": {
      "text/plain": [
       "3631"
      ]
     },
     "execution_count": 9,
     "metadata": {},
     "output_type": "execute_result"
    }
   ],
   "source": [
    "len(df)"
   ]
  },
  {
   "cell_type": "markdown",
   "metadata": {},
   "source": [
    "#### Taxons"
   ]
  },
  {
   "cell_type": "code",
   "execution_count": 11,
   "metadata": {},
   "outputs": [
    {
     "data": {
      "text/html": [
       "<div>\n",
       "<style>\n",
       "    .dataframe thead tr:only-child th {\n",
       "        text-align: right;\n",
       "    }\n",
       "\n",
       "    .dataframe thead th {\n",
       "        text-align: left;\n",
       "    }\n",
       "\n",
       "    .dataframe tbody tr th {\n",
       "        vertical-align: top;\n",
       "    }\n",
       "</style>\n",
       "<table border=\"1\" class=\"dataframe\">\n",
       "  <thead>\n",
       "    <tr style=\"text-align: right;\">\n",
       "      <th></th>\n",
       "      <th>taxon</th>\n",
       "      <th>record_count</th>\n",
       "    </tr>\n",
       "  </thead>\n",
       "  <tbody>\n",
       "    <tr>\n",
       "      <th>4</th>\n",
       "      <td>Manis javanica</td>\n",
       "      <td>2134</td>\n",
       "    </tr>\n",
       "    <tr>\n",
       "      <th>6</th>\n",
       "      <td>Manis spp.</td>\n",
       "      <td>552</td>\n",
       "    </tr>\n",
       "    <tr>\n",
       "      <th>5</th>\n",
       "      <td>Manis pentadactyla</td>\n",
       "      <td>541</td>\n",
       "    </tr>\n",
       "    <tr>\n",
       "      <th>9</th>\n",
       "      <td>Manis tricuspis</td>\n",
       "      <td>163</td>\n",
       "    </tr>\n",
       "    <tr>\n",
       "      <th>3</th>\n",
       "      <td>Manis gigantea</td>\n",
       "      <td>105</td>\n",
       "    </tr>\n",
       "    <tr>\n",
       "      <th>8</th>\n",
       "      <td>Manis tetradactyla</td>\n",
       "      <td>52</td>\n",
       "    </tr>\n",
       "    <tr>\n",
       "      <th>1</th>\n",
       "      <td>Manis crassicaudata</td>\n",
       "      <td>41</td>\n",
       "    </tr>\n",
       "    <tr>\n",
       "      <th>7</th>\n",
       "      <td>Manis temminckii</td>\n",
       "      <td>35</td>\n",
       "    </tr>\n",
       "    <tr>\n",
       "      <th>2</th>\n",
       "      <td>Manis culionensis</td>\n",
       "      <td>7</td>\n",
       "    </tr>\n",
       "    <tr>\n",
       "      <th>0</th>\n",
       "      <td>Manidae spp.</td>\n",
       "      <td>1</td>\n",
       "    </tr>\n",
       "  </tbody>\n",
       "</table>\n",
       "</div>"
      ],
      "text/plain": [
       "                 taxon  record_count\n",
       "4       Manis javanica          2134\n",
       "6           Manis spp.           552\n",
       "5   Manis pentadactyla           541\n",
       "9      Manis tricuspis           163\n",
       "3       Manis gigantea           105\n",
       "8   Manis tetradactyla            52\n",
       "1  Manis crassicaudata            41\n",
       "7     Manis temminckii            35\n",
       "2    Manis culionensis             7\n",
       "0         Manidae spp.             1"
      ]
     },
     "execution_count": 11,
     "metadata": {},
     "output_type": "execute_result"
    }
   ],
   "source": [
    "df.groupby(['taxon']).size().reset_index().rename(columns={0:'record_count'}).sort_values(by=\"record_count\", ascending=False)"
   ]
  },
  {
   "cell_type": "markdown",
   "metadata": {},
   "source": [
    "#### EXCEPTION CASE\n",
    " - all cases are under the same class, order, and family with manis genus, one exception will null datum"
   ]
  },
  {
   "cell_type": "code",
   "execution_count": 16,
   "metadata": {},
   "outputs": [
    {
     "data": {
      "text/html": [
       "<div>\n",
       "<style>\n",
       "    .dataframe thead tr:only-child th {\n",
       "        text-align: right;\n",
       "    }\n",
       "\n",
       "    .dataframe thead th {\n",
       "        text-align: left;\n",
       "    }\n",
       "\n",
       "    .dataframe tbody tr th {\n",
       "        vertical-align: top;\n",
       "    }\n",
       "</style>\n",
       "<table border=\"1\" class=\"dataframe\">\n",
       "  <thead>\n",
       "    <tr style=\"text-align: right;\">\n",
       "      <th></th>\n",
       "      <th>year</th>\n",
       "      <th>appendix</th>\n",
       "      <th>taxon</th>\n",
       "      <th>class</th>\n",
       "      <th>ord</th>\n",
       "      <th>family</th>\n",
       "      <th>genus</th>\n",
       "      <th>term</th>\n",
       "      <th>quantity</th>\n",
       "      <th>unit</th>\n",
       "      <th>importer</th>\n",
       "      <th>exporter</th>\n",
       "      <th>origin</th>\n",
       "      <th>purpose</th>\n",
       "      <th>source</th>\n",
       "      <th>reporter_type</th>\n",
       "    </tr>\n",
       "  </thead>\n",
       "  <tbody>\n",
       "    <tr>\n",
       "      <th>3626</th>\n",
       "      <td>2017</td>\n",
       "      <td>I</td>\n",
       "      <td>Manidae spp.</td>\n",
       "      <td>Mammalia</td>\n",
       "      <td>Pholidota</td>\n",
       "      <td>Manidae</td>\n",
       "      <td>NaN</td>\n",
       "      <td>scales</td>\n",
       "      <td>14.8</td>\n",
       "      <td>kg</td>\n",
       "      <td>ZA</td>\n",
       "      <td>HK</td>\n",
       "      <td>NaN</td>\n",
       "      <td>L</td>\n",
       "      <td>I</td>\n",
       "      <td>I</td>\n",
       "    </tr>\n",
       "  </tbody>\n",
       "</table>\n",
       "</div>"
      ],
      "text/plain": [
       "      year appendix         taxon     class        ord   family genus    term  \\\n",
       "3626  2017        I  Manidae spp.  Mammalia  Pholidota  Manidae   NaN  scales   \n",
       "\n",
       "      quantity unit importer exporter origin purpose source reporter_type  \n",
       "3626      14.8   kg       ZA       HK    NaN       L      I             I  "
      ]
     },
     "execution_count": 16,
     "metadata": {},
     "output_type": "execute_result"
    }
   ],
   "source": [
    "df[df['genus'].isnull()]"
   ]
  },
  {
   "cell_type": "markdown",
   "metadata": {
    "collapsed": true
   },
   "source": [
    "### Reported records of import of different pangolins by year"
   ]
  },
  {
   "cell_type": "code",
   "execution_count": 56,
   "metadata": {},
   "outputs": [
    {
     "data": {
      "text/plain": [
       "<matplotlib.axes._subplots.AxesSubplot at 0x112a87748>"
      ]
     },
     "execution_count": 56,
     "metadata": {},
     "output_type": "execute_result"
    },
    {
     "data": {
      "image/png": "[encoded data removed]",
      "text/plain": [
       "<matplotlib.figure.Figure at 0x112dc0c18>"
      ]
     },
     "metadata": {},
     "output_type": "display_data"
    }
   ],
   "source": [
    "df_import = df[df['reporter_type'] == 'I']\n",
    "df_import_grouped_by_year_taxon = df_import.groupby(['year', 'taxon']).size().to_frame()\n",
    "df_import_grouped_by_year_taxon.columns = ['size']\n",
    "import_record_plot = df_import_grouped_by_year_taxon.unstack('taxon').loc[:, 'size']\n",
    "#aggregate along the years\n",
    "def aggYear(record_plot):\n",
    "    for column in record_plot:\n",
    "        prev = 0\n",
    "        new_col = list()\n",
    "        for cell in record_plot[column]:\n",
    "            if (cell > 0):\n",
    "                if (prev > 0):\n",
    "                    cell = cell + prev\n",
    "            else:\n",
    "                cell = prev\n",
    "            prev = cell\n",
    "            new_col.append(cell)\n",
    "        record_plot.drop(column, axis=1, inplace=True)\n",
    "        record_plot[column] = new_col\n",
    "\n",
    "aggYear(import_record_plot)\n",
    "import_record_plot.plot()"
   ]
  },
  {
   "cell_type": "markdown",
   "metadata": {
    "collapsed": true
   },
   "source": [
    "### Reported records of import of different pangolins by year"
   ]
  },
  {
   "cell_type": "code",
   "execution_count": 58,
   "metadata": {},
   "outputs": [
    {
     "name": "stdout",
     "output_type": "stream",
     "text": [
      "1252\n"
     ]
    },
    {
     "data": {
      "text/plain": [
       "<matplotlib.axes._subplots.AxesSubplot at 0x1130859b0>"
      ]
     },
     "execution_count": 58,
     "metadata": {},
     "output_type": "execute_result"
    },
    {
     "data": {
      "image/png": "[encoded data removed]",
      "text/plain": [
       "<matplotlib.figure.Figure at 0x112fde0f0>"
      ]
     },
     "metadata": {},
     "output_type": "display_data"
    }
   ],
   "source": [
    "df_export = df[df['reporter_type'] == 'E']\n",
    "print(len(df_export))\n",
    "df_export_grouped_by_year_taxon = df_export.groupby(['year', 'taxon']).size().to_frame()\n",
    "df_export_grouped_by_year_taxon.columns = ['size']\n",
    "export_record_plot = df_export_grouped_by_year_taxon.unstack('taxon').loc[:, 'size']\n",
    "#aggregate along the years\n",
    "\n",
    "aggYear(export_record_plot)\n",
    "export_record_plot.plot()"
   ]
  },
  {
   "cell_type": "code",
   "execution_count": null,
   "metadata": {
    "collapsed": true
   },
   "outputs": [],
   "source": []
  }
 ],
 "metadata": {
  "kernelspec": {
   "display_name": "Python 3",
   "language": "python",
   "name": "python3"
  },
  "language_info": {
   "codemirror_mode": {
    "name": "ipython",
    "version": 3
   },
   "file_extension": ".py",
   "mimetype": "text/x-python",
   "name": "python",
   "nbconvert_exporter": "python",
   "pygments_lexer": "ipython3",
   "version": "3.6.1"
  }
 },
 "nbformat": 4,
 "nbformat_minor": 2
}
